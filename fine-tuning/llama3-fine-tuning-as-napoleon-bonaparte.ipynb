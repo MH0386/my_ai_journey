{
 "cells": [
  {
   "cell_type": "markdown",
   "metadata": {},
   "source": "<a href=\"https://www.kaggle.com/code/mh0386/llama3-fine-tuning-as-napoleon-bonaparte?scriptVersionId=221508905\" target=\"_blank\"><img align=\"left\" alt=\"Kaggle\" title=\"Open in Kaggle\" src=\"https://kaggle.com/static/images/open-in-kaggle.svg\"></a>"
  },
  {
   "cell_type": "code",
   "execution_count": null,
   "metadata": {
    "_cell_guid": "b1076dfc-b9ad-4769-8c92-a6c4dae69d19",
    "_uuid": "8f2839f25d086af736a60e9eeb907d3b93b6e0e5",
    "execution": {
     "iopub.execute_input": "2024-04-18T18:38:16.2414Z",
     "iopub.status.busy": "2024-04-18T18:38:16.241094Z",
     "iopub.status.idle": "2024-04-18T18:38:37.216883Z",
     "shell.execute_reply": "2024-04-18T18:38:37.213587Z",
     "shell.execute_reply.started": "2024-04-18T18:38:16.241373Z"
    },
    "trusted": true
   },
   "outputs": [],
   "source": [
    "from dataclasses import dataclass, field\n",
    "from pprint import pprint\n",
    "from typing import Optional\n",
    "import huggingface_hub as hf_hub\n",
    "import torch\n",
    "import wandb\n",
    "from datetime import datetime, timedelta, timezone\n",
    "from datasets import load_dataset\n",
    "from peft import (\n",
    "    LoraConfig,\n",
    "    get_peft_model,\n",
    "    prepare_model_for_kbit_training,\n",
    ")\n",
    "from transformers import (\n",
    "    AutoModelForCausalLM,\n",
    "    AutoTokenizer,\n",
    "    BitsAndBytesConfig,\n",
    "    HfArgumentParser,\n",
    "    TrainingArguments,\n",
    "    DataCollatorForLanguageModeling,\n",
    "    Trainer,\n",
    ")\n",
    "import os\n",
    "from kaggle_secrets import UserSecretsClient"
   ]
  },
  {
   "cell_type": "code",
   "execution_count": null,
   "metadata": {
    "execution": {
     "iopub.execute_input": "2024-04-18T18:38:37.219805Z",
     "iopub.status.busy": "2024-04-18T18:38:37.218866Z",
     "iopub.status.idle": "2024-04-18T18:38:40.683021Z",
     "shell.execute_reply": "2024-04-18T18:38:40.682032Z",
     "shell.execute_reply.started": "2024-04-18T18:38:37.21977Z"
    },
    "trusted": true
   },
   "outputs": [],
   "source": [
    "!git config --global credential.helper store\n",
    "hf_hub.login(token=UserSecretsClient().get_secret(\"hf\"), add_to_git_credential=True)\n",
    "wandb.login(key=UserSecretsClient().get_secret(\"wandb\"))"
   ]
  },
  {
   "cell_type": "code",
   "execution_count": null,
   "metadata": {
    "trusted": true
   },
   "outputs": [],
   "source": [
    "os.environ[\"CUDA_VISIBLE_DEVICES\"] = \"0,1\"\n",
    "os.environ[\"WANDB_PROJECT\"] = \"Chatacter\"\n",
    "os.environ[\"WANDB_LOG_MODEL\"] = \"checkpoint\"\n",
    "os.environ[\"WANDB_WATCH\"] = \"all\""
   ]
  },
  {
   "cell_type": "code",
   "execution_count": null,
   "metadata": {
    "execution": {
     "iopub.execute_input": "2024-04-18T18:38:40.685115Z",
     "iopub.status.busy": "2024-04-18T18:38:40.684521Z",
     "iopub.status.idle": "2024-04-18T18:38:40.699918Z",
     "shell.execute_reply": "2024-04-18T18:38:40.698787Z",
     "shell.execute_reply.started": "2024-04-18T18:38:40.685086Z"
    },
    "trusted": true
   },
   "outputs": [],
   "source": [
    "@dataclass\n",
    "class ScriptArguments:\n",
    "    \"\"\"\n",
    "    These arguments vary depending on how many GPUs you have, what their capacity and features are, and what size model you want to train.\n",
    "    \"\"\"\n",
    "\n",
    "    per_device_train_batch_size: Optional[int] = field(default=8)\n",
    "    #     per_device_eval_batch_size: Optional[int] = field(default=1)\n",
    "    auto_find_batch_size: Optional[bool] = field(default=True)\n",
    "    gradient_accumulation_steps: Optional[int] = field(default=4)\n",
    "    learning_rate: Optional[float] = field(default=2e-4)\n",
    "    max_grad_norm: Optional[float] = field(default=0.3)\n",
    "    weight_decay: Optional[int] = field(default=0.001)\n",
    "    lora_alpha: Optional[int] = field(default=32)\n",
    "    lora_dropout: Optional[float] = field(default=0.05)\n",
    "    lora_r: Optional[int] = field(default=16)\n",
    "    max_seq_length: Optional[int] = field(default=None)\n",
    "    model_name: Optional[str] = field(default=\"meta-llama/Meta-Llama-3-8B-Instruct\")\n",
    "    dataset_name: Optional[str] = field(default=\"MH0386/napoleon_bonaparte\")\n",
    "    hf_username: Optional[str] = field(default=\"MH0386\")\n",
    "    fp16: Optional[bool] = field(default=True)\n",
    "    bf16: Optional[bool] = field(default=True)\n",
    "    packing: Optional[bool] = field(\n",
    "        default=False, metadata={\"help\": \"Use packing dataset creating.\"}\n",
    "    )\n",
    "    gradient_checkpointing: Optional[bool] = field(\n",
    "        default=True, metadata={\"help\": \"Enables gradient checkpointing.\"}\n",
    "    )\n",
    "    use_flash_attention_2: Optional[bool] = field(\n",
    "        default=True, metadata={\"help\": \"Enables Flash Attention 2.\"}\n",
    "    )\n",
    "    optim: Optional[str] = field(\n",
    "        default=\"paged_adamw_8bit\", metadata={\"help\": \"The optimizer to use.\"}\n",
    "    )\n",
    "    lr_scheduler_type: str = field(\n",
    "        default=\"linear\",  # constant\n",
    "        metadata={\n",
    "            \"help\": \"Learning rate schedule. Constant a bit better than cosine, and has advantage for analysis\"\n",
    "        },\n",
    "    )\n",
    "    max_steps: int = field(\n",
    "        default=1000, metadata={\"help\": \"How many optimizer update steps to take\"}\n",
    "    )\n",
    "    warmup_ratio: float = field(\n",
    "        default=0.05, metadata={\"help\": \"Fraction of steps to do a warmup for\"}\n",
    "    )\n",
    "    save_steps: int = field(\n",
    "        default=100, metadata={\"help\": \"Save checkpoint every X updates steps.\"}\n",
    "    )\n",
    "    logging_steps: int = field(\n",
    "        default=1, metadata={\"help\": \"Log every X updates steps.\"}\n",
    "    )\n",
    "    output_dir: str = field(\n",
    "        default=\"MH0386/llama-3-napoleon-bonaparte\",\n",
    "        metadata={\n",
    "            \"help\": \"The output directory where the model predictions and checkpoints will be written.\"\n",
    "        },\n",
    "    )"
   ]
  },
  {
   "cell_type": "code",
   "execution_count": null,
   "metadata": {
    "execution": {
     "iopub.execute_input": "2024-04-18T18:38:40.701563Z",
     "iopub.status.busy": "2024-04-18T18:38:40.701192Z",
     "iopub.status.idle": "2024-04-18T18:38:40.714628Z",
     "shell.execute_reply": "2024-04-18T18:38:40.713816Z",
     "shell.execute_reply.started": "2024-04-18T18:38:40.701513Z"
    },
    "trusted": true
   },
   "outputs": [],
   "source": [
    "parser = HfArgumentParser(ScriptArguments)\n",
    "script_args = parser.parse_args_into_dataclasses(return_remaining_strings=True)[0]"
   ]
  },
  {
   "cell_type": "code",
   "execution_count": null,
   "metadata": {
    "execution": {
     "iopub.execute_input": "2024-04-18T18:38:40.716039Z",
     "iopub.status.busy": "2024-04-18T18:38:40.715695Z",
     "iopub.status.idle": "2024-04-18T18:38:40.723916Z",
     "shell.execute_reply": "2024-04-18T18:38:40.722978Z",
     "shell.execute_reply.started": "2024-04-18T18:38:40.716008Z"
    },
    "trusted": true
   },
   "outputs": [],
   "source": [
    "pprint(script_args)"
   ]
  },
  {
   "cell_type": "code",
   "execution_count": null,
   "metadata": {
    "execution": {
     "iopub.execute_input": "2024-04-18T19:16:29.787647Z",
     "iopub.status.busy": "2024-04-18T19:16:29.786876Z",
     "iopub.status.idle": "2024-04-18T19:16:30.419813Z",
     "shell.execute_reply": "2024-04-18T19:16:30.418895Z",
     "shell.execute_reply.started": "2024-04-18T19:16:29.787613Z"
    },
    "trusted": true
   },
   "outputs": [],
   "source": [
    "def formatting_func(example):\n",
    "    full_prompt = f\"<|begin_of_text|><|start_header_id|>system<|end_header_id|>\\n\\nYou are Napoleon Bonaparte<|eot_id|><|start_header_id|>user<|end_header_id|>\\n\\n{example['Q']}<|eot_id|><|start_header_id|>assistant<|end_header_id|>\\n\\n{example['A']}<|eot_id|>\"\n",
    "    tokenized_full_prompt = tokenizer(full_prompt, padding=True, truncation=True)\n",
    "    return tokenized_full_prompt"
   ]
  },
  {
   "cell_type": "code",
   "execution_count": null,
   "metadata": {
    "execution": {
     "iopub.execute_input": "2024-04-18T18:38:40.73482Z",
     "iopub.status.busy": "2024-04-18T18:38:40.734474Z",
     "iopub.status.idle": "2024-04-18T18:38:40.746096Z",
     "shell.execute_reply": "2024-04-18T18:38:40.745275Z",
     "shell.execute_reply.started": "2024-04-18T18:38:40.734789Z"
    },
    "trusted": true
   },
   "outputs": [],
   "source": [
    "quantization_config = BitsAndBytesConfig(\n",
    "    load_in_4bit=True,\n",
    "    bnb_4bit_use_double_quant=True,\n",
    "    bnb_4bit_compute_dtype=torch.float16,\n",
    "    bnb_4bit_quant_type=\"nf4\",\n",
    ")"
   ]
  },
  {
   "cell_type": "code",
   "execution_count": null,
   "metadata": {
    "execution": {
     "iopub.execute_input": "2024-04-18T18:38:40.747649Z",
     "iopub.status.busy": "2024-04-18T18:38:40.747298Z",
     "iopub.status.idle": "2024-04-18T18:41:48.260721Z",
     "shell.execute_reply": "2024-04-18T18:41:48.259818Z",
     "shell.execute_reply.started": "2024-04-18T18:38:40.747619Z"
    },
    "trusted": true
   },
   "outputs": [],
   "source": [
    "model = AutoModelForCausalLM.from_pretrained(\n",
    "    script_args.model_name,\n",
    "    quantization_config=quantization_config,\n",
    "    device_map=\"auto\",\n",
    "    #     attn_implementation=\"sdpa\" if not script_args.use_flash_attention_2 else \"flash_attention_2\"\n",
    ")"
   ]
  },
  {
   "cell_type": "code",
   "execution_count": null,
   "metadata": {
    "execution": {
     "iopub.execute_input": "2024-04-18T18:41:48.26224Z",
     "iopub.status.busy": "2024-04-18T18:41:48.261943Z",
     "iopub.status.idle": "2024-04-18T18:41:48.266707Z",
     "shell.execute_reply": "2024-04-18T18:41:48.265688Z",
     "shell.execute_reply.started": "2024-04-18T18:41:48.262215Z"
    },
    "trusted": true
   },
   "outputs": [],
   "source": [
    "model.config.use_cache = False"
   ]
  },
  {
   "cell_type": "code",
   "execution_count": null,
   "metadata": {
    "execution": {
     "iopub.execute_input": "2024-04-18T18:41:48.268313Z",
     "iopub.status.busy": "2024-04-18T18:41:48.267996Z",
     "iopub.status.idle": "2024-04-18T18:41:49.761198Z",
     "shell.execute_reply": "2024-04-18T18:41:49.760102Z",
     "shell.execute_reply.started": "2024-04-18T18:41:48.26829Z"
    },
    "trusted": true
   },
   "outputs": [],
   "source": [
    "tokenizer = AutoTokenizer.from_pretrained(script_args.model_name)\n",
    "tokenizer.pad_token_id = tokenizer.eos_token_id\n",
    "tokenizer.padding_side = \"right\"\n",
    "tokenizer.add_eos_token = True"
   ]
  },
  {
   "cell_type": "code",
   "execution_count": null,
   "metadata": {
    "execution": {
     "iopub.execute_input": "2024-04-18T18:41:49.762679Z",
     "iopub.status.busy": "2024-04-18T18:41:49.76236Z",
     "iopub.status.idle": "2024-04-18T18:41:49.767735Z",
     "shell.execute_reply": "2024-04-18T18:41:49.766814Z",
     "shell.execute_reply.started": "2024-04-18T18:41:49.762652Z"
    },
    "trusted": true
   },
   "outputs": [],
   "source": [
    "lora_config = LoraConfig(\n",
    "    r=script_args.lora_r,\n",
    "    target_modules=[\n",
    "        \"q_proj\",\n",
    "        \"k_proj\",\n",
    "        \"v_proj\",\n",
    "        \"o_proj\",\n",
    "        \"gate_proj\",\n",
    "        \"up_proj\",\n",
    "        \"down_proj\",\n",
    "        \"lm_head\",\n",
    "    ],\n",
    "    bias=\"none\",\n",
    "    task_type=\"CAUSAL_LM\",\n",
    "    lora_alpha=script_args.lora_alpha,\n",
    "    lora_dropout=script_args.lora_dropout,\n",
    ")"
   ]
  },
  {
   "cell_type": "code",
   "execution_count": null,
   "metadata": {
    "execution": {
     "iopub.execute_input": "2024-04-18T18:41:49.769065Z",
     "iopub.status.busy": "2024-04-18T18:41:49.76877Z",
     "iopub.status.idle": "2024-04-18T18:41:50.638561Z",
     "shell.execute_reply": "2024-04-18T18:41:50.637576Z",
     "shell.execute_reply.started": "2024-04-18T18:41:49.769036Z"
    },
    "trusted": true
   },
   "outputs": [],
   "source": [
    "model.train()\n",
    "model.gradient_checkpointing_enable()\n",
    "model = prepare_model_for_kbit_training(model)\n",
    "model = get_peft_model(model, lora_config)\n",
    "model.print_trainable_parameters()"
   ]
  },
  {
   "cell_type": "code",
   "execution_count": null,
   "metadata": {
    "execution": {
     "iopub.execute_input": "2024-04-18T18:41:50.640278Z",
     "iopub.status.busy": "2024-04-18T18:41:50.639891Z",
     "iopub.status.idle": "2024-04-18T18:41:51.406384Z",
     "shell.execute_reply": "2024-04-18T18:41:51.40543Z",
     "shell.execute_reply.started": "2024-04-18T18:41:50.640244Z"
    },
    "trusted": true
   },
   "outputs": [],
   "source": [
    "model.add_adapter(peft_config=lora_config, adapter_name=\"adapter_1\")\n",
    "model.print_trainable_parameters()"
   ]
  },
  {
   "cell_type": "markdown",
   "metadata": {},
   "source": "# Data"
  },
  {
   "cell_type": "code",
   "execution_count": null,
   "metadata": {
    "execution": {
     "iopub.execute_input": "2024-04-18T18:42:43.013649Z",
     "iopub.status.busy": "2024-04-18T18:42:43.012699Z",
     "iopub.status.idle": "2024-04-18T18:42:44.070836Z",
     "shell.execute_reply": "2024-04-18T18:42:44.069943Z",
     "shell.execute_reply.started": "2024-04-18T18:42:43.013604Z"
    },
    "trusted": true
   },
   "outputs": [],
   "source": [
    "train_dataset = load_dataset(script_args.dataset_name)"
   ]
  },
  {
   "cell_type": "code",
   "execution_count": null,
   "metadata": {
    "execution": {
     "iopub.execute_input": "2024-04-18T18:42:44.07269Z",
     "iopub.status.busy": "2024-04-18T18:42:44.072381Z",
     "iopub.status.idle": "2024-04-18T18:42:44.078619Z",
     "shell.execute_reply": "2024-04-18T18:42:44.077619Z",
     "shell.execute_reply.started": "2024-04-18T18:42:44.072664Z"
    },
    "trusted": true
   },
   "outputs": [],
   "source": [
    "train_dataset"
   ]
  },
  {
   "cell_type": "code",
   "execution_count": null,
   "metadata": {
    "execution": {
     "iopub.execute_input": "2024-04-18T18:42:44.080204Z",
     "iopub.status.busy": "2024-04-18T18:42:44.079868Z",
     "iopub.status.idle": "2024-04-18T18:42:47.838048Z",
     "shell.execute_reply": "2024-04-18T18:42:47.837118Z",
     "shell.execute_reply.started": "2024-04-18T18:42:44.080173Z"
    },
    "trusted": true
   },
   "outputs": [],
   "source": [
    "train_dataset_maped = train_dataset[\"train\"].shuffle().map(formatting_func)"
   ]
  },
  {
   "cell_type": "code",
   "execution_count": null,
   "metadata": {
    "execution": {
     "iopub.execute_input": "2024-04-18T18:42:47.841585Z",
     "iopub.status.busy": "2024-04-18T18:42:47.840945Z",
     "iopub.status.idle": "2024-04-18T18:42:47.848104Z",
     "shell.execute_reply": "2024-04-18T18:42:47.846884Z",
     "shell.execute_reply.started": "2024-04-18T18:42:47.841533Z"
    },
    "trusted": true
   },
   "outputs": [],
   "source": [
    "train_dataset_maped"
   ]
  },
  {
   "cell_type": "code",
   "execution_count": null,
   "metadata": {
    "execution": {
     "iopub.execute_input": "2024-04-18T18:42:47.849856Z",
     "iopub.status.busy": "2024-04-18T18:42:47.849404Z",
     "iopub.status.idle": "2024-04-18T18:42:47.868012Z",
     "shell.execute_reply": "2024-04-18T18:42:47.867092Z",
     "shell.execute_reply.started": "2024-04-18T18:42:47.849822Z"
    },
    "trusted": true
   },
   "outputs": [],
   "source": [
    "if torch.cuda.device_count() > 1:  # If more than 1 GPU\n",
    "    model.is_parallelizable = True\n",
    "    model.model_parallel = True"
   ]
  },
  {
   "cell_type": "code",
   "execution_count": null,
   "metadata": {
    "execution": {
     "iopub.execute_input": "2024-04-18T18:42:47.869501Z",
     "iopub.status.busy": "2024-04-18T18:42:47.869158Z",
     "iopub.status.idle": "2024-04-18T18:42:47.877878Z",
     "shell.execute_reply": "2024-04-18T18:42:47.877012Z",
     "shell.execute_reply.started": "2024-04-18T18:42:47.869467Z"
    },
    "trusted": true
   },
   "outputs": [],
   "source": [
    "torch.cuda.empty_cache()"
   ]
  },
  {
   "cell_type": "code",
   "execution_count": null,
   "metadata": {
    "execution": {
     "iopub.execute_input": "2024-04-18T18:42:47.879246Z",
     "iopub.status.busy": "2024-04-18T18:42:47.87897Z",
     "iopub.status.idle": "2024-04-18T18:42:47.88675Z",
     "shell.execute_reply": "2024-04-18T18:42:47.885597Z",
     "shell.execute_reply.started": "2024-04-18T18:42:47.879223Z"
    },
    "trusted": true
   },
   "outputs": [],
   "source": [
    "collator = DataCollatorForLanguageModeling(tokenizer, mlm=False)"
   ]
  },
  {
   "cell_type": "code",
   "execution_count": null,
   "metadata": {
    "execution": {
     "iopub.execute_input": "2024-04-18T18:42:47.888327Z",
     "iopub.status.busy": "2024-04-18T18:42:47.887996Z",
     "iopub.status.idle": "2024-04-18T18:42:47.896738Z",
     "shell.execute_reply": "2024-04-18T18:42:47.895716Z",
     "shell.execute_reply.started": "2024-04-18T18:42:47.888296Z"
    },
    "trusted": true
   },
   "outputs": [],
   "source": [
    "training_arguments = TrainingArguments(\n",
    "    output_dir=script_args.output_dir,\n",
    "    per_device_train_batch_size=script_args.per_device_train_batch_size,\n",
    "    gradient_accumulation_steps=script_args.gradient_accumulation_steps,\n",
    "    optim=script_args.optim,\n",
    "    save_steps=script_args.save_steps,\n",
    "    logging_steps=script_args.logging_steps,\n",
    "    learning_rate=script_args.learning_rate,\n",
    "    max_grad_norm=script_args.max_grad_norm,\n",
    "    max_steps=script_args.max_steps,\n",
    "    warmup_ratio=script_args.warmup_ratio,\n",
    "    lr_scheduler_type=script_args.lr_scheduler_type,\n",
    "    gradient_checkpointing=script_args.gradient_checkpointing,\n",
    "    fp16=script_args.fp16,\n",
    "    #     bf16=script_args.bf16,\n",
    "    num_train_epochs=1,\n",
    "    #     evaluation_strategy=\"steps\",\n",
    "    report_to=\"wandb\",\n",
    "    run_name=f\"llama-3-napoleon-{datetime.now(timezone(timedelta(hours=2))).strftime('%Y-%m-%d-%H-%M')}\",\n",
    ")"
   ]
  },
  {
   "cell_type": "code",
   "execution_count": null,
   "metadata": {
    "execution": {
     "iopub.execute_input": "2024-04-18T18:42:47.898138Z",
     "iopub.status.busy": "2024-04-18T18:42:47.897849Z",
     "iopub.status.idle": "2024-04-18T18:42:47.920985Z",
     "shell.execute_reply": "2024-04-18T18:42:47.920091Z",
     "shell.execute_reply.started": "2024-04-18T18:42:47.898115Z"
    },
    "trusted": true
   },
   "outputs": [],
   "source": [
    "trainer = Trainer(\n",
    "    model=model,\n",
    "    args=training_arguments,\n",
    "    train_dataset=train_dataset_maped,\n",
    "    tokenizer=tokenizer,\n",
    "    data_collator=collator,\n",
    ")"
   ]
  },
  {
   "cell_type": "code",
   "execution_count": null,
   "metadata": {
    "execution": {
     "iopub.execute_input": "2024-04-18T18:42:47.924598Z",
     "iopub.status.busy": "2024-04-18T18:42:47.924011Z",
     "iopub.status.idle": "2024-04-18T18:44:12.602967Z",
     "shell.execute_reply": "2024-04-18T18:44:12.601479Z",
     "shell.execute_reply.started": "2024-04-18T18:42:47.924565Z"
    },
    "trusted": true
   },
   "outputs": [],
   "source": [
    "train_result = trainer.train()"
   ]
  },
  {
   "cell_type": "code",
   "execution_count": null,
   "metadata": {
    "execution": {
     "iopub.status.busy": "2024-04-18T18:44:12.604118Z",
     "iopub.status.idle": "2024-04-18T18:44:12.604511Z",
     "shell.execute_reply": "2024-04-18T18:44:12.604333Z",
     "shell.execute_reply.started": "2024-04-18T18:44:12.604317Z"
    },
    "trusted": true
   },
   "outputs": [],
   "source": [
    "wandb.finish()"
   ]
  },
  {
   "cell_type": "code",
   "execution_count": null,
   "metadata": {
    "execution": {
     "iopub.status.busy": "2024-04-18T18:44:12.605865Z",
     "iopub.status.idle": "2024-04-18T18:44:12.606315Z",
     "shell.execute_reply": "2024-04-18T18:44:12.606113Z",
     "shell.execute_reply.started": "2024-04-18T18:44:12.606094Z"
    },
    "trusted": true
   },
   "outputs": [],
   "source": [
    "trainer.model.save_pretrained(script_args.output_dir)"
   ]
  },
  {
   "cell_type": "code",
   "execution_count": null,
   "metadata": {
    "execution": {
     "iopub.status.busy": "2024-04-18T18:44:12.60776Z",
     "iopub.status.idle": "2024-04-18T18:44:12.608193Z",
     "shell.execute_reply": "2024-04-18T18:44:12.607988Z",
     "shell.execute_reply.started": "2024-04-18T18:44:12.60797Z"
    },
    "trusted": true
   },
   "outputs": [],
   "source": [
    "trainer.push_to_hub()"
   ]
  }
 ],
 "metadata": {
  "kaggle": {
   "accelerator": "none",
   "dataSources": [
    {
     "datasetId": 4364211,
     "sourceId": 8155794,
     "sourceType": "datasetVersion"
    }
   ],
   "dockerImageVersionId": 30839,
   "isGpuEnabled": false,
   "isInternetEnabled": true,
   "language": "python",
   "sourceType": "notebook"
  },
  "kernelspec": {
   "display_name": "Python 3",
   "language": "python",
   "name": "python3"
  },
  "language_info": {
   "codemirror_mode": {
    "name": "ipython",
    "version": 3
   },
   "file_extension": ".py",
   "mimetype": "text/x-python",
   "name": "python",
   "nbconvert_exporter": "python",
   "pygments_lexer": "ipython3",
   "version": "3.10.13"
  }
 },
 "nbformat": 4,
 "nbformat_minor": 4
}