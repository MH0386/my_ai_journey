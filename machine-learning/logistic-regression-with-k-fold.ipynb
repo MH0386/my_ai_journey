{
 "cells": [
  {
   "source": "<a href=\"https://www.kaggle.com/code/mh0386/logistic-regression?scriptVersionId=141736032\" target=\"_blank\"><img align=\"left\" alt=\"Kaggle\" title=\"Open in Kaggle\" src=\"https://kaggle.com/static/images/open-in-kaggle.svg\"></a>",
   "metadata": {},
   "cell_type": "markdown",
   "id": "7da83946a9cf33a2"
  },
  {
   "cell_type": "markdown",
   "id": "2b68a421",
   "metadata": {
    "id": "DUeOj70H3zzY",
    "papermill": {
     "duration": 0.012272,
     "end_time": "2023-09-02T13:44:49.013644",
     "exception": false,
     "start_time": "2023-09-02T13:44:49.001372",
     "status": "completed"
    },
    "tags": []
   },
   "source": [
    "# Imports"
   ]
  },
  {
   "cell_type": "code",
   "execution_count": 1,
   "id": "a96d4b54",
   "metadata": {
    "ExecuteTime": {
     "end_time": "2023-09-01T17:46:15.439184900Z",
     "start_time": "2023-09-01T17:46:15.091675700Z"
    },
    "collapsed": false,
    "execution": {
     "iopub.execute_input": "2023-09-02T13:44:49.038073Z",
     "iopub.status.busy": "2023-09-02T13:44:49.037052Z",
     "iopub.status.idle": "2023-09-02T13:44:58.700444Z",
     "shell.execute_reply": "2023-09-02T13:44:58.699372Z"
    },
    "id": "cd50323e",
    "jupyter": {
     "outputs_hidden": false
    },
    "papermill": {
     "duration": 9.678497,
     "end_time": "2023-09-02T13:44:58.703308",
     "exception": false,
     "start_time": "2023-09-02T13:44:49.024811",
     "status": "completed"
    },
    "tags": []
   },
   "outputs": [
    {
     "name": "stderr",
     "output_type": "stream",
     "text": [
      "/opt/conda/lib/python3.10/site-packages/scipy/__init__.py:146: UserWarning: A NumPy version >=1.16.5 and <1.23.0 is required for this version of SciPy (detected version 1.23.5\n",
      "  warnings.warn(f\"A NumPy version >={np_minversion} and <{np_maxversion}\"\n"
     ]
    }
   ],
   "source": [
    "from tensorflow.keras.datasets import mnist\n",
    "import numpy as np\n",
    "import pandas as pd\n",
    "from matplotlib.pyplot import plot as plt\n",
    "import sys"
   ]
  },
  {
   "cell_type": "markdown",
   "id": "d26208eb",
   "metadata": {
    "id": "jxIoGrOn361F",
    "papermill": {
     "duration": 0.010489,
     "end_time": "2023-09-02T13:44:58.724419",
     "exception": false,
     "start_time": "2023-09-02T13:44:58.71393",
     "status": "completed"
    },
    "tags": []
   },
   "source": [
    "# Standardization"
   ]
  },
  {
   "cell_type": "code",
   "execution_count": 2,
   "id": "9dfe88e9",
   "metadata": {
    "ExecuteTime": {
     "end_time": "2023-09-01T17:46:15.683118600Z",
     "start_time": "2023-09-01T17:46:15.102993Z"
    },
    "collapsed": false,
    "execution": {
     "iopub.execute_input": "2023-09-02T13:44:58.747983Z",
     "iopub.status.busy": "2023-09-02T13:44:58.747322Z",
     "iopub.status.idle": "2023-09-02T13:44:58.752849Z",
     "shell.execute_reply": "2023-09-02T13:44:58.751677Z"
    },
    "id": "333a336a",
    "jupyter": {
     "outputs_hidden": false
    },
    "papermill": {
     "duration": 0.020112,
     "end_time": "2023-09-02T13:44:58.755317",
     "exception": false,
     "start_time": "2023-09-02T13:44:58.735205",
     "status": "completed"
    },
    "tags": []
   },
   "outputs": [],
   "source": [
    "def standardize(x):\n",
    "    return (x - np.mean(x)) / np.std(x)"
   ]
  },
  {
   "cell_type": "markdown",
   "id": "cce8dd53",
   "metadata": {
    "id": "NOvkOsXY3_7o",
    "papermill": {
     "duration": 0.010525,
     "end_time": "2023-09-02T13:44:58.776784",
     "exception": false,
     "start_time": "2023-09-02T13:44:58.766259",
     "status": "completed"
    },
    "tags": []
   },
   "source": [
    "# Prediction"
   ]
  },
  {
   "cell_type": "code",
   "execution_count": 3,
   "id": "68f1f3e3",
   "metadata": {
    "ExecuteTime": {
     "end_time": "2023-09-01T17:46:15.718116900Z",
     "start_time": "2023-09-01T17:46:15.119681900Z"
    },
    "collapsed": false,
    "execution": {
     "iopub.execute_input": "2023-09-02T13:44:58.800251Z",
     "iopub.status.busy": "2023-09-02T13:44:58.799235Z",
     "iopub.status.idle": "2023-09-02T13:44:58.806302Z",
     "shell.execute_reply": "2023-09-02T13:44:58.805216Z"
    },
    "id": "87879471",
    "jupyter": {
     "outputs_hidden": false
    },
    "papermill": {
     "duration": 0.021564,
     "end_time": "2023-09-02T13:44:58.808785",
     "exception": false,
     "start_time": "2023-09-02T13:44:58.787221",
     "status": "completed"
    },
    "tags": []
   },
   "outputs": [],
   "source": [
    "def sigmoid(z):\n",
    "    return 1 / (1 + np.exp(-z))"
   ]
  },
  {
   "cell_type": "code",
   "execution_count": 4,
   "id": "8f15aa40",
   "metadata": {
    "ExecuteTime": {
     "end_time": "2023-09-01T17:46:15.742119300Z",
     "start_time": "2023-09-01T17:46:15.128393300Z"
    },
    "collapsed": false,
    "execution": {
     "iopub.execute_input": "2023-09-02T13:44:58.833864Z",
     "iopub.status.busy": "2023-09-02T13:44:58.83198Z",
     "iopub.status.idle": "2023-09-02T13:44:58.838874Z",
     "shell.execute_reply": "2023-09-02T13:44:58.837872Z"
    },
    "id": "15415839",
    "jupyter": {
     "outputs_hidden": false
    },
    "papermill": {
     "duration": 0.021547,
     "end_time": "2023-09-02T13:44:58.841408",
     "exception": false,
     "start_time": "2023-09-02T13:44:58.819861",
     "status": "completed"
    },
    "tags": []
   },
   "outputs": [],
   "source": [
    "def predict(X, W, B):\n",
    "    pred = sigmoid(np.dot(X, W) + B)\n",
    "    return pred"
   ]
  },
  {
   "cell_type": "markdown",
   "id": "c5db1605",
   "metadata": {
    "id": "leSuMTKB4E9e",
    "papermill": {
     "duration": 0.011364,
     "end_time": "2023-09-02T13:44:58.864494",
     "exception": false,
     "start_time": "2023-09-02T13:44:58.85313",
     "status": "completed"
    },
    "tags": []
   },
   "source": [
    "# Cost Function"
   ]
  },
  {
   "cell_type": "code",
   "execution_count": 5,
   "id": "5141f0f5",
   "metadata": {
    "ExecuteTime": {
     "end_time": "2023-09-01T17:46:15.758119400Z",
     "start_time": "2023-09-01T17:46:15.136596500Z"
    },
    "collapsed": false,
    "execution": {
     "iopub.execute_input": "2023-09-02T13:44:58.890267Z",
     "iopub.status.busy": "2023-09-02T13:44:58.888271Z",
     "iopub.status.idle": "2023-09-02T13:44:58.895969Z",
     "shell.execute_reply": "2023-09-02T13:44:58.894918Z"
    },
    "id": "4a351d79",
    "jupyter": {
     "outputs_hidden": false
    },
    "papermill": {
     "duration": 0.022787,
     "end_time": "2023-09-02T13:44:58.89845",
     "exception": false,
     "start_time": "2023-09-02T13:44:58.875663",
     "status": "completed"
    },
    "tags": []
   },
   "outputs": [],
   "source": [
    "def cost(y, y_hat):\n",
    "    return np.mean(\n",
    "        -y * np.log(y_hat + sys.float_info.min)\n",
    "        - (1 - y) * np.log(1 - y_hat + sys.float_info.min)\n",
    "    )"
   ]
  },
  {
   "cell_type": "markdown",
   "id": "90e912bd",
   "metadata": {
    "id": "J3gV5FVa4I-8",
    "papermill": {
     "duration": 0.010771,
     "end_time": "2023-09-02T13:44:58.920153",
     "exception": false,
     "start_time": "2023-09-02T13:44:58.909382",
     "status": "completed"
    },
    "tags": []
   },
   "source": [
    "# Train"
   ]
  },
  {
   "cell_type": "code",
   "execution_count": 6,
   "id": "81745dd4",
   "metadata": {
    "ExecuteTime": {
     "end_time": "2023-09-01T17:46:15.765119500Z",
     "start_time": "2023-09-01T17:46:15.143201Z"
    },
    "collapsed": false,
    "execution": {
     "iopub.execute_input": "2023-09-02T13:44:58.944024Z",
     "iopub.status.busy": "2023-09-02T13:44:58.943628Z",
     "iopub.status.idle": "2023-09-02T13:44:58.952999Z",
     "shell.execute_reply": "2023-09-02T13:44:58.951919Z"
    },
    "id": "aebdd181",
    "jupyter": {
     "outputs_hidden": false
    },
    "papermill": {
     "duration": 0.023463,
     "end_time": "2023-09-02T13:44:58.95519",
     "exception": false,
     "start_time": "2023-09-02T13:44:58.931727",
     "status": "completed"
    },
    "tags": []
   },
   "outputs": [],
   "source": [
    "def train(X, y, learning_rate, epochs):\n",
    "    W = np.random.rand(X.shape[1], y.shape[1])\n",
    "    B = np.random.random()\n",
    "    costs = np.array([])\n",
    "    for i in range(epochs):\n",
    "        y_hat = predict(X, W, B)\n",
    "        dW = np.dot(X.T, (y_hat - y)) / len(X)\n",
    "        db = np.mean(y_hat - y)\n",
    "        W -= learning_rate * dW\n",
    "        B -= learning_rate * db\n",
    "        if i % 100 == 0:\n",
    "            costValue: float = cost(y, y_hat)\n",
    "            costs = np.append(costs, costValue)\n",
    "            print(f\"Cost at epoch {i}: {costValue}\")\n",
    "    return W, B, costs"
   ]
  },
  {
   "cell_type": "markdown",
   "id": "ff907e48",
   "metadata": {
    "papermill": {
     "duration": 0.011209,
     "end_time": "2023-09-02T13:44:58.977295",
     "exception": false,
     "start_time": "2023-09-02T13:44:58.966086",
     "status": "completed"
    },
    "tags": []
   },
   "source": [
    "# Train with L1 Regularization"
   ]
  },
  {
   "cell_type": "code",
   "execution_count": 7,
   "id": "f735103b",
   "metadata": {
    "ExecuteTime": {
     "end_time": "2023-09-01T17:46:15.782631400Z",
     "start_time": "2023-09-01T17:46:15.163629100Z"
    },
    "collapsed": false,
    "execution": {
     "iopub.execute_input": "2023-09-02T13:44:59.00129Z",
     "iopub.status.busy": "2023-09-02T13:44:59.000937Z",
     "iopub.status.idle": "2023-09-02T13:44:59.008792Z",
     "shell.execute_reply": "2023-09-02T13:44:59.007777Z"
    },
    "jupyter": {
     "outputs_hidden": false
    },
    "papermill": {
     "duration": 0.022707,
     "end_time": "2023-09-02T13:44:59.011077",
     "exception": false,
     "start_time": "2023-09-02T13:44:58.98837",
     "status": "completed"
    },
    "tags": []
   },
   "outputs": [],
   "source": [
    "def train_L1(X, y, learning_rate, epochs, Lambda):\n",
    "    W = np.random.random(X.shape[1])\n",
    "    B = np.random.random()\n",
    "    costs = np.array([])\n",
    "    for i in range(epochs):\n",
    "        y_hat = predict(X, W, B)\n",
    "        dW = np.dot(X.T, (y_hat - y)) / len(X)\n",
    "        db = np.mean(y_hat - y)\n",
    "        W -= learning_rate * (dW + Lambda * np.sign(W))\n",
    "        B -= learning_rate * db\n",
    "        if i % 100 == 0:\n",
    "            costValue: float = cost(y, y_hat)\n",
    "            costs = np.append(costs, costValue)\n",
    "            print(f\"Cost at epoch {i}: {costValue}\")\n",
    "    return W, B, costs"
   ]
  },
  {
   "cell_type": "markdown",
   "id": "72a00603",
   "metadata": {
    "papermill": {
     "duration": 0.010932,
     "end_time": "2023-09-02T13:44:59.033038",
     "exception": false,
     "start_time": "2023-09-02T13:44:59.022106",
     "status": "completed"
    },
    "tags": []
   },
   "source": [
    "# Mini_Batch Gradient Descent"
   ]
  },
  {
   "cell_type": "code",
   "execution_count": 8,
   "id": "fb461fcf",
   "metadata": {
    "ExecuteTime": {
     "end_time": "2023-09-01T17:46:15.790635900Z",
     "start_time": "2023-09-01T17:46:15.175596400Z"
    },
    "collapsed": false,
    "execution": {
     "iopub.execute_input": "2023-09-02T13:44:59.05705Z",
     "iopub.status.busy": "2023-09-02T13:44:59.05666Z",
     "iopub.status.idle": "2023-09-02T13:44:59.065553Z",
     "shell.execute_reply": "2023-09-02T13:44:59.064484Z"
    },
    "jupyter": {
     "outputs_hidden": false
    },
    "papermill": {
     "duration": 0.023739,
     "end_time": "2023-09-02T13:44:59.067754",
     "exception": false,
     "start_time": "2023-09-02T13:44:59.044015",
     "status": "completed"
    },
    "tags": []
   },
   "outputs": [],
   "source": [
    "def train_mini_batch(X, y, learning_rate, epochs, batch_size):\n",
    "    W = np.random.random(X.shape[1])\n",
    "    B = np.random.random()\n",
    "    costs = np.array([])\n",
    "    for i in range(epochs):\n",
    "        for j in range(0, len(X), batch_size):\n",
    "            X_batch = X[j : j + batch_size]\n",
    "            y_batch = y[j : j + batch_size]\n",
    "            y_hat = predict(X_batch, W, B)\n",
    "            dW = np.dot(X_batch.T, (y_hat - y_batch)) / len(X_batch)\n",
    "            db = np.mean(y_hat - y_batch)\n",
    "            W -= learning_rate * dW\n",
    "            B -= learning_rate * db\n",
    "            if i % 100 == 0:\n",
    "                costValue: float = cost(y, y_hat)\n",
    "                costs = np.append(costs, costValue)\n",
    "                print(f\"Cost at epoch {i}: {costValue}\")\n",
    "    return W, B, costs"
   ]
  },
  {
   "cell_type": "markdown",
   "id": "d3904441",
   "metadata": {
    "papermill": {
     "duration": 0.010721,
     "end_time": "2023-09-02T13:44:59.089543",
     "exception": false,
     "start_time": "2023-09-02T13:44:59.078822",
     "status": "completed"
    },
    "tags": []
   },
   "source": [
    "# RMS Prop"
   ]
  },
  {
   "cell_type": "code",
   "execution_count": 9,
   "id": "f4c279c8",
   "metadata": {
    "ExecuteTime": {
     "end_time": "2023-09-01T17:46:15.814634300Z",
     "start_time": "2023-09-01T17:46:15.190517500Z"
    },
    "collapsed": false,
    "execution": {
     "iopub.execute_input": "2023-09-02T13:44:59.113139Z",
     "iopub.status.busy": "2023-09-02T13:44:59.112768Z",
     "iopub.status.idle": "2023-09-02T13:44:59.122137Z",
     "shell.execute_reply": "2023-09-02T13:44:59.121131Z"
    },
    "jupyter": {
     "outputs_hidden": false
    },
    "papermill": {
     "duration": 0.023729,
     "end_time": "2023-09-02T13:44:59.12439",
     "exception": false,
     "start_time": "2023-09-02T13:44:59.100661",
     "status": "completed"
    },
    "tags": []
   },
   "outputs": [],
   "source": [
    "def train_rms_prop(X, y, learning_rate, epochs, beta, epsilon=sys.float_info.min):\n",
    "    W = np.random.random(X.shape[1])\n",
    "    B = np.random.random()\n",
    "    costs = np.array([])\n",
    "    vW = np.zeros(X.shape[1])\n",
    "    vB = 0\n",
    "    for i in range(epochs):\n",
    "        y_hat = predict(X, W, B)\n",
    "        dW = np.dot(X.T, (y_hat - y)) / len(X)\n",
    "        dB = np.mean(y_hat - y)\n",
    "        vW = beta * vW + (1 - beta) * dW**2\n",
    "        vB = beta * vB + (1 - beta) * dB**2\n",
    "        W -= learning_rate * dW / (np.sqrt(vW) + epsilon)\n",
    "        B -= learning_rate * dB / (np.sqrt(vB) + epsilon)\n",
    "        if i % 100 == 0:\n",
    "            costValue: float = cost(y, y_hat)\n",
    "            costs = np.append(costs, costValue)\n",
    "            print(f\"Cost at epoch {i}: {costValue}\")\n",
    "    return W, B, costs"
   ]
  },
  {
   "cell_type": "markdown",
   "id": "0044b375",
   "metadata": {
    "papermill": {
     "duration": 0.0109,
     "end_time": "2023-09-02T13:44:59.146303",
     "exception": false,
     "start_time": "2023-09-02T13:44:59.135403",
     "status": "completed"
    },
    "tags": []
   },
   "source": [
    "# Adam"
   ]
  },
  {
   "cell_type": "code",
   "execution_count": 10,
   "id": "a6a7369c",
   "metadata": {
    "ExecuteTime": {
     "end_time": "2023-09-01T17:46:15.821637900Z",
     "start_time": "2023-09-01T17:46:15.208747800Z"
    },
    "collapsed": false,
    "execution": {
     "iopub.execute_input": "2023-09-02T13:44:59.16999Z",
     "iopub.status.busy": "2023-09-02T13:44:59.169598Z",
     "iopub.status.idle": "2023-09-02T13:44:59.181237Z",
     "shell.execute_reply": "2023-09-02T13:44:59.180177Z"
    },
    "jupyter": {
     "outputs_hidden": false
    },
    "papermill": {
     "duration": 0.02626,
     "end_time": "2023-09-02T13:44:59.183628",
     "exception": false,
     "start_time": "2023-09-02T13:44:59.157368",
     "status": "completed"
    },
    "tags": []
   },
   "outputs": [],
   "source": [
    "def train_adam(X, y, learning_rate, epochs, beta1, beta2, epsilon=sys.float_info.min):\n",
    "    W = np.random.random(X.shape[1])\n",
    "    B = np.random.random()\n",
    "    costs = np.array([])\n",
    "    vW = np.zeros(X.shape[1])\n",
    "    vB = 0\n",
    "    sW = np.zeros(X.shape[1])\n",
    "    sB = 0\n",
    "    for i in range(epochs):\n",
    "        y_hat = predict(X, W, B)\n",
    "        dW = np.dot(X.T, (y_hat - y)) / len(X)\n",
    "        dB = np.mean(y_hat - y)\n",
    "        vW = beta1 * vW + (1 - beta1) * dW\n",
    "        vB = beta1 * vB + (1 - beta1) * dB\n",
    "        sW = beta2 * sW + (1 - beta2) * dW**2\n",
    "        sB = beta2 * sB + (1 - beta2) * dB**2\n",
    "        vW_corrected = vW / (1 - beta1 ** (i + 1))\n",
    "        vB_corrected = vB / (1 - beta1 ** (i + 1))\n",
    "        sW_corrected = sW / (1 - beta2 ** (i + 1))\n",
    "        sB_corrected = sB / (1 - beta2 ** (i + 1))\n",
    "        W -= learning_rate * vW_corrected / (np.sqrt(sW_corrected) + epsilon)\n",
    "        B -= learning_rate * vB_corrected / (np.sqrt(sB_corrected) + epsilon)\n",
    "        if i % 100 == 0:\n",
    "            costValue: float = cost(y, y_hat)\n",
    "            costs = np.append(costs, costValue)\n",
    "            print(f\"Cost at epoch {i}: {costValue}\")\n",
    "    return W, B, costs"
   ]
  },
  {
   "cell_type": "markdown",
   "id": "26e2d6d2",
   "metadata": {
    "id": "ybTwdRlK4Mhe",
    "papermill": {
     "duration": 0.011211,
     "end_time": "2023-09-02T13:44:59.206395",
     "exception": false,
     "start_time": "2023-09-02T13:44:59.195184",
     "status": "completed"
    },
    "tags": []
   },
   "source": [
    "# Test"
   ]
  },
  {
   "cell_type": "code",
   "execution_count": 11,
   "id": "ebfe1689",
   "metadata": {
    "ExecuteTime": {
     "end_time": "2023-09-01T17:46:15.847631600Z",
     "start_time": "2023-09-01T17:46:15.218284Z"
    },
    "collapsed": false,
    "execution": {
     "iopub.execute_input": "2023-09-02T13:44:59.230766Z",
     "iopub.status.busy": "2023-09-02T13:44:59.230368Z",
     "iopub.status.idle": "2023-09-02T13:44:59.235661Z",
     "shell.execute_reply": "2023-09-02T13:44:59.234602Z"
    },
    "id": "b5cf859f",
    "jupyter": {
     "outputs_hidden": false
    },
    "papermill": {
     "duration": 0.020284,
     "end_time": "2023-09-02T13:44:59.237874",
     "exception": false,
     "start_time": "2023-09-02T13:44:59.21759",
     "status": "completed"
    },
    "tags": []
   },
   "outputs": [],
   "source": [
    "def test(X, y, W, b):\n",
    "    y_hat = predict(X, W, b)\n",
    "    return accuracy(y, y_hat)"
   ]
  },
  {
   "cell_type": "markdown",
   "id": "b8192be8",
   "metadata": {
    "id": "-mSDHJXo4QWR",
    "papermill": {
     "duration": 0.011395,
     "end_time": "2023-09-02T13:44:59.261051",
     "exception": false,
     "start_time": "2023-09-02T13:44:59.249656",
     "status": "completed"
    },
    "tags": []
   },
   "source": [
    "# Accuracy"
   ]
  },
  {
   "cell_type": "code",
   "execution_count": 12,
   "id": "e1dea284",
   "metadata": {
    "ExecuteTime": {
     "end_time": "2023-09-01T17:46:15.847631600Z",
     "start_time": "2023-09-01T17:46:15.231721Z"
    },
    "collapsed": false,
    "execution": {
     "iopub.execute_input": "2023-09-02T13:44:59.286542Z",
     "iopub.status.busy": "2023-09-02T13:44:59.28552Z",
     "iopub.status.idle": "2023-09-02T13:44:59.290912Z",
     "shell.execute_reply": "2023-09-02T13:44:59.289778Z"
    },
    "id": "fa773b72",
    "jupyter": {
     "outputs_hidden": false
    },
    "papermill": {
     "duration": 0.020296,
     "end_time": "2023-09-02T13:44:59.293223",
     "exception": false,
     "start_time": "2023-09-02T13:44:59.272927",
     "status": "completed"
    },
    "tags": []
   },
   "outputs": [],
   "source": [
    "def accuracy(y, y_hat):\n",
    "    return np.mean(y == y_hat)"
   ]
  },
  {
   "cell_type": "markdown",
   "id": "77c66aba",
   "metadata": {
    "id": "HBwDB30-4T8d",
    "papermill": {
     "duration": 0.011138,
     "end_time": "2023-09-02T13:44:59.315824",
     "exception": false,
     "start_time": "2023-09-02T13:44:59.304686",
     "status": "completed"
    },
    "tags": []
   },
   "source": [
    "# Loading the data"
   ]
  },
  {
   "cell_type": "code",
   "execution_count": 13,
   "id": "5debc754",
   "metadata": {
    "ExecuteTime": {
     "end_time": "2023-09-01T17:46:16.364785500Z",
     "start_time": "2023-09-01T17:46:15.243036300Z"
    },
    "collapsed": false,
    "execution": {
     "iopub.execute_input": "2023-09-02T13:44:59.340632Z",
     "iopub.status.busy": "2023-09-02T13:44:59.339545Z",
     "iopub.status.idle": "2023-09-02T13:44:59.796264Z",
     "shell.execute_reply": "2023-09-02T13:44:59.79517Z"
    },
    "id": "a8c80317",
    "jupyter": {
     "outputs_hidden": false
    },
    "papermill": {
     "duration": 0.47187,
     "end_time": "2023-09-02T13:44:59.798887",
     "exception": false,
     "start_time": "2023-09-02T13:44:59.327017",
     "status": "completed"
    },
    "tags": []
   },
   "outputs": [
    {
     "name": "stdout",
     "output_type": "stream",
     "text": [
      "Downloading data from https://storage.googleapis.com/tensorflow/tf-keras-datasets/mnist.npz\n",
      "11490434/11490434 [==============================] - 0s 0us/step\n"
     ]
    }
   ],
   "source": [
    "trainSet, testSet = mnist.load_data()"
   ]
  },
  {
   "cell_type": "code",
   "execution_count": 14,
   "id": "ff286695",
   "metadata": {
    "ExecuteTime": {
     "end_time": "2023-09-01T17:46:16.725137200Z",
     "start_time": "2023-09-01T17:46:15.670118600Z"
    },
    "collapsed": false,
    "execution": {
     "iopub.execute_input": "2023-09-02T13:44:59.825384Z",
     "iopub.status.busy": "2023-09-02T13:44:59.824996Z",
     "iopub.status.idle": "2023-09-02T13:45:00.225544Z",
     "shell.execute_reply": "2023-09-02T13:45:00.224402Z"
    },
    "id": "a352b480",
    "jupyter": {
     "outputs_hidden": false
    },
    "papermill": {
     "duration": 0.416542,
     "end_time": "2023-09-02T13:45:00.228613",
     "exception": false,
     "start_time": "2023-09-02T13:44:59.812071",
     "status": "completed"
    },
    "tags": []
   },
   "outputs": [],
   "source": [
    "xTrain = trainSet[0].astype(\"float32\")\n",
    "yTrain = trainSet[1].astype(\"int32\")\n",
    "\n",
    "xTest = testSet[0].astype(\"float32\")\n",
    "yTest = testSet[1].astype(\"int32\")\n",
    "\n",
    "xTrain = xTrain.reshape(xTrain.shape[0], -1)\n",
    "xTest = xTest.reshape(xTest.shape[0], -1)\n",
    "\n",
    "xTrain = standardize(xTrain)\n",
    "xTest = standardize(xTest)\n",
    "\n",
    "p1 = np.random.permutation(len(xTrain))\n",
    "p2 = np.random.permutation(len(xTest))\n",
    "\n",
    "xTrain = xTrain[p1]\n",
    "yTrain = yTrain[p1]\n",
    "\n",
    "xTest = xTest[p2]\n",
    "yTest = yTest[p2]"
   ]
  },
  {
   "cell_type": "code",
   "execution_count": 15,
   "id": "805be799",
   "metadata": {
    "ExecuteTime": {
     "end_time": "2023-09-01T17:46:16.727137800Z",
     "start_time": "2023-09-01T17:46:16.626735Z"
    },
    "collapsed": false,
    "execution": {
     "iopub.execute_input": "2023-09-02T13:45:00.25471Z",
     "iopub.status.busy": "2023-09-02T13:45:00.254358Z",
     "iopub.status.idle": "2023-09-02T13:45:00.263875Z",
     "shell.execute_reply": "2023-09-02T13:45:00.262748Z"
    },
    "jupyter": {
     "outputs_hidden": false
    },
    "papermill": {
     "duration": 0.025227,
     "end_time": "2023-09-02T13:45:00.266531",
     "exception": false,
     "start_time": "2023-09-02T13:45:00.241304",
     "status": "completed"
    },
    "tags": []
   },
   "outputs": [
    {
     "data": {
      "text/plain": [
       "array([[-0.42407447, -0.42407447, -0.42407447, ..., -0.42407447,\n",
       "        -0.42407447, -0.42407447],\n",
       "       [-0.42407447, -0.42407447, -0.42407447, ..., -0.42407447,\n",
       "        -0.42407447, -0.42407447],\n",
       "       [-0.42407447, -0.42407447, -0.42407447, ..., -0.42407447,\n",
       "        -0.42407447, -0.42407447],\n",
       "       ...,\n",
       "       [-0.42407447, -0.42407447, -0.42407447, ..., -0.42407447,\n",
       "        -0.42407447, -0.42407447],\n",
       "       [-0.42407447, -0.42407447, -0.42407447, ..., -0.42407447,\n",
       "        -0.42407447, -0.42407447],\n",
       "       [-0.42407447, -0.42407447, -0.42407447, ..., -0.42407447,\n",
       "        -0.42407447, -0.42407447]], dtype=float32)"
      ]
     },
     "execution_count": 15,
     "metadata": {},
     "output_type": "execute_result"
    }
   ],
   "source": [
    "xTrain"
   ]
  },
  {
   "cell_type": "code",
   "execution_count": 16,
   "id": "ce0763bb",
   "metadata": {
    "ExecuteTime": {
     "end_time": "2023-09-01T17:46:16.765127100Z",
     "start_time": "2023-09-01T17:46:16.647571300Z"
    },
    "collapsed": false,
    "execution": {
     "iopub.execute_input": "2023-09-02T13:45:00.294913Z",
     "iopub.status.busy": "2023-09-02T13:45:00.293975Z",
     "iopub.status.idle": "2023-09-02T13:45:00.301404Z",
     "shell.execute_reply": "2023-09-02T13:45:00.300275Z"
    },
    "jupyter": {
     "outputs_hidden": false
    },
    "papermill": {
     "duration": 0.023066,
     "end_time": "2023-09-02T13:45:00.303694",
     "exception": false,
     "start_time": "2023-09-02T13:45:00.280628",
     "status": "completed"
    },
    "tags": []
   },
   "outputs": [
    {
     "data": {
      "text/plain": [
       "array([7, 4, 1, ..., 3, 9, 4], dtype=int32)"
      ]
     },
     "execution_count": 16,
     "metadata": {},
     "output_type": "execute_result"
    }
   ],
   "source": [
    "yTrain"
   ]
  },
  {
   "cell_type": "code",
   "execution_count": 17,
   "id": "5ab66042",
   "metadata": {
    "ExecuteTime": {
     "end_time": "2023-09-01T17:46:16.769142600Z",
     "start_time": "2023-09-01T17:46:16.663575500Z"
    },
    "collapsed": false,
    "execution": {
     "iopub.execute_input": "2023-09-02T13:45:00.330318Z",
     "iopub.status.busy": "2023-09-02T13:45:00.329353Z",
     "iopub.status.idle": "2023-09-02T13:45:00.371256Z",
     "shell.execute_reply": "2023-09-02T13:45:00.369964Z"
    },
    "jupyter": {
     "outputs_hidden": false
    },
    "papermill": {
     "duration": 0.0583,
     "end_time": "2023-09-02T13:45:00.374745",
     "exception": false,
     "start_time": "2023-09-02T13:45:00.316445",
     "status": "completed"
    },
    "tags": []
   },
   "outputs": [
    {
     "data": {
      "text/html": [
       "<div>\n",
       "<style scoped>\n",
       "    .dataframe tbody tr th:only-of-type {\n",
       "        vertical-align: middle;\n",
       "    }\n",
       "\n",
       "    .dataframe tbody tr th {\n",
       "        vertical-align: top;\n",
       "    }\n",
       "\n",
       "    .dataframe thead th {\n",
       "        text-align: right;\n",
       "    }\n",
       "</style>\n",
       "<table border=\"1\" class=\"dataframe\">\n",
       "  <thead>\n",
       "    <tr style=\"text-align: right;\">\n",
       "      <th></th>\n",
       "      <th>0</th>\n",
       "      <th>1</th>\n",
       "      <th>2</th>\n",
       "      <th>3</th>\n",
       "      <th>4</th>\n",
       "      <th>5</th>\n",
       "      <th>6</th>\n",
       "      <th>7</th>\n",
       "      <th>8</th>\n",
       "      <th>9</th>\n",
       "    </tr>\n",
       "  </thead>\n",
       "  <tbody>\n",
       "    <tr>\n",
       "      <th>0</th>\n",
       "      <td>0</td>\n",
       "      <td>0</td>\n",
       "      <td>0</td>\n",
       "      <td>0</td>\n",
       "      <td>0</td>\n",
       "      <td>0</td>\n",
       "      <td>0</td>\n",
       "      <td>1</td>\n",
       "      <td>0</td>\n",
       "      <td>0</td>\n",
       "    </tr>\n",
       "    <tr>\n",
       "      <th>1</th>\n",
       "      <td>0</td>\n",
       "      <td>0</td>\n",
       "      <td>0</td>\n",
       "      <td>0</td>\n",
       "      <td>1</td>\n",
       "      <td>0</td>\n",
       "      <td>0</td>\n",
       "      <td>0</td>\n",
       "      <td>0</td>\n",
       "      <td>0</td>\n",
       "    </tr>\n",
       "    <tr>\n",
       "      <th>2</th>\n",
       "      <td>0</td>\n",
       "      <td>1</td>\n",
       "      <td>0</td>\n",
       "      <td>0</td>\n",
       "      <td>0</td>\n",
       "      <td>0</td>\n",
       "      <td>0</td>\n",
       "      <td>0</td>\n",
       "      <td>0</td>\n",
       "      <td>0</td>\n",
       "    </tr>\n",
       "    <tr>\n",
       "      <th>3</th>\n",
       "      <td>0</td>\n",
       "      <td>0</td>\n",
       "      <td>0</td>\n",
       "      <td>0</td>\n",
       "      <td>0</td>\n",
       "      <td>0</td>\n",
       "      <td>0</td>\n",
       "      <td>0</td>\n",
       "      <td>0</td>\n",
       "      <td>1</td>\n",
       "    </tr>\n",
       "    <tr>\n",
       "      <th>4</th>\n",
       "      <td>0</td>\n",
       "      <td>0</td>\n",
       "      <td>0</td>\n",
       "      <td>0</td>\n",
       "      <td>0</td>\n",
       "      <td>0</td>\n",
       "      <td>1</td>\n",
       "      <td>0</td>\n",
       "      <td>0</td>\n",
       "      <td>0</td>\n",
       "    </tr>\n",
       "    <tr>\n",
       "      <th>...</th>\n",
       "      <td>...</td>\n",
       "      <td>...</td>\n",
       "      <td>...</td>\n",
       "      <td>...</td>\n",
       "      <td>...</td>\n",
       "      <td>...</td>\n",
       "      <td>...</td>\n",
       "      <td>...</td>\n",
       "      <td>...</td>\n",
       "      <td>...</td>\n",
       "    </tr>\n",
       "    <tr>\n",
       "      <th>59995</th>\n",
       "      <td>0</td>\n",
       "      <td>0</td>\n",
       "      <td>0</td>\n",
       "      <td>0</td>\n",
       "      <td>0</td>\n",
       "      <td>0</td>\n",
       "      <td>0</td>\n",
       "      <td>0</td>\n",
       "      <td>1</td>\n",
       "      <td>0</td>\n",
       "    </tr>\n",
       "    <tr>\n",
       "      <th>59996</th>\n",
       "      <td>0</td>\n",
       "      <td>0</td>\n",
       "      <td>0</td>\n",
       "      <td>0</td>\n",
       "      <td>0</td>\n",
       "      <td>0</td>\n",
       "      <td>1</td>\n",
       "      <td>0</td>\n",
       "      <td>0</td>\n",
       "      <td>0</td>\n",
       "    </tr>\n",
       "    <tr>\n",
       "      <th>59997</th>\n",
       "      <td>0</td>\n",
       "      <td>0</td>\n",
       "      <td>0</td>\n",
       "      <td>1</td>\n",
       "      <td>0</td>\n",
       "      <td>0</td>\n",
       "      <td>0</td>\n",
       "      <td>0</td>\n",
       "      <td>0</td>\n",
       "      <td>0</td>\n",
       "    </tr>\n",
       "    <tr>\n",
       "      <th>59998</th>\n",
       "      <td>0</td>\n",
       "      <td>0</td>\n",
       "      <td>0</td>\n",
       "      <td>0</td>\n",
       "      <td>0</td>\n",
       "      <td>0</td>\n",
       "      <td>0</td>\n",
       "      <td>0</td>\n",
       "      <td>0</td>\n",
       "      <td>1</td>\n",
       "    </tr>\n",
       "    <tr>\n",
       "      <th>59999</th>\n",
       "      <td>0</td>\n",
       "      <td>0</td>\n",
       "      <td>0</td>\n",
       "      <td>0</td>\n",
       "      <td>1</td>\n",
       "      <td>0</td>\n",
       "      <td>0</td>\n",
       "      <td>0</td>\n",
       "      <td>0</td>\n",
       "      <td>0</td>\n",
       "    </tr>\n",
       "  </tbody>\n",
       "</table>\n",
       "<p>60000 rows × 10 columns</p>\n",
       "</div>"
      ],
      "text/plain": [
       "       0  1  2  3  4  5  6  7  8  9\n",
       "0      0  0  0  0  0  0  0  1  0  0\n",
       "1      0  0  0  0  1  0  0  0  0  0\n",
       "2      0  1  0  0  0  0  0  0  0  0\n",
       "3      0  0  0  0  0  0  0  0  0  1\n",
       "4      0  0  0  0  0  0  1  0  0  0\n",
       "...   .. .. .. .. .. .. .. .. .. ..\n",
       "59995  0  0  0  0  0  0  0  0  1  0\n",
       "59996  0  0  0  0  0  0  1  0  0  0\n",
       "59997  0  0  0  1  0  0  0  0  0  0\n",
       "59998  0  0  0  0  0  0  0  0  0  1\n",
       "59999  0  0  0  0  1  0  0  0  0  0\n",
       "\n",
       "[60000 rows x 10 columns]"
      ]
     },
     "execution_count": 17,
     "metadata": {},
     "output_type": "execute_result"
    }
   ],
   "source": [
    "yTrain = pd.get_dummies(yTrain)\n",
    "yTrain = yTrain.astype(\"int32\")\n",
    "yTrain"
   ]
  },
  {
   "cell_type": "markdown",
   "id": "75826a54",
   "metadata": {
    "id": "dds8FNG84qmf",
    "papermill": {
     "duration": 0.012336,
     "end_time": "2023-09-02T13:45:00.453582",
     "exception": false,
     "start_time": "2023-09-02T13:45:00.441246",
     "status": "completed"
    },
    "tags": []
   },
   "source": [
    "# K-Fold Cross-Validation"
   ]
  },
  {
   "cell_type": "code",
   "execution_count": 18,
   "id": "0bd16c86",
   "metadata": {
    "ExecuteTime": {
     "end_time": "2023-09-01T17:46:16.769142600Z",
     "start_time": "2023-09-01T17:46:16.699864500Z"
    },
    "execution": {
     "iopub.execute_input": "2023-09-02T13:45:00.480938Z",
     "iopub.status.busy": "2023-09-02T13:45:00.479955Z",
     "iopub.status.idle": "2023-09-02T13:45:00.48887Z",
     "shell.execute_reply": "2023-09-02T13:45:00.487778Z"
    },
    "id": "Sx97ywre23pk",
    "papermill": {
     "duration": 0.02507,
     "end_time": "2023-09-02T13:45:00.491142",
     "exception": false,
     "start_time": "2023-09-02T13:45:00.466072",
     "status": "completed"
    },
    "tags": []
   },
   "outputs": [],
   "source": [
    "def k_fold_cross_validation(X, y, K, lr, epochs):\n",
    "    fold_size = len(X) // K\n",
    "    accuracies = []\n",
    "    for i in range(K):\n",
    "        # Divide the data into training and testing sets\n",
    "        X_train = np.concatenate([X[: i * fold_size], X[(i + 1) * fold_size :]])\n",
    "        Y_train = np.concatenate([y[: i * fold_size], y[(i + 1) * fold_size :]])\n",
    "        x_valid = X[i * fold_size : (i + 1) * fold_size]\n",
    "        y_valid = y[i * fold_size : (i + 1) * fold_size]\n",
    "        # Train the model\n",
    "        print(f\"\\nTraining at Iteration {i + 1} of {K}\")\n",
    "        w, b, Costs = train(X_train, Y_train, lr, epochs)\n",
    "        # Test the model\n",
    "        print(f\"\\nTesting at Iteration {i + 1} of {K}\")\n",
    "        acc = test(x_valid, y_valid, w, b)\n",
    "        print(f\"Accuracy at Iteration {i + 1} of {K}: {acc}\")\n",
    "        accuracies.append(acc)\n",
    "    return np.mean(accuracies), Costs"
   ]
  },
  {
   "cell_type": "markdown",
   "id": "a1e2c89f",
   "metadata": {
    "id": "oD1Ij-d_4-lf",
    "papermill": {
     "duration": 0.014053,
     "end_time": "2023-09-02T13:45:00.518241",
     "exception": false,
     "start_time": "2023-09-02T13:45:00.504188",
     "status": "completed"
    },
    "tags": []
   },
   "source": [
    "# Running Code"
   ]
  },
  {
   "cell_type": "code",
   "execution_count": 19,
   "id": "80e2d4ef",
   "metadata": {
    "ExecuteTime": {
     "end_time": "2023-09-01T18:35:08.256453900Z",
     "start_time": "2023-09-01T17:46:16.709127700Z"
    },
    "execution": {
     "iopub.execute_input": "2023-09-02T13:45:00.545139Z",
     "iopub.status.busy": "2023-09-02T13:45:00.54401Z",
     "iopub.status.idle": "2023-09-02T19:21:12.208887Z",
     "shell.execute_reply": "2023-09-02T19:21:12.207891Z"
    },
    "id": "0Oh8VrU_23pm",
    "outputId": "7d187c28-d117-49dc-f484-7b4413014cec",
    "papermill": {
     "duration": 20171.680805,
     "end_time": "2023-09-02T19:21:12.211133",
     "exception": false,
     "start_time": "2023-09-02T13:45:00.530328",
     "status": "completed"
    },
    "tags": []
   },
   "outputs": [
    {
     "name": "stdout",
     "output_type": "stream",
     "text": [
      "K-Fold Cross Validation with 10 Folds and eta 0.1:\n",
      "\n",
      "Training at Iteration 1 of 10\n",
      "Cost at epoch 0: 158.23707945973763\n",
      "Cost at epoch 100: 2.0499226830231363\n",
      "Cost at epoch 200: 1.0051249002926037\n",
      "Cost at epoch 300: 0.6981879833494422\n",
      "Cost at epoch 400: 0.5409554974114881\n",
      "Cost at epoch 500: 0.4455205084999935\n",
      "Cost at epoch 600: 0.3801404932287173\n",
      "Cost at epoch 700: 0.32814847422368726\n",
      "Cost at epoch 800: 0.2883239951921995\n",
      "Cost at epoch 900: 0.25796632143172327\n",
      "\n",
      "Testing at Iteration 1 of 10\n",
      "Accuracy at Iteration 1 of 10: 0.0119\n",
      "\n",
      "Training at Iteration 2 of 10\n",
      "Cost at epoch 0: 159.53740048452008\n",
      "Cost at epoch 100: 2.0951562214158153\n",
      "Cost at epoch 200: 1.0286348194282706\n",
      "Cost at epoch 300: 0.6994868310661883\n",
      "Cost at epoch 400: 0.5463905962716045\n",
      "Cost at epoch 500: 0.43995988601947483\n",
      "Cost at epoch 600: 0.3682172420354728\n",
      "Cost at epoch 700: 0.3188159675128774\n",
      "Cost at epoch 800: 0.28431630681448394\n",
      "Cost at epoch 900: 0.2546168371330942\n",
      "\n",
      "Testing at Iteration 2 of 10\n",
      "Accuracy at Iteration 2 of 10: 0.010683333333333333\n",
      "\n",
      "Training at Iteration 3 of 10\n",
      "Cost at epoch 0: 154.50600815076533\n",
      "Cost at epoch 100: 2.113830456480099\n",
      "Cost at epoch 200: 1.0357414992324745\n",
      "Cost at epoch 300: 0.7143059800482238\n",
      "Cost at epoch 400: 0.5554321936403659\n",
      "Cost at epoch 500: 0.4516694586256882\n",
      "Cost at epoch 600: 0.38254134683595664\n",
      "Cost at epoch 700: 0.32977464506494003\n",
      "Cost at epoch 800: 0.2921708742025643\n",
      "Cost at epoch 900: 0.26321396080504267\n",
      "\n",
      "Testing at Iteration 3 of 10\n",
      "Accuracy at Iteration 3 of 10: 0.0112\n",
      "\n",
      "Training at Iteration 4 of 10\n",
      "Cost at epoch 0: 158.9312539505982\n",
      "Cost at epoch 100: 2.0824504341688534\n",
      "Cost at epoch 200: 1.020958555478038\n",
      "Cost at epoch 300: 0.6984402727648908\n",
      "Cost at epoch 400: 0.5409220270605005\n",
      "Cost at epoch 500: 0.44523316061175555\n",
      "Cost at epoch 600: 0.3720726410855891\n",
      "Cost at epoch 700: 0.3255997405900072\n",
      "Cost at epoch 800: 0.28761743462763956\n",
      "Cost at epoch 900: 0.26168580221362475\n",
      "\n",
      "Testing at Iteration 4 of 10\n",
      "Accuracy at Iteration 4 of 10: 0.011783333333333333\n",
      "\n",
      "Training at Iteration 5 of 10\n",
      "Cost at epoch 0: 170.56861844401578\n",
      "Cost at epoch 100: 2.0562349994878755\n",
      "Cost at epoch 200: 1.0087721183646439\n",
      "Cost at epoch 300: 0.696937817823185\n",
      "Cost at epoch 400: 0.5437974261871091\n",
      "Cost at epoch 500: 0.44615066070898546\n",
      "Cost at epoch 600: 0.3720097902943373\n",
      "Cost at epoch 700: 0.3226179108393984\n",
      "Cost at epoch 800: 0.2857331322347261\n",
      "Cost at epoch 900: 0.25106920124107834\n",
      "\n",
      "Testing at Iteration 5 of 10\n",
      "Accuracy at Iteration 5 of 10: 0.010533333333333334\n",
      "\n",
      "Training at Iteration 6 of 10\n",
      "Cost at epoch 0: 165.56426776533692\n",
      "Cost at epoch 100: 2.1412440158298582\n",
      "Cost at epoch 200: 1.0899178838410306\n",
      "Cost at epoch 300: 0.7331967142609985\n",
      "Cost at epoch 400: 0.5594741879840613\n",
      "Cost at epoch 500: 0.4659500139962602\n",
      "Cost at epoch 600: 0.3878797608275601\n",
      "Cost at epoch 700: 0.33584562944706664\n",
      "Cost at epoch 800: 0.2990447845712242\n",
      "Cost at epoch 900: 0.2697011429210232\n",
      "\n",
      "Testing at Iteration 6 of 10\n",
      "Accuracy at Iteration 6 of 10: 0.012116666666666666\n",
      "\n",
      "Training at Iteration 7 of 10\n",
      "Cost at epoch 0: 152.18713232717514\n",
      "Cost at epoch 100: 2.1156239991496313\n",
      "Cost at epoch 200: 1.0140206919976662\n",
      "Cost at epoch 300: 0.6926172109194544\n",
      "Cost at epoch 400: 0.5365611056921441\n",
      "Cost at epoch 500: 0.4462334755047359\n",
      "Cost at epoch 600: 0.3796512592297157\n",
      "Cost at epoch 700: 0.32998789789316857\n",
      "Cost at epoch 800: 0.29267571879747917\n",
      "Cost at epoch 900: 0.261160496938742\n",
      "\n",
      "Testing at Iteration 7 of 10\n",
      "Accuracy at Iteration 7 of 10: 0.011216666666666666\n",
      "\n",
      "Training at Iteration 8 of 10\n",
      "Cost at epoch 0: 145.76092771462442\n",
      "Cost at epoch 100: 2.1008934803736095\n",
      "Cost at epoch 200: 1.0390932738614427\n",
      "Cost at epoch 300: 0.7040491592355899\n",
      "Cost at epoch 400: 0.5423766773904717\n",
      "Cost at epoch 500: 0.4463505287342716\n",
      "Cost at epoch 600: 0.3710634833552807\n",
      "Cost at epoch 700: 0.32046560337525515\n",
      "Cost at epoch 800: 0.28596173860599156\n",
      "Cost at epoch 900: 0.25746665066538543\n",
      "\n",
      "Testing at Iteration 8 of 10\n",
      "Accuracy at Iteration 8 of 10: 0.010383333333333333\n",
      "\n",
      "Training at Iteration 9 of 10\n",
      "Cost at epoch 0: 161.45312036720938\n",
      "Cost at epoch 100: 2.1890053623834307\n",
      "Cost at epoch 200: 1.0583438458066579\n",
      "Cost at epoch 300: 0.7217796540160297\n",
      "Cost at epoch 400: 0.556554972342909\n",
      "Cost at epoch 500: 0.452092547170182\n",
      "Cost at epoch 600: 0.38062397752871835\n",
      "Cost at epoch 700: 0.3341061483558956\n",
      "Cost at epoch 800: 0.29146317099456076\n",
      "Cost at epoch 900: 0.2648230742018632\n",
      "\n",
      "Testing at Iteration 9 of 10\n",
      "Accuracy at Iteration 9 of 10: 0.01085\n",
      "\n",
      "Training at Iteration 10 of 10\n",
      "Cost at epoch 0: 154.36721448782023\n",
      "Cost at epoch 100: 2.076024091986373\n",
      "Cost at epoch 200: 1.0431913906202834\n",
      "Cost at epoch 300: 0.7269220988434228\n",
      "Cost at epoch 400: 0.5555280845248289\n",
      "Cost at epoch 500: 0.45463781042668033\n",
      "Cost at epoch 600: 0.3820578770265398\n",
      "Cost at epoch 700: 0.3307004421271544\n",
      "Cost at epoch 800: 0.2931233499446611\n",
      "Cost at epoch 900: 0.2604217905710205\n",
      "\n",
      "Testing at Iteration 10 of 10\n",
      "Accuracy at Iteration 10 of 10: 0.012433333333333333\n",
      "\n",
      "Average Accuracy:  0.01131\n",
      "K-Fold Cross Validation with 10 Folds and eta 0.01:\n",
      "\n",
      "Training at Iteration 1 of 10\n",
      "Cost at epoch 0: 156.63333003301514\n",
      "Cost at epoch 100: 18.379528708842706\n",
      "Cost at epoch 200: 8.899236757490325\n",
      "Cost at epoch 300: 6.387480192538915\n",
      "Cost at epoch 400: 5.04423965308183\n",
      "Cost at epoch 500: 4.101673346933689\n",
      "Cost at epoch 600: 3.424513413936098\n",
      "Cost at epoch 700: 2.911218345979895\n",
      "Cost at epoch 800: 2.5393736400685887\n",
      "Cost at epoch 900: 2.2488332083490765\n",
      "\n",
      "Testing at Iteration 1 of 10\n",
      "Accuracy at Iteration 1 of 10: 0.01225\n",
      "\n",
      "Training at Iteration 2 of 10\n",
      "Cost at epoch 0: 170.31007097731987\n",
      "Cost at epoch 100: 18.924766601926663\n",
      "Cost at epoch 200: 8.767964849927045\n",
      "Cost at epoch 300: 6.302562878736791\n",
      "Cost at epoch 400: 5.014035429549764\n",
      "Cost at epoch 500: 4.0652806263053325\n",
      "Cost at epoch 600: 3.4090535325710167\n",
      "Cost at epoch 700: 2.9177350146218877\n",
      "Cost at epoch 800: 2.5422278951904156\n",
      "Cost at epoch 900: 2.258937571620712\n",
      "\n",
      "Testing at Iteration 2 of 10\n",
      "Accuracy at Iteration 2 of 10: 0.01195\n",
      "\n",
      "Training at Iteration 3 of 10\n",
      "Cost at epoch 0: 165.67293561070804\n",
      "Cost at epoch 100: 19.282697334232758\n",
      "Cost at epoch 200: 9.283571780875537\n",
      "Cost at epoch 300: 6.700674449242329\n",
      "Cost at epoch 400: 5.3145072016902315\n",
      "Cost at epoch 500: 4.349398877792577\n",
      "Cost at epoch 600: 3.6701937607535084\n",
      "Cost at epoch 700: 3.114137962946229\n",
      "Cost at epoch 800: 2.712690109221833\n",
      "Cost at epoch 900: 2.4067266239491607\n",
      "\n",
      "Testing at Iteration 3 of 10\n",
      "Accuracy at Iteration 3 of 10: 0.011933333333333334\n",
      "\n",
      "Training at Iteration 4 of 10\n",
      "Cost at epoch 0: 155.91125633616343\n",
      "Cost at epoch 100: 17.989409779541965\n",
      "Cost at epoch 200: 8.806980523448658\n",
      "Cost at epoch 300: 6.330612811964668\n",
      "Cost at epoch 400: 4.984737948954502\n",
      "Cost at epoch 500: 4.082392282073354\n",
      "Cost at epoch 600: 3.4098228595260127\n",
      "Cost at epoch 700: 2.895064567449405\n",
      "Cost at epoch 800: 2.5205036393049096\n",
      "Cost at epoch 900: 2.216615127535336\n",
      "\n",
      "Testing at Iteration 4 of 10\n",
      "Accuracy at Iteration 4 of 10: 0.012516666666666667\n",
      "\n",
      "Training at Iteration 5 of 10\n",
      "Cost at epoch 0: 151.89286141022592\n",
      "Cost at epoch 100: 17.40907723339894\n",
      "Cost at epoch 200: 8.62132598963304\n",
      "Cost at epoch 300: 6.271018617344163\n",
      "Cost at epoch 400: 4.977178965379198\n",
      "Cost at epoch 500: 4.065907923183147\n",
      "Cost at epoch 600: 3.427004983076604\n",
      "Cost at epoch 700: 2.947277515627495\n",
      "Cost at epoch 800: 2.566230930040769\n",
      "Cost at epoch 900: 2.3025500301995425\n",
      "\n",
      "Testing at Iteration 5 of 10\n",
      "Accuracy at Iteration 5 of 10: 0.012433333333333333\n",
      "\n",
      "Training at Iteration 6 of 10\n",
      "Cost at epoch 0: 165.1559176693878\n",
      "Cost at epoch 100: 18.977879789939802\n",
      "Cost at epoch 200: 9.009159645916407\n",
      "Cost at epoch 300: 6.491049396913563\n",
      "Cost at epoch 400: 5.13581032982069\n",
      "Cost at epoch 500: 4.257008661200552\n",
      "Cost at epoch 600: 3.5874196621967323\n",
      "Cost at epoch 700: 3.073017998848332\n",
      "Cost at epoch 800: 2.677274973440202\n",
      "Cost at epoch 900: 2.3584743605553564\n",
      "\n",
      "Testing at Iteration 6 of 10\n",
      "Accuracy at Iteration 6 of 10: 0.01295\n",
      "\n",
      "Training at Iteration 7 of 10\n",
      "Cost at epoch 0: 161.96924580951153\n",
      "Cost at epoch 100: 19.26737244230247\n",
      "Cost at epoch 200: 9.272700392862914\n",
      "Cost at epoch 300: 6.697346203046686\n",
      "Cost at epoch 400: 5.2293280067386565\n",
      "Cost at epoch 500: 4.277619734516196\n",
      "Cost at epoch 600: 3.607073253501969\n",
      "Cost at epoch 700: 3.0835791725856505\n",
      "Cost at epoch 800: 2.658299118915603\n",
      "Cost at epoch 900: 2.3229145030411584\n",
      "\n",
      "Testing at Iteration 7 of 10\n",
      "Accuracy at Iteration 7 of 10: 0.012666666666666666\n",
      "\n",
      "Training at Iteration 8 of 10\n",
      "Cost at epoch 0: 156.42359503243196\n",
      "Cost at epoch 100: 18.5496460413217\n",
      "Cost at epoch 200: 9.025697788010676\n",
      "Cost at epoch 300: 6.468239617788519\n",
      "Cost at epoch 400: 5.086063003024934\n",
      "Cost at epoch 500: 4.1674402575716725\n",
      "Cost at epoch 600: 3.495452355140103\n",
      "Cost at epoch 700: 3.0178544743990368\n",
      "Cost at epoch 800: 2.6490923857041357\n",
      "Cost at epoch 900: 2.3497389021374255\n",
      "\n",
      "Testing at Iteration 8 of 10\n",
      "Accuracy at Iteration 8 of 10: 0.0119\n",
      "\n",
      "Training at Iteration 9 of 10\n",
      "Cost at epoch 0: 165.5589322888972\n",
      "Cost at epoch 100: 19.311023651961648\n",
      "Cost at epoch 200: 9.434236579003667\n",
      "Cost at epoch 300: 6.796033792150569\n",
      "Cost at epoch 400: 5.415857534128467\n",
      "Cost at epoch 500: 4.421819911510313\n",
      "Cost at epoch 600: 3.660995252776747\n",
      "Cost at epoch 700: 3.13065470812102\n",
      "Cost at epoch 800: 2.7224570885663866\n",
      "Cost at epoch 900: 2.4067936065287387\n",
      "\n",
      "Testing at Iteration 9 of 10\n",
      "Accuracy at Iteration 9 of 10: 0.012533333333333334\n",
      "\n",
      "Training at Iteration 10 of 10\n",
      "Cost at epoch 0: 163.0626681118918\n",
      "Cost at epoch 100: 18.666815553793136\n",
      "Cost at epoch 200: 9.078977055203278\n",
      "Cost at epoch 300: 6.565068789269376\n",
      "Cost at epoch 400: 5.1646059831085305\n",
      "Cost at epoch 500: 4.241671969113865\n",
      "Cost at epoch 600: 3.559404484294116\n",
      "Cost at epoch 700: 3.041025026753322\n",
      "Cost at epoch 800: 2.6492568825139013\n",
      "Cost at epoch 900: 2.3613955599302945\n",
      "\n",
      "Testing at Iteration 10 of 10\n",
      "Accuracy at Iteration 10 of 10: 0.012466666666666666\n",
      "\n",
      "Average Accuracy:  0.01236\n",
      "K-Fold Cross Validation with 10 Folds and eta 0.001:\n",
      "\n",
      "Training at Iteration 1 of 10\n",
      "Cost at epoch 0: 154.0204261879796\n",
      "Cost at epoch 100: 118.12514153489046\n",
      "Cost at epoch 200: 90.24634920655994\n",
      "Cost at epoch 300: 69.2813670660041\n",
      "Cost at epoch 400: 54.0465064642861\n",
      "Cost at epoch 500: 42.65102997702679\n",
      "Cost at epoch 600: 34.51319439788387\n",
      "Cost at epoch 700: 28.791217936469714\n",
      "Cost at epoch 800: 24.590186699385924\n",
      "Cost at epoch 900: 21.258492545593676\n",
      "\n",
      "Testing at Iteration 1 of 10\n",
      "Accuracy at Iteration 1 of 10: 0.004\n",
      "\n",
      "Training at Iteration 2 of 10\n",
      "Cost at epoch 0: 159.82249455802494\n",
      "Cost at epoch 100: 121.62843989102382\n",
      "Cost at epoch 200: 91.92505997530077\n",
      "Cost at epoch 300: 69.99415950018516\n",
      "Cost at epoch 400: 54.294595084168364\n",
      "Cost at epoch 500: 42.77165007420251\n",
      "Cost at epoch 600: 34.663598688903114\n",
      "Cost at epoch 700: 28.70164300674479\n",
      "Cost at epoch 800: 24.34609382497538\n",
      "Cost at epoch 900: 21.04812019453769\n",
      "\n",
      "Testing at Iteration 2 of 10\n",
      "Accuracy at Iteration 2 of 10: 0.004583333333333333\n",
      "\n",
      "Training at Iteration 3 of 10\n",
      "Cost at epoch 0: 165.5174846398379\n",
      "Cost at epoch 100: 127.06150522999356\n",
      "Cost at epoch 200: 97.11890573724287\n",
      "Cost at epoch 300: 74.4374595258394\n",
      "Cost at epoch 400: 57.75599311662718\n",
      "Cost at epoch 500: 45.441157400759415\n",
      "Cost at epoch 600: 36.27963932789801\n",
      "Cost at epoch 700: 29.902140995783423\n",
      "Cost at epoch 800: 25.183172884218155\n",
      "Cost at epoch 900: 21.62098420351482\n",
      "\n",
      "Testing at Iteration 3 of 10\n",
      "Accuracy at Iteration 3 of 10: 0.004033333333333333\n",
      "\n",
      "Training at Iteration 4 of 10\n",
      "Cost at epoch 0: 158.77417071536553\n",
      "Cost at epoch 100: 121.10476546054265\n",
      "Cost at epoch 200: 92.07254501045566\n",
      "Cost at epoch 300: 70.61092132081953\n",
      "Cost at epoch 400: 54.791146310664146\n",
      "Cost at epoch 500: 43.423590383428866\n",
      "Cost at epoch 600: 35.05227569228839\n",
      "Cost at epoch 700: 28.9950384603499\n",
      "Cost at epoch 800: 24.563153211860104\n",
      "Cost at epoch 900: 21.195116819188403\n",
      "\n",
      "Testing at Iteration 4 of 10\n",
      "Accuracy at Iteration 4 of 10: 0.00485\n",
      "\n",
      "Training at Iteration 5 of 10\n",
      "Cost at epoch 0: 151.9104716884765\n",
      "Cost at epoch 100: 115.98995315761513\n",
      "Cost at epoch 200: 88.23417100789756\n",
      "Cost at epoch 300: 67.72299168893207\n",
      "Cost at epoch 400: 53.08866202174129\n",
      "Cost at epoch 500: 42.15685188988348\n",
      "Cost at epoch 600: 34.18663117451663\n",
      "Cost at epoch 700: 28.39827864504445\n",
      "Cost at epoch 800: 24.1600948042075\n",
      "Cost at epoch 900: 21.06310377497407\n",
      "\n",
      "Testing at Iteration 5 of 10\n",
      "Accuracy at Iteration 5 of 10: 0.004883333333333333\n",
      "\n",
      "Training at Iteration 6 of 10\n",
      "Cost at epoch 0: 163.89537462543421\n",
      "Cost at epoch 100: 124.68849812818854\n",
      "Cost at epoch 200: 94.12777150784146\n",
      "Cost at epoch 300: 71.61708090604351\n",
      "Cost at epoch 400: 54.95306794649429\n",
      "Cost at epoch 500: 43.06780223471162\n",
      "Cost at epoch 600: 34.65121641602279\n",
      "Cost at epoch 700: 28.593845601467677\n",
      "Cost at epoch 800: 24.159926030712114\n",
      "Cost at epoch 900: 20.817241694968526\n",
      "\n",
      "Testing at Iteration 6 of 10\n",
      "Accuracy at Iteration 6 of 10: 0.004783333333333333\n",
      "\n",
      "Training at Iteration 7 of 10\n",
      "Cost at epoch 0: 168.749540654098\n",
      "Cost at epoch 100: 127.9377715710554\n",
      "Cost at epoch 200: 96.48395110629741\n",
      "Cost at epoch 300: 72.96671335551099\n",
      "Cost at epoch 400: 55.85380190469938\n",
      "Cost at epoch 500: 43.57448837366019\n",
      "Cost at epoch 600: 34.747451930691156\n",
      "Cost at epoch 700: 28.519058621901756\n",
      "Cost at epoch 800: 24.064593901868317\n",
      "Cost at epoch 900: 20.627928038585388\n",
      "\n",
      "Testing at Iteration 7 of 10\n",
      "Accuracy at Iteration 7 of 10: 0.004583333333333333\n",
      "\n",
      "Training at Iteration 8 of 10\n",
      "Cost at epoch 0: 162.50041171418954\n",
      "Cost at epoch 100: 124.23677873104178\n",
      "Cost at epoch 200: 94.39298827348193\n",
      "Cost at epoch 300: 71.98229379018161\n",
      "Cost at epoch 400: 55.80325415523297\n",
      "Cost at epoch 500: 43.91705995369871\n",
      "Cost at epoch 600: 35.33738761562337\n",
      "Cost at epoch 700: 29.28704892573343\n",
      "Cost at epoch 800: 24.79415557378464\n",
      "Cost at epoch 900: 21.412497953217343\n",
      "\n",
      "Testing at Iteration 8 of 10\n",
      "Accuracy at Iteration 8 of 10: 0.004383333333333334\n",
      "\n",
      "Training at Iteration 9 of 10\n",
      "Cost at epoch 0: 163.94271465226572\n",
      "Cost at epoch 100: 125.06858273741159\n",
      "Cost at epoch 200: 94.80559033770678\n",
      "Cost at epoch 300: 72.30936325625383\n",
      "Cost at epoch 400: 55.73335086917762\n",
      "Cost at epoch 500: 43.50174830947736\n",
      "Cost at epoch 600: 34.931435490552396\n",
      "Cost at epoch 700: 28.74911120301276\n",
      "Cost at epoch 800: 24.289770013552513\n",
      "Cost at epoch 900: 20.957704184834377\n",
      "\n",
      "Testing at Iteration 9 of 10\n",
      "Accuracy at Iteration 9 of 10: 0.004683333333333334\n",
      "\n",
      "Training at Iteration 10 of 10\n",
      "Cost at epoch 0: 157.95182798026033\n",
      "Cost at epoch 100: 120.95255997198626\n",
      "Cost at epoch 200: 92.12483004977307\n",
      "Cost at epoch 300: 70.6858816047454\n",
      "Cost at epoch 400: 55.07830083407384\n",
      "Cost at epoch 500: 43.447387098471836\n",
      "Cost at epoch 600: 34.804397539212594\n",
      "Cost at epoch 700: 28.875340280782986\n",
      "Cost at epoch 800: 24.550911249404297\n",
      "Cost at epoch 900: 21.099648643960542\n",
      "\n",
      "Testing at Iteration 10 of 10\n",
      "Accuracy at Iteration 10 of 10: 0.004183333333333333\n",
      "\n",
      "Average Accuracy:  0.004496666666666666\n",
      "K-Fold Cross Validation with 10 Folds and eta 0.0001:\n",
      "\n",
      "Training at Iteration 1 of 10\n",
      "Cost at epoch 0: 169.02183185288928\n",
      "Cost at epoch 100: 164.60846343978696\n",
      "Cost at epoch 200: 160.26172901755703\n",
      "Cost at epoch 300: 156.13248150982776\n",
      "Cost at epoch 400: 152.09014028570778\n",
      "Cost at epoch 500: 148.1347694106543\n",
      "Cost at epoch 600: 144.31096228539587\n",
      "Cost at epoch 700: 140.6353328781443\n",
      "Cost at epoch 800: 137.07055114581527\n",
      "Cost at epoch 900: 133.48363616684415\n",
      "\n",
      "Testing at Iteration 1 of 10\n",
      "Accuracy at Iteration 1 of 10: 0.020283333333333334\n",
      "\n",
      "Training at Iteration 2 of 10\n",
      "Cost at epoch 0: 160.00679257363524\n",
      "Cost at epoch 100: 155.60870741929702\n",
      "Cost at epoch 200: 151.33245267966055\n",
      "Cost at epoch 300: 147.25047067511392\n",
      "Cost at epoch 400: 143.22467403649026\n",
      "Cost at epoch 500: 139.34863990426774\n",
      "Cost at epoch 600: 135.43800101099635\n",
      "Cost at epoch 700: 131.86247262727113\n",
      "Cost at epoch 800: 128.1828834316131\n",
      "Cost at epoch 900: 124.55328504864418\n",
      "\n",
      "Testing at Iteration 2 of 10\n",
      "Accuracy at Iteration 2 of 10: 0.017716666666666665\n",
      "\n",
      "Training at Iteration 3 of 10\n",
      "Cost at epoch 0: 163.45790415492274\n",
      "Cost at epoch 100: 159.16675317187756\n",
      "Cost at epoch 200: 155.02206873789422\n",
      "Cost at epoch 300: 151.00543559493786\n",
      "Cost at epoch 400: 146.9489394528275\n",
      "Cost at epoch 500: 142.9545334491228\n",
      "Cost at epoch 600: 139.09064429009078\n",
      "Cost at epoch 700: 135.40359819090838\n",
      "Cost at epoch 800: 131.77771514718128\n",
      "Cost at epoch 900: 128.10714311030523\n",
      "\n",
      "Testing at Iteration 3 of 10\n",
      "Accuracy at Iteration 3 of 10: 0.0196\n",
      "\n",
      "Training at Iteration 4 of 10\n",
      "Cost at epoch 0: 159.1540969144454\n",
      "Cost at epoch 100: 155.0260693670259\n",
      "Cost at epoch 200: 151.0087374421292\n",
      "Cost at epoch 300: 146.95649080874583\n",
      "Cost at epoch 400: 142.9762399159399\n",
      "Cost at epoch 500: 139.09554205141137\n",
      "Cost at epoch 600: 135.2868966461403\n",
      "Cost at epoch 700: 131.64732929949514\n",
      "Cost at epoch 800: 128.101097931606\n",
      "Cost at epoch 900: 124.61845733800895\n",
      "\n",
      "Testing at Iteration 4 of 10\n",
      "Accuracy at Iteration 4 of 10: 0.018233333333333334\n",
      "\n",
      "Training at Iteration 5 of 10\n",
      "Cost at epoch 0: 154.44341174462951\n",
      "Cost at epoch 100: 150.37795068166722\n",
      "Cost at epoch 200: 146.35608097232762\n",
      "Cost at epoch 300: 142.5059732501883\n",
      "Cost at epoch 400: 138.68826475837582\n",
      "Cost at epoch 500: 134.8393662136203\n",
      "Cost at epoch 600: 131.26555150705093\n",
      "Cost at epoch 700: 127.78895830718439\n",
      "Cost at epoch 800: 124.3038883191989\n",
      "Cost at epoch 900: 120.98075595496303\n",
      "\n",
      "Testing at Iteration 5 of 10\n",
      "Accuracy at Iteration 5 of 10: 0.018283333333333332\n",
      "\n",
      "Training at Iteration 6 of 10\n",
      "Cost at epoch 0: 159.85065278881103\n",
      "Cost at epoch 100: 155.74537800299242\n",
      "Cost at epoch 200: 151.65591174089425\n",
      "Cost at epoch 300: 147.6556985664866\n",
      "Cost at epoch 400: 143.75362790449893\n",
      "Cost at epoch 500: 140.13772309172862\n",
      "Cost at epoch 600: 136.47353949617388\n",
      "Cost at epoch 700: 132.85412158537315\n",
      "Cost at epoch 800: 129.27082273034247\n",
      "Cost at epoch 900: 125.74094300573002\n",
      "\n",
      "Testing at Iteration 6 of 10\n",
      "Accuracy at Iteration 6 of 10: 0.019133333333333332\n",
      "\n",
      "Training at Iteration 7 of 10\n",
      "Cost at epoch 0: 159.68255861250876\n",
      "Cost at epoch 100: 155.47199788167384\n",
      "Cost at epoch 200: 151.59329188889743\n",
      "Cost at epoch 300: 147.69432182072336\n",
      "Cost at epoch 400: 143.97192819372393\n",
      "Cost at epoch 500: 140.1883998325316\n",
      "Cost at epoch 600: 136.59133586557007\n",
      "Cost at epoch 700: 133.13226922975323\n",
      "Cost at epoch 800: 129.58604115850787\n",
      "Cost at epoch 900: 126.22746978801327\n",
      "\n",
      "Testing at Iteration 7 of 10\n",
      "Accuracy at Iteration 7 of 10: 0.018583333333333334\n",
      "\n",
      "Training at Iteration 8 of 10\n",
      "Cost at epoch 0: 157.99737892002193\n",
      "Cost at epoch 100: 153.83389984749968\n",
      "Cost at epoch 200: 149.792124741753\n",
      "Cost at epoch 300: 145.82225879336164\n",
      "Cost at epoch 400: 142.0401200538769\n",
      "Cost at epoch 500: 138.31777355637524\n",
      "Cost at epoch 600: 134.6925340898422\n",
      "Cost at epoch 700: 131.1906660313865\n",
      "Cost at epoch 800: 127.69512545365296\n",
      "Cost at epoch 900: 124.38272701724908\n",
      "\n",
      "Testing at Iteration 8 of 10\n",
      "Accuracy at Iteration 8 of 10: 0.018266666666666667\n",
      "\n",
      "Training at Iteration 9 of 10\n",
      "Cost at epoch 0: 148.05250314295387\n",
      "Cost at epoch 100: 144.16598039152194\n",
      "Cost at epoch 200: 140.38041528453243\n",
      "Cost at epoch 300: 136.5763296437291\n",
      "Cost at epoch 400: 132.96520907206965\n",
      "Cost at epoch 500: 129.32936444819833\n",
      "Cost at epoch 600: 125.74458858080426\n",
      "Cost at epoch 700: 122.30039758109064\n",
      "Cost at epoch 800: 119.01929032709833\n",
      "Cost at epoch 900: 115.82414482354503\n",
      "\n",
      "Testing at Iteration 9 of 10\n",
      "Accuracy at Iteration 9 of 10: 0.01915\n",
      "\n",
      "Training at Iteration 10 of 10\n",
      "Cost at epoch 0: 165.29144394440758\n",
      "Cost at epoch 100: 161.02651295801996\n",
      "Cost at epoch 200: 156.82745563803337\n",
      "Cost at epoch 300: 152.78018058135422\n",
      "Cost at epoch 400: 148.89470372954267\n",
      "Cost at epoch 500: 144.84007694306328\n",
      "Cost at epoch 600: 141.15875685302495\n",
      "Cost at epoch 700: 137.4802439779458\n",
      "Cost at epoch 800: 133.88402622285162\n",
      "Cost at epoch 900: 130.32914168649822\n",
      "\n",
      "Testing at Iteration 10 of 10\n",
      "Accuracy at Iteration 10 of 10: 0.020216666666666668\n",
      "\n",
      "Average Accuracy:  0.018946666666666667\n"
     ]
    },
    {
     "data": {
      "image/png": "[encoded data removed]",
      "text/plain": [
       "<Figure size 640x480 with 1 Axes>"
      ]
     },
     "metadata": {},
     "output_type": "display_data"
    }
   ],
   "source": [
    "k = 10\n",
    "iterations = 1000\n",
    "LRs = [0.1, 0.01, 0.001, 0.0001]\n",
    "for lr in LRs:\n",
    "    print(f\"K-Fold Cross Validation with {k} Folds and eta {lr}:\")\n",
    "    average_accuracy, c = k_fold_cross_validation(xTrain, yTrain, k, lr, iterations)\n",
    "    print(\"\\nAverage Accuracy: \", average_accuracy)\n",
    "    plt(c, label=f\"eta = {lr}\")"
   ]
  }
 ],
 "metadata": {
  "kernelspec": {
   "display_name": "Python 3",
   "language": "python",
   "name": "python3"
  },
  "language_info": {
   "codemirror_mode": {
    "name": "ipython",
    "version": 3
   },
   "file_extension": ".py",
   "mimetype": "text/x-python",
   "name": "python",
   "nbconvert_exporter": "python",
   "pygments_lexer": "ipython3",
   "version": "3.10.12"
  },
  "papermill": {
   "default_parameters": {},
   "duration": 20189.790491,
   "end_time": "2023-09-02T19:21:14.910879",
   "environment_variables": {},
   "exception": null,
   "input_path": "__notebook__.ipynb",
   "output_path": "__notebook__.ipynb",
   "parameters": {},
   "start_time": "2023-09-02T13:44:45.120388",
   "version": "2.4.0"
  }
 },
 "nbformat": 4,
 "nbformat_minor": 5
}
