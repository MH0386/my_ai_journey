{
 "cells": [
  {
   "cell_type": "markdown",
   "id": "7fb27b941602401d91542211134fc71a",
   "metadata": {},
   "source": "<a href=\"https://www.kaggle.com/code/mh0386/iris-classification-from-scratch?scriptVersionId=248971831\" target=\"_blank\"><img align=\"left\" alt=\"Kaggle\" title=\"Open in Kaggle\" src=\"https://kaggle.com/static/images/open-in-kaggle.svg\"></a>"
  },
  {
   "cell_type": "markdown",
   "id": "c0981670",
   "metadata": {
    "papermill": {
     "duration": 0.005514,
     "end_time": "2025-07-05T16:51:14.570036",
     "exception": false,
     "start_time": "2025-07-05T16:51:14.564522",
     "status": "completed"
    },
    "tags": []
   },
   "source": [
    "# Iris Classification from Scratch"
   ]
  },
  {
   "cell_type": "markdown",
   "id": "054a9d34",
   "metadata": {
    "papermill": {
     "duration": 0.003926,
     "end_time": "2025-07-05T16:51:14.578958",
     "exception": false,
     "start_time": "2025-07-05T16:51:14.575032",
     "status": "completed"
    },
    "tags": []
   },
   "source": [
    "- Created to classify Iris flowers into three species: `Setosa`, `Versicolor`, and `Virginica`\n",
    "- Trained on a dataset of 150 Iris flowers\n",
    "- Achieved an accuracy of `~93%`"
   ]
  },
  {
   "cell_type": "markdown",
   "id": "1d7af0c0",
   "metadata": {
    "papermill": {
     "duration": 0.003685,
     "end_time": "2025-07-05T16:51:14.586665",
     "exception": false,
     "start_time": "2025-07-05T16:51:14.58298",
     "status": "completed"
    },
    "tags": []
   },
   "source": [
    "## Collaborators:\n",
    "* [Mohamed Hisham](https://kaggle.com/MH0386)\n",
    "* [Abdelrahman Mostafa](https://www.kaggle.com/abdelrahmanm2003)\n",
    "* [Abdelrahman Elshafie](https://www.kaggle.com/abdelrahmansaeed3)"
   ]
  },
  {
   "cell_type": "markdown",
   "id": "45419f48",
   "metadata": {
    "papermill": {
     "duration": 0.003656,
     "end_time": "2025-07-05T16:51:14.594376",
     "exception": false,
     "start_time": "2025-07-05T16:51:14.59072",
     "status": "completed"
    },
    "tags": []
   },
   "source": [
    "# Imports"
   ]
  },
  {
   "cell_type": "code",
   "execution_count": 1,
   "id": "3a35771e",
   "metadata": {
    "cell_id": "7ce8bf91aa8442eb882190fabe89159c",
    "deepnote_cell_type": "code",
    "deepnote_to_be_reexecuted": false,
    "execution": {
     "iopub.execute_input": "2025-07-05T16:51:14.603435Z",
     "iopub.status.busy": "2025-07-05T16:51:14.603141Z",
     "iopub.status.idle": "2025-07-05T16:51:17.824404Z",
     "shell.execute_reply": "2025-07-05T16:51:17.82371Z"
    },
    "execution_millis": 4560,
    "execution_start": 1668505465831,
    "papermill": {
     "duration": 3.227765,
     "end_time": "2025-07-05T16:51:17.826013",
     "exception": false,
     "start_time": "2025-07-05T16:51:14.598248",
     "status": "completed"
    },
    "source_hash": "4727c4c6",
    "tags": []
   },
   "outputs": [],
   "source": [
    "from sklearn.utils import shuffle\n",
    "from sklearn.naive_bayes import GaussianNB\n",
    "from sklearn import datasets\n",
    "from mlxtend.plotting import plot_decision_regions\n",
    "from matplotlib import pyplot as plt"
   ]
  },
  {
   "cell_type": "markdown",
   "id": "3b892fa3",
   "metadata": {
    "papermill": {
     "duration": 0.003898,
     "end_time": "2025-07-05T16:51:17.834218",
     "exception": false,
     "start_time": "2025-07-05T16:51:17.83032",
     "status": "completed"
    },
    "tags": []
   },
   "source": [
    "# Loading the data set"
   ]
  },
  {
   "cell_type": "code",
   "execution_count": 2,
   "id": "7d4405f8",
   "metadata": {
    "cell_id": "19b73e3b632240a29a0d561937920f7d",
    "deepnote_cell_type": "code",
    "deepnote_to_be_reexecuted": false,
    "execution": {
     "iopub.execute_input": "2025-07-05T16:51:17.843894Z",
     "iopub.status.busy": "2025-07-05T16:51:17.843424Z",
     "iopub.status.idle": "2025-07-05T16:51:17.85273Z",
     "shell.execute_reply": "2025-07-05T16:51:17.852084Z"
    },
    "execution_millis": 44,
    "execution_start": 1668505470435,
    "papermill": {
     "duration": 0.015612,
     "end_time": "2025-07-05T16:51:17.85403",
     "exception": false,
     "start_time": "2025-07-05T16:51:17.838418",
     "status": "completed"
    },
    "source_hash": "73fc444f",
    "tags": []
   },
   "outputs": [],
   "source": [
    "dataset = datasets.load_iris()\n",
    "data = dataset.data[:, [0, 2]]  # assigning the features data\n",
    "data_class = dataset.target  # assigning the label data\n",
    "remaining_features = dataset.data[:, [1, 3]]"
   ]
  },
  {
   "cell_type": "code",
   "execution_count": 3,
   "id": "e72701b6",
   "metadata": {
    "collapsed": true,
    "execution": {
     "iopub.execute_input": "2025-07-05T16:51:17.863142Z",
     "iopub.status.busy": "2025-07-05T16:51:17.862872Z",
     "iopub.status.idle": "2025-07-05T16:51:17.87067Z",
     "shell.execute_reply": "2025-07-05T16:51:17.869917Z"
    },
    "jupyter": {
     "outputs_hidden": true
    },
    "papermill": {
     "duration": 0.013768,
     "end_time": "2025-07-05T16:51:17.871902",
     "exception": false,
     "start_time": "2025-07-05T16:51:17.858134",
     "status": "completed"
    },
    "tags": []
   },
   "outputs": [
    {
     "data": {
      "text/plain": [
       "array([[5.1, 1.4],\n",
       "       [4.9, 1.4],\n",
       "       [4.7, 1.3],\n",
       "       [4.6, 1.5],\n",
       "       [5. , 1.4],\n",
       "       [5.4, 1.7],\n",
       "       [4.6, 1.4],\n",
       "       [5. , 1.5],\n",
       "       [4.4, 1.4],\n",
       "       [4.9, 1.5],\n",
       "       [5.4, 1.5],\n",
       "       [4.8, 1.6],\n",
       "       [4.8, 1.4],\n",
       "       [4.3, 1.1],\n",
       "       [5.8, 1.2],\n",
       "       [5.7, 1.5],\n",
       "       [5.4, 1.3],\n",
       "       [5.1, 1.4],\n",
       "       [5.7, 1.7],\n",
       "       [5.1, 1.5],\n",
       "       [5.4, 1.7],\n",
       "       [5.1, 1.5],\n",
       "       [4.6, 1. ],\n",
       "       [5.1, 1.7],\n",
       "       [4.8, 1.9],\n",
       "       [5. , 1.6],\n",
       "       [5. , 1.6],\n",
       "       [5.2, 1.5],\n",
       "       [5.2, 1.4],\n",
       "       [4.7, 1.6],\n",
       "       [4.8, 1.6],\n",
       "       [5.4, 1.5],\n",
       "       [5.2, 1.5],\n",
       "       [5.5, 1.4],\n",
       "       [4.9, 1.5],\n",
       "       [5. , 1.2],\n",
       "       [5.5, 1.3],\n",
       "       [4.9, 1.4],\n",
       "       [4.4, 1.3],\n",
       "       [5.1, 1.5],\n",
       "       [5. , 1.3],\n",
       "       [4.5, 1.3],\n",
       "       [4.4, 1.3],\n",
       "       [5. , 1.6],\n",
       "       [5.1, 1.9],\n",
       "       [4.8, 1.4],\n",
       "       [5.1, 1.6],\n",
       "       [4.6, 1.4],\n",
       "       [5.3, 1.5],\n",
       "       [5. , 1.4],\n",
       "       [7. , 4.7],\n",
       "       [6.4, 4.5],\n",
       "       [6.9, 4.9],\n",
       "       [5.5, 4. ],\n",
       "       [6.5, 4.6],\n",
       "       [5.7, 4.5],\n",
       "       [6.3, 4.7],\n",
       "       [4.9, 3.3],\n",
       "       [6.6, 4.6],\n",
       "       [5.2, 3.9],\n",
       "       [5. , 3.5],\n",
       "       [5.9, 4.2],\n",
       "       [6. , 4. ],\n",
       "       [6.1, 4.7],\n",
       "       [5.6, 3.6],\n",
       "       [6.7, 4.4],\n",
       "       [5.6, 4.5],\n",
       "       [5.8, 4.1],\n",
       "       [6.2, 4.5],\n",
       "       [5.6, 3.9],\n",
       "       [5.9, 4.8],\n",
       "       [6.1, 4. ],\n",
       "       [6.3, 4.9],\n",
       "       [6.1, 4.7],\n",
       "       [6.4, 4.3],\n",
       "       [6.6, 4.4],\n",
       "       [6.8, 4.8],\n",
       "       [6.7, 5. ],\n",
       "       [6. , 4.5],\n",
       "       [5.7, 3.5],\n",
       "       [5.5, 3.8],\n",
       "       [5.5, 3.7],\n",
       "       [5.8, 3.9],\n",
       "       [6. , 5.1],\n",
       "       [5.4, 4.5],\n",
       "       [6. , 4.5],\n",
       "       [6.7, 4.7],\n",
       "       [6.3, 4.4],\n",
       "       [5.6, 4.1],\n",
       "       [5.5, 4. ],\n",
       "       [5.5, 4.4],\n",
       "       [6.1, 4.6],\n",
       "       [5.8, 4. ],\n",
       "       [5. , 3.3],\n",
       "       [5.6, 4.2],\n",
       "       [5.7, 4.2],\n",
       "       [5.7, 4.2],\n",
       "       [6.2, 4.3],\n",
       "       [5.1, 3. ],\n",
       "       [5.7, 4.1],\n",
       "       [6.3, 6. ],\n",
       "       [5.8, 5.1],\n",
       "       [7.1, 5.9],\n",
       "       [6.3, 5.6],\n",
       "       [6.5, 5.8],\n",
       "       [7.6, 6.6],\n",
       "       [4.9, 4.5],\n",
       "       [7.3, 6.3],\n",
       "       [6.7, 5.8],\n",
       "       [7.2, 6.1],\n",
       "       [6.5, 5.1],\n",
       "       [6.4, 5.3],\n",
       "       [6.8, 5.5],\n",
       "       [5.7, 5. ],\n",
       "       [5.8, 5.1],\n",
       "       [6.4, 5.3],\n",
       "       [6.5, 5.5],\n",
       "       [7.7, 6.7],\n",
       "       [7.7, 6.9],\n",
       "       [6. , 5. ],\n",
       "       [6.9, 5.7],\n",
       "       [5.6, 4.9],\n",
       "       [7.7, 6.7],\n",
       "       [6.3, 4.9],\n",
       "       [6.7, 5.7],\n",
       "       [7.2, 6. ],\n",
       "       [6.2, 4.8],\n",
       "       [6.1, 4.9],\n",
       "       [6.4, 5.6],\n",
       "       [7.2, 5.8],\n",
       "       [7.4, 6.1],\n",
       "       [7.9, 6.4],\n",
       "       [6.4, 5.6],\n",
       "       [6.3, 5.1],\n",
       "       [6.1, 5.6],\n",
       "       [7.7, 6.1],\n",
       "       [6.3, 5.6],\n",
       "       [6.4, 5.5],\n",
       "       [6. , 4.8],\n",
       "       [6.9, 5.4],\n",
       "       [6.7, 5.6],\n",
       "       [6.9, 5.1],\n",
       "       [5.8, 5.1],\n",
       "       [6.8, 5.9],\n",
       "       [6.7, 5.7],\n",
       "       [6.7, 5.2],\n",
       "       [6.3, 5. ],\n",
       "       [6.5, 5.2],\n",
       "       [6.2, 5.4],\n",
       "       [5.9, 5.1]])"
      ]
     },
     "execution_count": 3,
     "metadata": {},
     "output_type": "execute_result"
    }
   ],
   "source": [
    "data"
   ]
  },
  {
   "cell_type": "markdown",
   "id": "77d20e50",
   "metadata": {
    "papermill": {
     "duration": 0.004045,
     "end_time": "2025-07-05T16:51:17.880309",
     "exception": false,
     "start_time": "2025-07-05T16:51:17.876264",
     "status": "completed"
    },
    "tags": []
   },
   "source": [
    "# Random shuffling the data"
   ]
  },
  {
   "cell_type": "code",
   "execution_count": 4,
   "id": "ade8eaa6",
   "metadata": {
    "cell_id": "36dbed609471408887c7818c5d1a4d73",
    "deepnote_cell_type": "code",
    "deepnote_to_be_reexecuted": false,
    "execution": {
     "iopub.execute_input": "2025-07-05T16:51:17.890129Z",
     "iopub.status.busy": "2025-07-05T16:51:17.889579Z",
     "iopub.status.idle": "2025-07-05T16:51:17.895071Z",
     "shell.execute_reply": "2025-07-05T16:51:17.894303Z"
    },
    "execution_start": 1668505470524,
    "papermill": {
     "duration": 0.011786,
     "end_time": "2025-07-05T16:51:17.896351",
     "exception": false,
     "start_time": "2025-07-05T16:51:17.884565",
     "status": "completed"
    },
    "source_hash": "90976ea6",
    "tags": []
   },
   "outputs": [],
   "source": [
    "data, data_class, remaining_features = shuffle(data, data_class, remaining_features)"
   ]
  },
  {
   "cell_type": "markdown",
   "id": "1d8e6aa0",
   "metadata": {
    "papermill": {
     "duration": 0.003944,
     "end_time": "2025-07-05T16:51:17.904573",
     "exception": false,
     "start_time": "2025-07-05T16:51:17.900629",
     "status": "completed"
    },
    "tags": []
   },
   "source": [
    "# Loading the classifier"
   ]
  },
  {
   "cell_type": "code",
   "execution_count": 5,
   "id": "7c2c4ddc",
   "metadata": {
    "cell_id": "33a4ba63f57947b7a6f54b68c2733db5",
    "deepnote_cell_type": "code",
    "deepnote_to_be_reexecuted": false,
    "execution": {
     "iopub.execute_input": "2025-07-05T16:51:17.914405Z",
     "iopub.status.busy": "2025-07-05T16:51:17.913826Z",
     "iopub.status.idle": "2025-07-05T16:51:17.917618Z",
     "shell.execute_reply": "2025-07-05T16:51:17.916847Z"
    },
    "execution_start": 1668505470567,
    "papermill": {
     "duration": 0.01003,
     "end_time": "2025-07-05T16:51:17.918914",
     "exception": false,
     "start_time": "2025-07-05T16:51:17.908884",
     "status": "completed"
    },
    "source_hash": "49981034",
    "tags": []
   },
   "outputs": [],
   "source": [
    "model = GaussianNB()"
   ]
  },
  {
   "cell_type": "markdown",
   "id": "7c62f782",
   "metadata": {
    "papermill": {
     "duration": 0.004081,
     "end_time": "2025-07-05T16:51:17.927347",
     "exception": false,
     "start_time": "2025-07-05T16:51:17.923266",
     "status": "completed"
    },
    "tags": []
   },
   "source": [
    "# Splitting the data into train, validate, test samples"
   ]
  },
  {
   "cell_type": "code",
   "execution_count": 6,
   "id": "e1eb5973",
   "metadata": {
    "cell_id": "4d24e37945d84bb78ea4abaa871f676a",
    "deepnote_cell_type": "code",
    "deepnote_to_be_reexecuted": false,
    "execution": {
     "iopub.execute_input": "2025-07-05T16:51:17.937308Z",
     "iopub.status.busy": "2025-07-05T16:51:17.937035Z",
     "iopub.status.idle": "2025-07-05T16:51:17.941958Z",
     "shell.execute_reply": "2025-07-05T16:51:17.94129Z"
    },
    "execution_start": 1668505470611,
    "papermill": {
     "duration": 0.01122,
     "end_time": "2025-07-05T16:51:17.943238",
     "exception": false,
     "start_time": "2025-07-05T16:51:17.932018",
     "status": "completed"
    },
    "source_hash": "2fcdc4b9",
    "tags": []
   },
   "outputs": [],
   "source": [
    "def split(features, label, valRatio, testRatio):\n",
    "    # getting the samples sizes\n",
    "    testSample = int(len(label) * testRatio)\n",
    "    validationSample = int(len(label) * valRatio + testSample)\n",
    "\n",
    "    # splitting the data into 3 samples\n",
    "    x_test, y_test = features[:testSample], label[:testSample]\n",
    "    x_validation, y_validation = (\n",
    "        features[testSample:validationSample],\n",
    "        label[testSample:validationSample],\n",
    "    )\n",
    "    x_train, y_train = features[validationSample:], label[validationSample:]\n",
    "\n",
    "    # returning samples\n",
    "    return x_train, y_train, x_test, y_test, x_validation, y_validation"
   ]
  },
  {
   "cell_type": "code",
   "execution_count": 7,
   "id": "6143754b",
   "metadata": {
    "cell_id": "450dedc2b2554293a2cad2311f4fe12f",
    "deepnote_cell_type": "code",
    "deepnote_to_be_reexecuted": false,
    "execution": {
     "iopub.execute_input": "2025-07-05T16:51:17.952926Z",
     "iopub.status.busy": "2025-07-05T16:51:17.952652Z",
     "iopub.status.idle": "2025-07-05T16:51:17.957244Z",
     "shell.execute_reply": "2025-07-05T16:51:17.956627Z"
    },
    "execution_start": 1668505470779,
    "papermill": {
     "duration": 0.010788,
     "end_time": "2025-07-05T16:51:17.958414",
     "exception": false,
     "start_time": "2025-07-05T16:51:17.947626",
     "status": "completed"
    },
    "source_hash": "c287c7e9",
    "tags": []
   },
   "outputs": [],
   "source": [
    "def train_validate_test_split(features, labels, testRatio=0.3, valRatio=0.3):\n",
    "    # first we split the data into 3 sets:\n",
    "    # 1) train dataset to train our model (x_train, y_train)\n",
    "    # 2) validation dataset to improve model's accuracy (x_validation, y_validation)\n",
    "    # 3) test dataset to test the model and make it predict the labels for unknown data (x_test, y_test)\n",
    "    x_train, y_train, x_test, y_test, x_validation, y_validation = split(\n",
    "        features, labels, valRatio, testRatio\n",
    "    )\n",
    "\n",
    "    # secondly, we train our model using the training samples\n",
    "    train(x_train, y_train)\n",
    "\n",
    "    # thirdly, we validate the model using validation samples\n",
    "    validate(x_validation, y_validation)\n",
    "\n",
    "    # and then we test the model and let it predict the labels of unknown data\n",
    "    predicted_values = test(x_test)\n",
    "\n",
    "    # finally, we calculate the model's accuracy\n",
    "    calc_accuracy(predicted_values, y_test)"
   ]
  },
  {
   "cell_type": "markdown",
   "id": "653cacc1",
   "metadata": {
    "papermill": {
     "duration": 0.00395,
     "end_time": "2025-07-05T16:51:17.9669",
     "exception": false,
     "start_time": "2025-07-05T16:51:17.96295",
     "status": "completed"
    },
    "tags": []
   },
   "source": [
    "#  Train the model"
   ]
  },
  {
   "cell_type": "code",
   "execution_count": 8,
   "id": "5eafe513",
   "metadata": {
    "cell_id": "7ca6efdf158b45e097cfcc566c2fcdb9",
    "deepnote_cell_type": "code",
    "deepnote_to_be_reexecuted": false,
    "execution": {
     "iopub.execute_input": "2025-07-05T16:51:17.976134Z",
     "iopub.status.busy": "2025-07-05T16:51:17.975862Z",
     "iopub.status.idle": "2025-07-05T16:51:17.979765Z",
     "shell.execute_reply": "2025-07-05T16:51:17.979099Z"
    },
    "execution_millis": 0,
    "execution_start": 1668505470612,
    "papermill": {
     "duration": 0.009942,
     "end_time": "2025-07-05T16:51:17.980976",
     "exception": false,
     "start_time": "2025-07-05T16:51:17.971034",
     "status": "completed"
    },
    "source_hash": "509e55ee",
    "tags": []
   },
   "outputs": [],
   "source": [
    "def train(xtrain, ytrain):\n",
    "    hist = model.fit(xtrain, ytrain)\n",
    "    return hist"
   ]
  },
  {
   "cell_type": "markdown",
   "id": "af6a8d36",
   "metadata": {
    "papermill": {
     "duration": 0.003977,
     "end_time": "2025-07-05T16:51:17.989237",
     "exception": false,
     "start_time": "2025-07-05T16:51:17.98526",
     "status": "completed"
    },
    "tags": []
   },
   "source": [
    "# Validate the model and trying to increase the accuracy"
   ]
  },
  {
   "cell_type": "code",
   "execution_count": 9,
   "id": "c31343e6",
   "metadata": {
    "cell_id": "a3b471110701468f805743a1cb7c2a5c",
    "deepnote_cell_type": "code",
    "deepnote_to_be_reexecuted": false,
    "execution": {
     "iopub.execute_input": "2025-07-05T16:51:17.998497Z",
     "iopub.status.busy": "2025-07-05T16:51:17.998232Z",
     "iopub.status.idle": "2025-07-05T16:51:18.001837Z",
     "shell.execute_reply": "2025-07-05T16:51:18.001246Z"
    },
    "execution_start": 1668505470655,
    "papermill": {
     "duration": 0.009718,
     "end_time": "2025-07-05T16:51:18.00308",
     "exception": false,
     "start_time": "2025-07-05T16:51:17.993362",
     "status": "completed"
    },
    "source_hash": "83d62e0c",
    "tags": []
   },
   "outputs": [],
   "source": [
    "def validate(xvalidation, yvalidation):\n",
    "    model.fit(xvalidation, yvalidation)"
   ]
  },
  {
   "cell_type": "markdown",
   "id": "c3b515fb",
   "metadata": {
    "papermill": {
     "duration": 0.003989,
     "end_time": "2025-07-05T16:51:18.011368",
     "exception": false,
     "start_time": "2025-07-05T16:51:18.007379",
     "status": "completed"
    },
    "tags": []
   },
   "source": [
    "# Test the model used"
   ]
  },
  {
   "cell_type": "code",
   "execution_count": 10,
   "id": "793bcb08",
   "metadata": {
    "cell_id": "e80d396b2756449abdb171f98aa2896d",
    "deepnote_cell_type": "code",
    "deepnote_to_be_reexecuted": false,
    "execution": {
     "iopub.execute_input": "2025-07-05T16:51:18.020828Z",
     "iopub.status.busy": "2025-07-05T16:51:18.020288Z",
     "iopub.status.idle": "2025-07-05T16:51:18.023833Z",
     "shell.execute_reply": "2025-07-05T16:51:18.023247Z"
    },
    "execution_millis": 23,
    "execution_start": 1668505470656,
    "papermill": {
     "duration": 0.009595,
     "end_time": "2025-07-05T16:51:18.025057",
     "exception": false,
     "start_time": "2025-07-05T16:51:18.015462",
     "status": "completed"
    },
    "source_hash": "4cc2eb4c",
    "tags": []
   },
   "outputs": [],
   "source": [
    "def test(xtest):\n",
    "    predicted_results = model.predict(xtest)\n",
    "    return predicted_results"
   ]
  },
  {
   "cell_type": "markdown",
   "id": "a080c826",
   "metadata": {
    "papermill": {
     "duration": 0.004018,
     "end_time": "2025-07-05T16:51:18.033298",
     "exception": false,
     "start_time": "2025-07-05T16:51:18.02928",
     "status": "completed"
    },
    "tags": []
   },
   "source": [
    "# Calculate model accuracy"
   ]
  },
  {
   "cell_type": "code",
   "execution_count": 11,
   "id": "c295d361",
   "metadata": {
    "cell_id": "5c9768dd283a4946b9c3f6be784687f9",
    "deepnote_cell_type": "code",
    "deepnote_to_be_reexecuted": false,
    "execution": {
     "iopub.execute_input": "2025-07-05T16:51:18.042905Z",
     "iopub.status.busy": "2025-07-05T16:51:18.042323Z",
     "iopub.status.idle": "2025-07-05T16:51:18.046491Z",
     "shell.execute_reply": "2025-07-05T16:51:18.04586Z"
    },
    "execution_millis": 0,
    "execution_start": 1668505470735,
    "papermill": {
     "duration": 0.010233,
     "end_time": "2025-07-05T16:51:18.047681",
     "exception": false,
     "start_time": "2025-07-05T16:51:18.037448",
     "status": "completed"
    },
    "source_hash": "b962994f",
    "tags": []
   },
   "outputs": [],
   "source": [
    "def calc_accuracy(predicted, original):\n",
    "    cnt = 0\n",
    "    for i in range(len(predicted)):\n",
    "        if predicted[i] == original[i]:\n",
    "            cnt += 1\n",
    "    print(\"Accuracy = \", cnt / len(original) * 100)"
   ]
  },
  {
   "cell_type": "markdown",
   "id": "33a2e2f0",
   "metadata": {
    "papermill": {
     "duration": 0.00402,
     "end_time": "2025-07-05T16:51:18.056088",
     "exception": false,
     "start_time": "2025-07-05T16:51:18.052068",
     "status": "completed"
    },
    "tags": []
   },
   "source": [
    "# calling train_validate_test_split() function to train, validate, test, and calculate the accuracy of the model"
   ]
  },
  {
   "cell_type": "code",
   "execution_count": 12,
   "id": "83d5dcd3",
   "metadata": {
    "cell_id": "69ec6461304f4e4e86d60ca59e646189",
    "deepnote_cell_type": "code",
    "deepnote_to_be_reexecuted": false,
    "execution": {
     "iopub.execute_input": "2025-07-05T16:51:18.065709Z",
     "iopub.status.busy": "2025-07-05T16:51:18.065126Z",
     "iopub.status.idle": "2025-07-05T16:51:18.077153Z",
     "shell.execute_reply": "2025-07-05T16:51:18.07638Z"
    },
    "execution_start": 1668505470780,
    "papermill": {
     "duration": 0.018142,
     "end_time": "2025-07-05T16:51:18.078397",
     "exception": false,
     "start_time": "2025-07-05T16:51:18.060255",
     "status": "completed"
    },
    "source_hash": "387e19e",
    "tags": []
   },
   "outputs": [
    {
     "name": "stdout",
     "output_type": "stream",
     "text": [
      "Accuracy =  91.11111111111111\n"
     ]
    }
   ],
   "source": [
    "train_validate_test_split(data, data_class)"
   ]
  },
  {
   "cell_type": "markdown",
   "id": "6d165633",
   "metadata": {
    "papermill": {
     "duration": 0.004099,
     "end_time": "2025-07-05T16:51:18.087025",
     "exception": false,
     "start_time": "2025-07-05T16:51:18.082926",
     "status": "completed"
    },
    "tags": []
   },
   "source": [
    "# Using plot_decision_regions() function to draw the decision boundaries of the model"
   ]
  },
  {
   "cell_type": "code",
   "execution_count": 13,
   "id": "e32c5599",
   "metadata": {
    "cell_id": "fe30ab84ab3645b08528c36d708c83b1",
    "deepnote_cell_type": "code",
    "deepnote_to_be_reexecuted": false,
    "execution": {
     "iopub.execute_input": "2025-07-05T16:51:18.096385Z",
     "iopub.status.busy": "2025-07-05T16:51:18.096116Z",
     "iopub.status.idle": "2025-07-05T16:51:18.551313Z",
     "shell.execute_reply": "2025-07-05T16:51:18.550364Z"
    },
    "execution_millis": 1229,
    "execution_start": 1668505470823,
    "papermill": {
     "duration": 0.461559,
     "end_time": "2025-07-05T16:51:18.552737",
     "exception": false,
     "start_time": "2025-07-05T16:51:18.091178",
     "status": "completed"
    },
    "source_hash": "66bb6eee",
    "tags": []
   },
   "outputs": [
    {
     "data": {
      "image/png": "[encoded data removed]",
      "text/plain": [
       "<Figure size 640x480 with 1 Axes>"
      ]
     },
     "metadata": {},
     "output_type": "display_data"
    }
   ],
   "source": [
    "ax = plot_decision_regions(\n",
    "    data,\n",
    "    data_class,\n",
    "    clf=model,\n",
    "    legend=0,\n",
    "    filler_feature_values={1: 3.045, 3: 1.198667},\n",
    "    filler_feature_ranges={1: 2.2, 3: 2.4},\n",
    ")\n",
    "handles, labels = ax.get_legend_handles_labels()\n",
    "ax.legend(handles, [\"Iris-setosa\", \"Iris-versicolor\", \"Iris-virginica\"])\n",
    "plt.show()"
   ]
  }
 ],
 "metadata": {
  "kaggle": {
   "accelerator": "none",
   "dataSources": [],
   "isGpuEnabled": false,
   "isInternetEnabled": true,
   "language": "python",
   "sourceType": "notebook"
  },
  "kernelspec": {
   "display_name": "Python 3",
   "language": "python",
   "name": "python3"
  },
  "language_info": {
   "codemirror_mode": {
    "name": "ipython",
    "version": 3
   },
   "file_extension": ".py",
   "mimetype": "text/x-python",
   "name": "python",
   "nbconvert_exporter": "python",
   "pygments_lexer": "ipython3",
   "version": "3.11.11"
  },
  "papermill": {
   "default_parameters": {},
   "duration": 9.002917,
   "end_time": "2025-07-05T16:51:19.176213",
   "environment_variables": {},
   "exception": null,
   "input_path": "__notebook__.ipynb",
   "output_path": "__notebook__.ipynb",
   "parameters": {},
   "start_time": "2025-07-05T16:51:10.173296",
   "version": "2.6.0"
  }
 },
 "nbformat": 4,
 "nbformat_minor": 5
}