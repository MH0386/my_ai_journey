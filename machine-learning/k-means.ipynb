{
 "cells": [
  {
   "cell_type": "code",
   "execution_count": 1,
   "id": "2431331f",
   "metadata": {
    "execution": {
     "iopub.execute_input": "2025-02-11T10:33:41.930631Z",
     "iopub.status.busy": "2025-02-11T10:33:41.930426Z",
     "iopub.status.idle": "2025-02-11T10:34:07.485121Z",
     "shell.execute_reply": "2025-02-11T10:34:07.483989Z"
    },
    "id": "5aDVwFVZiIkA",
    "papermill": {
     "duration": 25.563762,
     "end_time": "2025-02-11T10:34:07.487258",
     "exception": false,
     "start_time": "2025-02-11T10:33:41.923496",
     "status": "completed"
    },
    "tags": []
   },
   "outputs": [
    {
     "name": "stderr",
     "output_type": "stream",
     "text": [
      "WARNING: Logging before InitGoogle() is written to STDERR\n",
      "E0000 00:00:1739270029.555054      74 common_lib.cc:612] Could not set metric server port: INVALID_ARGUMENT: Could not find SliceBuilder port 8471 in any of the 0 ports provided in `tpu_process_addresses`=\"local\"\n",
      "=== Source Location Trace: === \n",
      "learning/45eac/tfrc/runtime/common_lib.cc:230\n"
     ]
    }
   ],
   "source": [
    "import sys\n",
    "import cv2\n",
    "import numpy as np\n",
    "from keras.datasets import mnist\n",
    "from sklearn.model_selection import train_test_split\n",
    "from sklearn.metrics import accuracy_score, confusion_matrix, ConfusionMatrixDisplay\n",
    "from sklearn.preprocessing import OneHotEncoder\n",
    "from sklearn.cluster import KMeans\n",
    "import matplotlib.pyplot as plt"
   ]
  },
  {
   "cell_type": "code",
   "execution_count": 2,
   "id": "470948d5",
   "metadata": {
    "execution": {
     "iopub.execute_input": "2025-02-11T10:34:07.499179Z",
     "iopub.status.busy": "2025-02-11T10:34:07.498751Z",
     "iopub.status.idle": "2025-02-11T10:34:07.502237Z",
     "shell.execute_reply": "2025-02-11T10:34:07.501379Z"
    },
    "id": "JGkK08mzpa3y",
    "papermill": {
     "duration": 0.011194,
     "end_time": "2025-02-11T10:34:07.503723",
     "exception": false,
     "start_time": "2025-02-11T10:34:07.492529",
     "status": "completed"
    },
    "tags": []
   },
   "outputs": [],
   "source": [
    "NUM_BLOCKS = 9\n",
    "block_size = int(27 / np.sqrt(NUM_BLOCKS))"
   ]
  },
  {
   "cell_type": "code",
   "execution_count": 3,
   "id": "65a260cd",
   "metadata": {
    "execution": {
     "iopub.execute_input": "2025-02-11T10:34:07.515214Z",
     "iopub.status.busy": "2025-02-11T10:34:07.515002Z",
     "iopub.status.idle": "2025-02-11T10:34:07.519697Z",
     "shell.execute_reply": "2025-02-11T10:34:07.518953Z"
    },
    "papermill": {
     "duration": 0.012168,
     "end_time": "2025-02-11T10:34:07.521159",
     "exception": false,
     "start_time": "2025-02-11T10:34:07.508991",
     "status": "completed"
    },
    "tags": []
   },
   "outputs": [],
   "source": [
    "def calculate_centroid(block):\n",
    "    \"\"\"Calculate the centroid of a 2D matrix\"\"\"\n",
    "    rows, cols = block.shape\n",
    "    x_centroid = 0.0\n",
    "    y_centroid = 0.0\n",
    "    for i in range(rows):\n",
    "        for j in range(cols):\n",
    "            x_centroid += i * block[i, j]\n",
    "            y_centroid += j * block[i, j]\n",
    "    total = np.sum(block)\n",
    "    x_centroid = x_centroid / total\n",
    "    y_centroid = y_centroid / total\n",
    "    return x_centroid, y_centroid"
   ]
  },
  {
   "cell_type": "code",
   "execution_count": 4,
   "id": "e73c990e",
   "metadata": {
    "execution": {
     "iopub.execute_input": "2025-02-11T10:34:07.532585Z",
     "iopub.status.busy": "2025-02-11T10:34:07.532380Z",
     "iopub.status.idle": "2025-02-11T10:34:07.540202Z",
     "shell.execute_reply": "2025-02-11T10:34:07.539447Z"
    },
    "id": "zvnrc-GKpgnH",
    "papermill": {
     "duration": 0.01579,
     "end_time": "2025-02-11T10:34:07.541873",
     "exception": false,
     "start_time": "2025-02-11T10:34:07.526083",
     "status": "completed"
    },
    "tags": []
   },
   "outputs": [],
   "source": [
    "def generate_chain_code(image):\n",
    "    image = np.dstack([image, image, image])\n",
    "    img = cv2.cvtColor(image, cv2.COLOR_RGB2GRAY)\n",
    "    _, img_bin = cv2.threshold(img, 128, 255, cv2.THRESH_BINARY)\n",
    "    row, col = img_bin.shape\n",
    "    if np.all(img_bin == 0):\n",
    "        img_bin[np.random.randint(0, row, 2), np.random.randint(0, col, 2)] = 255\n",
    "    contours, _ = cv2.findContours(img_bin, cv2.RETR_EXTERNAL, cv2.CHAIN_APPROX_NONE)\n",
    "    chain_code = []\n",
    "    point = contours[0][0][0]\n",
    "    for i in range(1, len(contours[0])):\n",
    "        next_point = contours[0][i][0]\n",
    "        diff = next_point - point\n",
    "        if diff[0] == 0 and diff[1] == 1:\n",
    "            chain_code.append(6)\n",
    "        elif diff[0] == -1 and diff[1] == 1:\n",
    "            chain_code.append(5)\n",
    "        elif diff[0] == -1 and diff[1] == 0:\n",
    "            chain_code.append(4)\n",
    "        elif diff[0] == -1 and diff[1] == -1:\n",
    "            chain_code.append(3)\n",
    "        elif diff[0] == 0 and diff[1] == -1:\n",
    "            chain_code.append(2)\n",
    "        elif diff[0] == 1 and diff[1] == -1:\n",
    "            chain_code.append(1)\n",
    "        elif diff[0] == 1 and diff[1] == 0:\n",
    "            chain_code.append(0)\n",
    "        elif diff[0] == 1 and diff[1] == 1:\n",
    "            chain_code.append(7)\n",
    "        point = next_point\n",
    "    return chain_code"
   ]
  },
  {
   "cell_type": "code",
   "execution_count": 5,
   "id": "9b151fd3",
   "metadata": {
    "execution": {
     "iopub.execute_input": "2025-02-11T10:34:07.553146Z",
     "iopub.status.busy": "2025-02-11T10:34:07.552947Z",
     "iopub.status.idle": "2025-02-11T10:34:07.557441Z",
     "shell.execute_reply": "2025-02-11T10:34:07.556463Z"
    },
    "id": "LZeAI758pie6",
    "papermill": {
     "duration": 0.011866,
     "end_time": "2025-02-11T10:34:07.558714",
     "exception": false,
     "start_time": "2025-02-11T10:34:07.546848",
     "status": "completed"
    },
    "tags": []
   },
   "outputs": [],
   "source": [
    "def extract_features_with_chain_code(image):\n",
    "    features = np.zeros((block_size, block_size, 50))\n",
    "    for i in range(0, 27, block_size):\n",
    "        for j in range(0, 27, block_size):\n",
    "            block = image[i : i + block_size, j : j + block_size]\n",
    "            chain_code = generate_chain_code(block)\n",
    "            # print(\"chain len\", len(chain_code))\n",
    "            if len(chain_code) < 50:\n",
    "                chain_code += [0] * (50 - len(chain_code))\n",
    "            # print(\"chain\", chain_code)\n",
    "            features[i // block_size, j // block_size] = chain_code\n",
    "    return features"
   ]
  },
  {
   "cell_type": "code",
   "execution_count": 6,
   "id": "a19809d0",
   "metadata": {
    "execution": {
     "iopub.execute_input": "2025-02-11T10:34:07.570765Z",
     "iopub.status.busy": "2025-02-11T10:34:07.570567Z",
     "iopub.status.idle": "2025-02-11T10:34:07.574873Z",
     "shell.execute_reply": "2025-02-11T10:34:07.574050Z"
    },
    "papermill": {
     "duration": 0.012071,
     "end_time": "2025-02-11T10:34:07.576188",
     "exception": false,
     "start_time": "2025-02-11T10:34:07.564117",
     "status": "completed"
    },
    "tags": []
   },
   "outputs": [],
   "source": [
    "def extract_features_with_centroid(image):\n",
    "    features = np.zeros((block_size, block_size, 2))\n",
    "    for i in range(0, 28, block_size):\n",
    "        for j in range(0, 28, block_size):\n",
    "            block = image[i : i + block_size, j : j + block_size]\n",
    "            x_centroid, y_centroid = calculate_centroid(block)\n",
    "            features[int(i / block_size), int(j / block_size), 0] = x_centroid\n",
    "            features[int(i / block_size), int(j / block_size), 1] = y_centroid\n",
    "    return features"
   ]
  },
  {
   "cell_type": "code",
   "execution_count": 7,
   "id": "5232aa0e",
   "metadata": {
    "execution": {
     "iopub.execute_input": "2025-02-11T10:34:07.587574Z",
     "iopub.status.busy": "2025-02-11T10:34:07.587338Z",
     "iopub.status.idle": "2025-02-11T10:34:07.592060Z",
     "shell.execute_reply": "2025-02-11T10:34:07.591180Z"
    },
    "id": "YpFYrRAkiIkB",
    "papermill": {
     "duration": 0.012084,
     "end_time": "2025-02-11T10:34:07.593424",
     "exception": false,
     "start_time": "2025-02-11T10:34:07.581340",
     "status": "completed"
    },
    "tags": []
   },
   "outputs": [],
   "source": [
    "def k_means(X, k=10, max_iters=sys.maxsize):\n",
    "    centroids = X[np.random.choice(range(X.shape[0]), size=k, replace=False)]\n",
    "    for _ in range(max_iters):\n",
    "        labels = np.argmin(\n",
    "            np.linalg.norm(X[:, np.newaxis] - centroids, axis=-1), axis=-1\n",
    "        )\n",
    "        new_centroids = np.array([X[labels == i].mean(axis=0) for i in range(k)])\n",
    "        if np.all(centroids == new_centroids):\n",
    "            break\n",
    "        centroids = new_centroids\n",
    "    return centroids, labels"
   ]
  },
  {
   "cell_type": "code",
   "execution_count": 8,
   "id": "995b91f1",
   "metadata": {
    "execution": {
     "iopub.execute_input": "2025-02-11T10:34:07.604878Z",
     "iopub.status.busy": "2025-02-11T10:34:07.604683Z",
     "iopub.status.idle": "2025-02-11T10:34:08.950787Z",
     "shell.execute_reply": "2025-02-11T10:34:08.949698Z"
    },
    "papermill": {
     "duration": 1.353979,
     "end_time": "2025-02-11T10:34:08.952656",
     "exception": false,
     "start_time": "2025-02-11T10:34:07.598677",
     "status": "completed"
    },
    "tags": []
   },
   "outputs": [
    {
     "name": "stdout",
     "output_type": "stream",
     "text": [
      "Downloading data from https://storage.googleapis.com/tensorflow/tf-keras-datasets/mnist.npz\n"
     ]
    },
    {
     "name": "stdout",
     "output_type": "stream",
     "text": [
      "\r",
      "\u001b[1m       0/11490434\u001b[0m \u001b[37m━━━━━━━━━━━━━━━━━━━━\u001b[0m \u001b[1m0s\u001b[0m 0s/step"
     ]
    },
    {
     "name": "stdout",
     "output_type": "stream",
     "text": [
      "\b\b\b\b\b\b\b\b\b\b\b\b\b\b\b\b\b\b\b\b\b\b\b\b\b\b\b\b\b\b\b\b\b\b\b\b\b\b\b\b\b\b\b\b\b\b\b\b\b\r",
      "\u001b[1m   49152/11490434\u001b[0m \u001b[37m━━━━━━━━━━━━━━━━━━━━\u001b[0m \u001b[1m25s\u001b[0m 2us/step"
     ]
    },
    {
     "name": "stdout",
     "output_type": "stream",
     "text": [
      "\b\b\b\b\b\b\b\b\b\b\b\b\b\b\b\b\b\b\b\b\b\b\b\b\b\b\b\b\b\b\b\b\b\b\b\b\b\b\b\b\b\b\b\b\b\b\b\b\b\b\b\r",
      "\u001b[1m   81920/11490434\u001b[0m \u001b[37m━━━━━━━━━━━━━━━━━━━━\u001b[0m \u001b[1m28s\u001b[0m 3us/step"
     ]
    },
    {
     "name": "stdout",
     "output_type": "stream",
     "text": [
      "\b\b\b\b\b\b\b\b\b\b\b\b\b\b\b\b\b\b\b\b\b\b\b\b\b\b\b\b\b\b\b\b\b\b\b\b\b\b\b\b\b\b\b\b\b\b\b\b\b\b\b\r",
      "\u001b[1m  147456/11490434\u001b[0m \u001b[37m━━━━━━━━━━━━━━━━━━━━\u001b[0m \u001b[1m19s\u001b[0m 2us/step"
     ]
    },
    {
     "name": "stdout",
     "output_type": "stream",
     "text": [
      "\b\b\b\b\b\b\b\b\b\b\b\b\b\b\b\b\b\b\b\b\b\b\b\b\b\b\b\b\b\b\b\b\b\b\b\b\b\b\b\b\b\b\b\b\b\b\b\b\b\b\b\r",
      "\u001b[1m  212992/11490434\u001b[0m \u001b[37m━━━━━━━━━━━━━━━━━━━━\u001b[0m \u001b[1m16s\u001b[0m 1us/step"
     ]
    },
    {
     "name": "stdout",
     "output_type": "stream",
     "text": [
      "\b\b\b\b\b\b\b\b\b\b\b\b\b\b\b\b\b\b\b\b\b\b\b\b\b\b\b\b\b\b\b\b\b\b\b\b\b\b\b\b\b\b\b\b\b\b\b\b\b\b\b\r",
      "\u001b[1m  294912/11490434\u001b[0m \u001b[37m━━━━━━━━━━━━━━━━━━━━\u001b[0m \u001b[1m13s\u001b[0m 1us/step"
     ]
    },
    {
     "name": "stdout",
     "output_type": "stream",
     "text": [
      "\b\b\b\b\b\b\b\b\b\b\b\b\b\b\b\b\b\b\b\b\b\b\b\b\b\b\b\b\b\b\b\b\b\b\b\b\b\b\b\b\b\b\b\b\b\b\b\b\b\b\b\r",
      "\u001b[1m  442368/11490434\u001b[0m \u001b[37m━━━━━━━━━━━━━━━━━━━━\u001b[0m \u001b[1m10s\u001b[0m 1us/step"
     ]
    },
    {
     "name": "stdout",
     "output_type": "stream",
     "text": [
      "\b\b\b\b\b\b\b\b\b\b\b\b\b\b\b\b\b\b\b\b\b\b\b\b\b\b\b\b\b\b\b\b\b\b\b\b\b\b\b\b\b\b\b\b\b\b\b\b\b\b\b\r",
      "\u001b[1m  622592/11490434\u001b[0m \u001b[32m━\u001b[0m\u001b[37m━━━━━━━━━━━━━━━━━━━\u001b[0m \u001b[1m8s\u001b[0m 1us/step "
     ]
    },
    {
     "name": "stdout",
     "output_type": "stream",
     "text": [
      "\b\b\b\b\b\b\b\b\b\b\b\b\b\b\b\b\b\b\b\b\b\b\b\b\b\b\b\b\b\b\b\b\b\b\b\b\b\b\b\b\b\b\b\b\b\b\b\b\b\b\r",
      "\u001b[1m  901120/11490434\u001b[0m \u001b[32m━\u001b[0m\u001b[37m━━━━━━━━━━━━━━━━━━━\u001b[0m \u001b[1m6s\u001b[0m 1us/step"
     ]
    },
    {
     "name": "stdout",
     "output_type": "stream",
     "text": [
      "\b\b\b\b\b\b\b\b\b\b\b\b\b\b\b\b\b\b\b\b\b\b\b\b\b\b\b\b\b\b\b\b\b\b\b\b\b\b\b\b\b\b\b\b\b\b\b\b\b\b\r",
      "\u001b[1m 1327104/11490434\u001b[0m \u001b[32m━━\u001b[0m\u001b[37m━━━━━━━━━━━━━━━━━━\u001b[0m \u001b[1m4s\u001b[0m 0us/step"
     ]
    },
    {
     "name": "stdout",
     "output_type": "stream",
     "text": [
      "\b\b\b\b\b\b\b\b\b\b\b\b\b\b\b\b\b\b\b\b\b\b\b\b\b\b\b\b\b\b\b\b\b\b\b\b\b\b\b\b\b\b\b\b\b\b\b\b\b\b\r",
      "\u001b[1m 1802240/11490434\u001b[0m \u001b[32m━━━\u001b[0m\u001b[37m━━━━━━━━━━━━━━━━━\u001b[0m \u001b[1m3s\u001b[0m 0us/step"
     ]
    },
    {
     "name": "stdout",
     "output_type": "stream",
     "text": [
      "\b\b\b\b\b\b\b\b\b\b\b\b\b\b\b\b\b\b\b\b\b\b\b\b\b\b\b\b\b\b\b\b\b\b\b\b\b\b\b\b\b\b\b\b\b\b\b\b\b\b\r",
      "\u001b[1m 3497984/11490434\u001b[0m \u001b[32m━━━━━━\u001b[0m\u001b[37m━━━━━━━━━━━━━━\u001b[0m \u001b[1m1s\u001b[0m 0us/step"
     ]
    },
    {
     "name": "stdout",
     "output_type": "stream",
     "text": [
      "\b\b\b\b\b\b\b\b\b\b\b\b\b\b\b\b\b\b\b\b\b\b\b\b\b\b\b\b\b\b\b\b\b\b\b\b\b\b\b\b\b\b\b\b\b\b\b\b\b\b\r",
      "\u001b[1m 5292032/11490434\u001b[0m \u001b[32m━━━━━━━━━\u001b[0m\u001b[37m━━━━━━━━━━━\u001b[0m \u001b[1m0s\u001b[0m 0us/step"
     ]
    },
    {
     "name": "stdout",
     "output_type": "stream",
     "text": [
      "\b\b\b\b\b\b\b\b\b\b\b\b\b\b\b\b\b\b\b\b\b\b\b\b\b\b\b\b\b\b\b\b\b\b\b\b\b\b\b\b\b\b\b\b\b\b\b\b\b\b\r",
      "\u001b[1m 7618560/11490434\u001b[0m \u001b[32m━━━━━━━━━━━━━\u001b[0m\u001b[37m━━━━━━━\u001b[0m \u001b[1m0s\u001b[0m 0us/step"
     ]
    },
    {
     "name": "stdout",
     "output_type": "stream",
     "text": [
      "\b\b\b\b\b\b\b\b\b\b\b\b\b\b\b\b\b\b\b\b\b\b\b\b\b\b\b\b\b\b\b\b\b\b\b\b\b\b\b\b\b\b\b\b\b\b\b\b\b\b\r",
      "\u001b[1m10174464/11490434\u001b[0m \u001b[32m━━━━━━━━━━━━━━━━━\u001b[0m\u001b[37m━━━\u001b[0m \u001b[1m0s\u001b[0m 0us/step"
     ]
    },
    {
     "name": "stdout",
     "output_type": "stream",
     "text": [
      "\b\b\b\b\b\b\b\b\b\b\b\b\b\b\b\b\b\b\b\b\b\b\b\b\b\b\b\b\b\b\b\b\b\b\b\b\b\b\b\b\b\b\b\b\b\b\b\b\b\b\r",
      "\u001b[1m11490434/11490434\u001b[0m \u001b[32m━━━━━━━━━━━━━━━━━━━━\u001b[0m\u001b[37m\u001b[0m \u001b[1m1s\u001b[0m 0us/step\n"
     ]
    }
   ],
   "source": [
    "(x_train, y_train), (x_test, y_test) = mnist.load_data()"
   ]
  },
  {
   "cell_type": "code",
   "execution_count": 9,
   "id": "292858cb",
   "metadata": {
    "execution": {
     "iopub.execute_input": "2025-02-11T10:34:08.967945Z",
     "iopub.status.busy": "2025-02-11T10:34:08.967663Z",
     "iopub.status.idle": "2025-02-11T10:34:08.972126Z",
     "shell.execute_reply": "2025-02-11T10:34:08.971124Z"
    },
    "id": "g5kfxIRZiIkB",
    "papermill": {
     "duration": 0.013943,
     "end_time": "2025-02-11T10:34:08.973565",
     "exception": false,
     "start_time": "2025-02-11T10:34:08.959622",
     "status": "completed"
    },
    "tags": []
   },
   "outputs": [],
   "source": [
    "x_train = x_train[:, 1:28, 1:28]\n",
    "x_test = x_test[:, 1:28, 1:28]\n",
    "y_train = y_train.astype(np.int64)\n",
    "y_test = y_test.astype(np.int64)"
   ]
  },
  {
   "cell_type": "code",
   "execution_count": 10,
   "id": "9ce9d605",
   "metadata": {
    "execution": {
     "iopub.execute_input": "2025-02-11T10:34:08.987613Z",
     "iopub.status.busy": "2025-02-11T10:34:08.987359Z",
     "iopub.status.idle": "2025-02-11T10:34:08.991089Z",
     "shell.execute_reply": "2025-02-11T10:34:08.989988Z"
    },
    "papermill": {
     "duration": 0.012126,
     "end_time": "2025-02-11T10:34:08.992237",
     "exception": false,
     "start_time": "2025-02-11T10:34:08.980111",
     "status": "completed"
    },
    "tags": []
   },
   "outputs": [],
   "source": [
    "encoder = OneHotEncoder()"
   ]
  },
  {
   "cell_type": "code",
   "execution_count": 11,
   "id": "978748dc",
   "metadata": {
    "execution": {
     "iopub.execute_input": "2025-02-11T10:34:09.007153Z",
     "iopub.status.busy": "2025-02-11T10:34:09.006895Z",
     "iopub.status.idle": "2025-02-11T10:34:09.014327Z",
     "shell.execute_reply": "2025-02-11T10:34:09.013296Z"
    },
    "id": "WJYsJD3tkxFQ",
    "outputId": "37c5c244-3825-405a-9ccd-23d0722c2627",
    "papermill": {
     "duration": 0.016521,
     "end_time": "2025-02-11T10:34:09.015673",
     "exception": false,
     "start_time": "2025-02-11T10:34:08.999152",
     "status": "completed"
    },
    "tags": []
   },
   "outputs": [
    {
     "data": {
      "text/plain": [
       "((60000, 27, 27), (60000,))"
      ]
     },
     "execution_count": 11,
     "metadata": {},
     "output_type": "execute_result"
    }
   ],
   "source": [
    "x_train.shape, y_train.shape"
   ]
  },
  {
   "cell_type": "code",
   "execution_count": 12,
   "id": "96b74ab5",
   "metadata": {
    "execution": {
     "iopub.execute_input": "2025-02-11T10:34:09.030782Z",
     "iopub.status.busy": "2025-02-11T10:34:09.030496Z",
     "iopub.status.idle": "2025-02-11T10:34:09.072087Z",
     "shell.execute_reply": "2025-02-11T10:34:09.070981Z"
    },
    "id": "8pVNQqejiIkB",
    "papermill": {
     "duration": 0.051852,
     "end_time": "2025-02-11T10:34:09.074005",
     "exception": false,
     "start_time": "2025-02-11T10:34:09.022153",
     "status": "completed"
    },
    "tags": []
   },
   "outputs": [],
   "source": [
    "x_train, x_val, y_train, y_val = train_test_split(\n",
    "    x_train, y_train, test_size=0.2, random_state=42, shuffle=True\n",
    ")"
   ]
  },
  {
   "cell_type": "code",
   "execution_count": 13,
   "id": "52e0a27a",
   "metadata": {
    "execution": {
     "iopub.execute_input": "2025-02-11T10:34:09.089218Z",
     "iopub.status.busy": "2025-02-11T10:34:09.088966Z",
     "iopub.status.idle": "2025-02-11T10:34:09.093529Z",
     "shell.execute_reply": "2025-02-11T10:34:09.092735Z"
    },
    "id": "WJYsJD3tkxFQ",
    "outputId": "37c5c244-3825-405a-9ccd-23d0722c2627",
    "papermill": {
     "duration": 0.013895,
     "end_time": "2025-02-11T10:34:09.095014",
     "exception": false,
     "start_time": "2025-02-11T10:34:09.081119",
     "status": "completed"
    },
    "tags": []
   },
   "outputs": [
    {
     "data": {
      "text/plain": [
       "((48000, 27, 27), (48000,))"
      ]
     },
     "execution_count": 13,
     "metadata": {},
     "output_type": "execute_result"
    }
   ],
   "source": [
    "x_train.shape, y_train.shape"
   ]
  },
  {
   "cell_type": "markdown",
   "id": "ae805485",
   "metadata": {
    "papermill": {
     "duration": 0.006725,
     "end_time": "2025-02-11T10:34:09.108323",
     "exception": false,
     "start_time": "2025-02-11T10:34:09.101598",
     "status": "completed"
    },
    "tags": []
   },
   "source": [
    "# Using Chain Code"
   ]
  },
  {
   "cell_type": "code",
   "execution_count": 14,
   "id": "a6879436",
   "metadata": {
    "execution": {
     "iopub.execute_input": "2025-02-11T10:34:09.122808Z",
     "iopub.status.busy": "2025-02-11T10:34:09.122589Z",
     "iopub.status.idle": "2025-02-11T10:34:35.067366Z",
     "shell.execute_reply": "2025-02-11T10:34:35.066273Z"
    },
    "id": "hYathqMzproz",
    "papermill": {
     "duration": 25.954697,
     "end_time": "2025-02-11T10:34:35.069428",
     "exception": false,
     "start_time": "2025-02-11T10:34:09.114731",
     "status": "completed"
    },
    "tags": []
   },
   "outputs": [],
   "source": [
    "train_features_with_chain_code = np.nan_to_num(\n",
    "    np.array([extract_features_with_chain_code(image) for image in x_train])\n",
    ")"
   ]
  },
  {
   "cell_type": "code",
   "execution_count": 15,
   "id": "2d315bdc",
   "metadata": {
    "execution": {
     "iopub.execute_input": "2025-02-11T10:34:35.084675Z",
     "iopub.status.busy": "2025-02-11T10:34:35.084439Z",
     "iopub.status.idle": "2025-02-11T10:34:35.089282Z",
     "shell.execute_reply": "2025-02-11T10:34:35.088181Z"
    },
    "id": "2DUg2_4ZptNw",
    "outputId": "8a4d519f-b361-43df-a04b-5967cf3b96f4",
    "papermill": {
     "duration": 0.013837,
     "end_time": "2025-02-11T10:34:35.090354",
     "exception": false,
     "start_time": "2025-02-11T10:34:35.076517",
     "status": "completed"
    },
    "tags": []
   },
   "outputs": [
    {
     "data": {
      "text/plain": [
       "(48000, 9, 9, 50)"
      ]
     },
     "execution_count": 15,
     "metadata": {},
     "output_type": "execute_result"
    }
   ],
   "source": [
    "train_features_with_chain_code.shape"
   ]
  },
  {
   "cell_type": "code",
   "execution_count": 16,
   "id": "4d5e5e63",
   "metadata": {
    "execution": {
     "iopub.execute_input": "2025-02-11T10:34:35.104802Z",
     "iopub.status.busy": "2025-02-11T10:34:35.104575Z",
     "iopub.status.idle": "2025-02-11T10:34:35.107996Z",
     "shell.execute_reply": "2025-02-11T10:34:35.107186Z"
    },
    "id": "REb8BaT5pvuk",
    "papermill": {
     "duration": 0.012774,
     "end_time": "2025-02-11T10:34:35.109544",
     "exception": false,
     "start_time": "2025-02-11T10:34:35.096770",
     "status": "completed"
    },
    "tags": []
   },
   "outputs": [],
   "source": [
    "train_features_with_chain_code = train_features_with_chain_code.reshape(\n",
    "    train_features_with_chain_code.shape[0], -1\n",
    ")"
   ]
  },
  {
   "cell_type": "code",
   "execution_count": 17,
   "id": "878fc2e9",
   "metadata": {
    "execution": {
     "iopub.execute_input": "2025-02-11T10:34:35.125201Z",
     "iopub.status.busy": "2025-02-11T10:34:35.124976Z",
     "iopub.status.idle": "2025-02-11T10:34:35.129414Z",
     "shell.execute_reply": "2025-02-11T10:34:35.128664Z"
    },
    "id": "eqWlfd0brZyQ",
    "outputId": "966cd866-6ce4-4b9b-bd92-6cf06519b401",
    "papermill": {
     "duration": 0.014094,
     "end_time": "2025-02-11T10:34:35.130940",
     "exception": false,
     "start_time": "2025-02-11T10:34:35.116846",
     "status": "completed"
    },
    "tags": []
   },
   "outputs": [
    {
     "data": {
      "text/plain": [
       "(48000, 4050)"
      ]
     },
     "execution_count": 17,
     "metadata": {},
     "output_type": "execute_result"
    }
   ],
   "source": [
    "train_features_with_chain_code.shape"
   ]
  },
  {
   "cell_type": "code",
   "execution_count": 18,
   "id": "a4d17fe4",
   "metadata": {
    "execution": {
     "iopub.execute_input": "2025-02-11T10:34:35.145800Z",
     "iopub.status.busy": "2025-02-11T10:34:35.145558Z",
     "iopub.status.idle": "2025-02-11T10:42:43.626939Z",
     "shell.execute_reply": "2025-02-11T10:42:43.625675Z"
    },
    "id": "wLRyzjDsmU6q",
    "papermill": {
     "duration": 488.491301,
     "end_time": "2025-02-11T10:42:43.628987",
     "exception": false,
     "start_time": "2025-02-11T10:34:35.137686",
     "status": "completed"
    },
    "tags": []
   },
   "outputs": [],
   "source": [
    "centroids, labels = k_means(train_features_with_chain_code)"
   ]
  },
  {
   "cell_type": "code",
   "execution_count": 19,
   "id": "beb77b7e",
   "metadata": {
    "execution": {
     "iopub.execute_input": "2025-02-11T10:42:43.644768Z",
     "iopub.status.busy": "2025-02-11T10:42:43.644493Z",
     "iopub.status.idle": "2025-02-11T10:42:43.649508Z",
     "shell.execute_reply": "2025-02-11T10:42:43.648693Z"
    },
    "papermill": {
     "duration": 0.01475,
     "end_time": "2025-02-11T10:42:43.651217",
     "exception": false,
     "start_time": "2025-02-11T10:42:43.636467",
     "status": "completed"
    },
    "tags": []
   },
   "outputs": [
    {
     "data": {
      "text/plain": [
       "((10, 4050), (48000,))"
      ]
     },
     "execution_count": 19,
     "metadata": {},
     "output_type": "execute_result"
    }
   ],
   "source": [
    "centroids.shape, labels.shape"
   ]
  },
  {
   "cell_type": "code",
   "execution_count": 20,
   "id": "b9f817cb",
   "metadata": {
    "execution": {
     "iopub.execute_input": "2025-02-11T10:42:43.666445Z",
     "iopub.status.busy": "2025-02-11T10:42:43.666209Z",
     "iopub.status.idle": "2025-02-11T10:42:43.677502Z",
     "shell.execute_reply": "2025-02-11T10:42:43.676812Z"
    },
    "papermill": {
     "duration": 0.020795,
     "end_time": "2025-02-11T10:42:43.679034",
     "exception": false,
     "start_time": "2025-02-11T10:42:43.658239",
     "status": "completed"
    },
    "tags": []
   },
   "outputs": [],
   "source": [
    "labels = encoder.fit_transform(labels.reshape(-1, 1)).toarray()\n",
    "y_train = encoder.fit_transform(y_train.reshape(-1, 1)).toarray()"
   ]
  },
  {
   "cell_type": "code",
   "execution_count": 21,
   "id": "1d410a04",
   "metadata": {
    "execution": {
     "iopub.execute_input": "2025-02-11T10:42:43.693981Z",
     "iopub.status.busy": "2025-02-11T10:42:43.693762Z",
     "iopub.status.idle": "2025-02-11T10:42:43.712148Z",
     "shell.execute_reply": "2025-02-11T10:42:43.711286Z"
    },
    "id": "cieQ0_ZHiIkB",
    "papermill": {
     "duration": 0.027797,
     "end_time": "2025-02-11T10:42:43.713623",
     "exception": false,
     "start_time": "2025-02-11T10:42:43.685826",
     "status": "completed"
    },
    "tags": []
   },
   "outputs": [
    {
     "data": {
      "text/plain": [
       "0.0583125"
      ]
     },
     "execution_count": 21,
     "metadata": {},
     "output_type": "execute_result"
    }
   ],
   "source": [
    "accuracy_score(y_train, labels)"
   ]
  },
  {
   "cell_type": "code",
   "execution_count": 22,
   "id": "d8b650e4",
   "metadata": {
    "execution": {
     "iopub.execute_input": "2025-02-11T10:42:43.729305Z",
     "iopub.status.busy": "2025-02-11T10:42:43.729103Z",
     "iopub.status.idle": "2025-02-11T10:43:56.173725Z",
     "shell.execute_reply": "2025-02-11T10:43:56.172760Z"
    },
    "papermill": {
     "duration": 72.45482,
     "end_time": "2025-02-11T10:43:56.175633",
     "exception": false,
     "start_time": "2025-02-11T10:42:43.720813",
     "status": "completed"
    },
    "tags": []
   },
   "outputs": [
    {
     "name": "stdout",
     "output_type": "stream",
     "text": [
      "Accuracy:  0.07479166666666667\n"
     ]
    },
    {
     "name": "stdout",
     "output_type": "stream",
     "text": [
      "Accuracy:  0.0571875\n"
     ]
    },
    {
     "name": "stdout",
     "output_type": "stream",
     "text": [
      "Accuracy:  0.08841666666666667\n"
     ]
    },
    {
     "name": "stdout",
     "output_type": "stream",
     "text": [
      "Accuracy:  0.049541666666666664\n"
     ]
    },
    {
     "name": "stdout",
     "output_type": "stream",
     "text": [
      "Accuracy:  0.06829166666666667\n"
     ]
    },
    {
     "name": "stdout",
     "output_type": "stream",
     "text": [
      "Accuracy:  0.10914583333333333\n"
     ]
    },
    {
     "name": "stdout",
     "output_type": "stream",
     "text": [
      "Accuracy:  0.07329166666666667\n"
     ]
    },
    {
     "name": "stdout",
     "output_type": "stream",
     "text": [
      "Accuracy:  0.09983333333333333\n"
     ]
    },
    {
     "name": "stdout",
     "output_type": "stream",
     "text": [
      "Accuracy:  0.08797916666666666\n"
     ]
    },
    {
     "name": "stdout",
     "output_type": "stream",
     "text": [
      "Accuracy:  0.07033333333333333\n",
      "max acc:  0.10914583333333333\n"
     ]
    }
   ],
   "source": [
    "best = KMeans(n_clusters=10)\n",
    "accuracies = np.array([])\n",
    "max_acc = 0\n",
    "for _ in range(10):\n",
    "    kmeans = KMeans(n_clusters=10)\n",
    "    kmeans.fit(train_features_with_chain_code)\n",
    "    labels = kmeans.predict(train_features_with_chain_code)\n",
    "    labels = encoder.fit_transform(labels.reshape(-1, 1)).toarray()\n",
    "    acc = accuracy_score(y_train, labels)\n",
    "    print(\"Accuracy: \", acc)\n",
    "    accuracies = np.append(accuracies, acc)\n",
    "    if max_acc < accuracies.max():\n",
    "        max_acc = accuracies.max()\n",
    "        best = kmeans\n",
    "print(\"max acc: \", max_acc)"
   ]
  },
  {
   "cell_type": "code",
   "execution_count": 23,
   "id": "2ef4abe2",
   "metadata": {
    "execution": {
     "iopub.execute_input": "2025-02-11T10:43:56.192831Z",
     "iopub.status.busy": "2025-02-11T10:43:56.192603Z",
     "iopub.status.idle": "2025-02-11T10:43:56.198585Z",
     "shell.execute_reply": "2025-02-11T10:43:56.197823Z"
    },
    "papermill": {
     "duration": 0.016553,
     "end_time": "2025-02-11T10:43:56.200229",
     "exception": false,
     "start_time": "2025-02-11T10:43:56.183676",
     "status": "completed"
    },
    "tags": []
   },
   "outputs": [],
   "source": [
    "y_train = np.argmax(y_train, axis=1)\n",
    "labels = np.argmax(labels, axis=1)"
   ]
  },
  {
   "cell_type": "code",
   "execution_count": 24,
   "id": "9702e26e",
   "metadata": {
    "execution": {
     "iopub.execute_input": "2025-02-11T10:43:56.216916Z",
     "iopub.status.busy": "2025-02-11T10:43:56.216693Z",
     "iopub.status.idle": "2025-02-11T10:43:56.221448Z",
     "shell.execute_reply": "2025-02-11T10:43:56.220309Z"
    },
    "papermill": {
     "duration": 0.01457,
     "end_time": "2025-02-11T10:43:56.222537",
     "exception": false,
     "start_time": "2025-02-11T10:43:56.207967",
     "status": "completed"
    },
    "tags": []
   },
   "outputs": [
    {
     "data": {
      "text/plain": [
       "((48000,), (48000,))"
      ]
     },
     "execution_count": 24,
     "metadata": {},
     "output_type": "execute_result"
    }
   ],
   "source": [
    "y_train.shape, labels.shape"
   ]
  },
  {
   "cell_type": "code",
   "execution_count": 25,
   "id": "9c649a60",
   "metadata": {
    "execution": {
     "iopub.execute_input": "2025-02-11T10:43:56.239105Z",
     "iopub.status.busy": "2025-02-11T10:43:56.238889Z",
     "iopub.status.idle": "2025-02-11T10:43:56.606136Z",
     "shell.execute_reply": "2025-02-11T10:43:56.605092Z"
    },
    "papermill": {
     "duration": 0.377353,
     "end_time": "2025-02-11T10:43:56.607464",
     "exception": false,
     "start_time": "2025-02-11T10:43:56.230111",
     "status": "completed"
    },
    "tags": []
   },
   "outputs": [
    {
     "data": {
      "image/png": "[encoded data removed]",
      "text/plain": [
       "<Figure size 640x480 with 2 Axes>"
      ]
     },
     "metadata": {},
     "output_type": "display_data"
    }
   ],
   "source": [
    "cm = ConfusionMatrixDisplay(confusion_matrix=confusion_matrix(y_train, labels))\n",
    "cm.plot()\n",
    "plt.show()"
   ]
  },
  {
   "cell_type": "markdown",
   "id": "ed867836",
   "metadata": {
    "papermill": {
     "duration": 0.009355,
     "end_time": "2025-02-11T10:43:56.626129",
     "exception": false,
     "start_time": "2025-02-11T10:43:56.616774",
     "status": "completed"
    },
    "tags": []
   },
   "source": [
    "# Using Centroid"
   ]
  },
  {
   "cell_type": "code",
   "execution_count": 26,
   "id": "8eae7cb3",
   "metadata": {
    "execution": {
     "iopub.execute_input": "2025-02-11T10:43:56.646980Z",
     "iopub.status.busy": "2025-02-11T10:43:56.646704Z",
     "iopub.status.idle": "2025-02-11T10:44:39.939298Z",
     "shell.execute_reply": "2025-02-11T10:44:39.938516Z"
    },
    "papermill": {
     "duration": 43.306046,
     "end_time": "2025-02-11T10:44:39.941369",
     "exception": false,
     "start_time": "2025-02-11T10:43:56.635323",
     "status": "completed"
    },
    "tags": []
   },
   "outputs": [
    {
     "name": "stderr",
     "output_type": "stream",
     "text": [
      "/tmp/ipykernel_74/13632873.py:8: RuntimeWarning: overflow encountered in scalar multiply\n",
      "  x_centroid += i * block[i, j]\n",
      "/tmp/ipykernel_74/13632873.py:9: RuntimeWarning: overflow encountered in scalar multiply\n",
      "  y_centroid += j * block[i, j]\n",
      "/tmp/ipykernel_74/13632873.py:11: RuntimeWarning: invalid value encountered in divide\n",
      "  x_centroid = x_centroid / total\n",
      "/tmp/ipykernel_74/13632873.py:12: RuntimeWarning: invalid value encountered in divide\n",
      "  y_centroid = y_centroid / total\n",
      "/tmp/ipykernel_74/13632873.py:11: RuntimeWarning: invalid value encountered in scalar divide\n",
      "  x_centroid = x_centroid / total\n",
      "/tmp/ipykernel_74/13632873.py:12: RuntimeWarning: invalid value encountered in scalar divide\n",
      "  y_centroid = y_centroid / total\n"
     ]
    }
   ],
   "source": [
    "train_features_with_centroid = np.nan_to_num(\n",
    "    np.array([extract_features_with_centroid(image) for image in x_train])\n",
    ")"
   ]
  },
  {
   "cell_type": "code",
   "execution_count": 27,
   "id": "87c8a231",
   "metadata": {
    "execution": {
     "iopub.execute_input": "2025-02-11T10:44:39.961650Z",
     "iopub.status.busy": "2025-02-11T10:44:39.961401Z",
     "iopub.status.idle": "2025-02-11T10:44:39.966022Z",
     "shell.execute_reply": "2025-02-11T10:44:39.965226Z"
    },
    "papermill": {
     "duration": 0.016487,
     "end_time": "2025-02-11T10:44:39.967538",
     "exception": false,
     "start_time": "2025-02-11T10:44:39.951051",
     "status": "completed"
    },
    "tags": []
   },
   "outputs": [
    {
     "data": {
      "text/plain": [
       "(48000, 9, 9, 2)"
      ]
     },
     "execution_count": 27,
     "metadata": {},
     "output_type": "execute_result"
    }
   ],
   "source": [
    "train_features_with_centroid.shape"
   ]
  },
  {
   "cell_type": "code",
   "execution_count": 28,
   "id": "8578a39e",
   "metadata": {
    "execution": {
     "iopub.execute_input": "2025-02-11T10:44:39.986794Z",
     "iopub.status.busy": "2025-02-11T10:44:39.986575Z",
     "iopub.status.idle": "2025-02-11T10:44:39.989588Z",
     "shell.execute_reply": "2025-02-11T10:44:39.988968Z"
    },
    "papermill": {
     "duration": 0.014882,
     "end_time": "2025-02-11T10:44:39.991258",
     "exception": false,
     "start_time": "2025-02-11T10:44:39.976376",
     "status": "completed"
    },
    "tags": []
   },
   "outputs": [],
   "source": [
    "train_features_with_centroid = train_features_with_centroid.reshape(\n",
    "    train_features_with_centroid.shape[0], -1\n",
    ")"
   ]
  },
  {
   "cell_type": "code",
   "execution_count": 29,
   "id": "c8b234a7",
   "metadata": {
    "execution": {
     "iopub.execute_input": "2025-02-11T10:44:40.012652Z",
     "iopub.status.busy": "2025-02-11T10:44:40.012440Z",
     "iopub.status.idle": "2025-02-11T10:44:40.016812Z",
     "shell.execute_reply": "2025-02-11T10:44:40.016050Z"
    },
    "papermill": {
     "duration": 0.016937,
     "end_time": "2025-02-11T10:44:40.018316",
     "exception": false,
     "start_time": "2025-02-11T10:44:40.001379",
     "status": "completed"
    },
    "tags": []
   },
   "outputs": [
    {
     "data": {
      "text/plain": [
       "(48000, 162)"
      ]
     },
     "execution_count": 29,
     "metadata": {},
     "output_type": "execute_result"
    }
   ],
   "source": [
    "train_features_with_centroid.shape"
   ]
  },
  {
   "cell_type": "code",
   "execution_count": 30,
   "id": "1f4de8a7",
   "metadata": {
    "execution": {
     "iopub.execute_input": "2025-02-11T10:44:40.038750Z",
     "iopub.status.busy": "2025-02-11T10:44:40.038522Z",
     "iopub.status.idle": "2025-02-11T10:44:56.775798Z",
     "shell.execute_reply": "2025-02-11T10:44:56.774594Z"
    },
    "papermill": {
     "duration": 16.750025,
     "end_time": "2025-02-11T10:44:56.777826",
     "exception": false,
     "start_time": "2025-02-11T10:44:40.027801",
     "status": "completed"
    },
    "tags": []
   },
   "outputs": [],
   "source": [
    "centroids, labels = k_means(train_features_with_centroid)"
   ]
  },
  {
   "cell_type": "code",
   "execution_count": 31,
   "id": "067a4c63",
   "metadata": {
    "execution": {
     "iopub.execute_input": "2025-02-11T10:44:56.798235Z",
     "iopub.status.busy": "2025-02-11T10:44:56.798004Z",
     "iopub.status.idle": "2025-02-11T10:44:56.802636Z",
     "shell.execute_reply": "2025-02-11T10:44:56.801756Z"
    },
    "papermill": {
     "duration": 0.016773,
     "end_time": "2025-02-11T10:44:56.804117",
     "exception": false,
     "start_time": "2025-02-11T10:44:56.787344",
     "status": "completed"
    },
    "tags": []
   },
   "outputs": [
    {
     "data": {
      "text/plain": [
       "((10, 162), (48000,))"
      ]
     },
     "execution_count": 31,
     "metadata": {},
     "output_type": "execute_result"
    }
   ],
   "source": [
    "centroids.shape, labels.shape"
   ]
  },
  {
   "cell_type": "code",
   "execution_count": 32,
   "id": "085df25c",
   "metadata": {
    "execution": {
     "iopub.execute_input": "2025-02-11T10:44:56.824962Z",
     "iopub.status.busy": "2025-02-11T10:44:56.824691Z",
     "iopub.status.idle": "2025-02-11T10:44:56.835164Z",
     "shell.execute_reply": "2025-02-11T10:44:56.834198Z"
    },
    "papermill": {
     "duration": 0.023032,
     "end_time": "2025-02-11T10:44:56.836696",
     "exception": false,
     "start_time": "2025-02-11T10:44:56.813664",
     "status": "completed"
    },
    "tags": []
   },
   "outputs": [],
   "source": [
    "labels = encoder.fit_transform(labels.reshape(-1, 1)).toarray()\n",
    "y_train = encoder.fit_transform(y_train.reshape(-1, 1)).toarray()"
   ]
  },
  {
   "cell_type": "code",
   "execution_count": 33,
   "id": "3efe5c0f",
   "metadata": {
    "execution": {
     "iopub.execute_input": "2025-02-11T10:44:56.856834Z",
     "iopub.status.busy": "2025-02-11T10:44:56.856595Z",
     "iopub.status.idle": "2025-02-11T10:44:56.873671Z",
     "shell.execute_reply": "2025-02-11T10:44:56.872811Z"
    },
    "papermill": {
     "duration": 0.029296,
     "end_time": "2025-02-11T10:44:56.875411",
     "exception": false,
     "start_time": "2025-02-11T10:44:56.846115",
     "status": "completed"
    },
    "tags": []
   },
   "outputs": [
    {
     "data": {
      "text/plain": [
       "0.10152083333333334"
      ]
     },
     "execution_count": 33,
     "metadata": {},
     "output_type": "execute_result"
    }
   ],
   "source": [
    "accuracy_score(y_train, labels)"
   ]
  },
  {
   "cell_type": "code",
   "execution_count": 34,
   "id": "59958cc0",
   "metadata": {
    "execution": {
     "iopub.execute_input": "2025-02-11T10:44:56.896347Z",
     "iopub.status.busy": "2025-02-11T10:44:56.896112Z",
     "iopub.status.idle": "2025-02-11T10:45:00.212656Z",
     "shell.execute_reply": "2025-02-11T10:45:00.211134Z"
    },
    "papermill": {
     "duration": 3.328771,
     "end_time": "2025-02-11T10:45:00.213715",
     "exception": false,
     "start_time": "2025-02-11T10:44:56.884944",
     "status": "completed"
    },
    "tags": []
   },
   "outputs": [
    {
     "name": "stdout",
     "output_type": "stream",
     "text": [
      "Accuracy:  0.1210625\n"
     ]
    },
    {
     "name": "stdout",
     "output_type": "stream",
     "text": [
      "Accuracy:  0.043083333333333335\n"
     ]
    },
    {
     "name": "stdout",
     "output_type": "stream",
     "text": [
      "Accuracy:  0.0574375\n"
     ]
    },
    {
     "name": "stdout",
     "output_type": "stream",
     "text": [
      "Accuracy:  0.06289583333333333\n"
     ]
    },
    {
     "name": "stdout",
     "output_type": "stream",
     "text": [
      "Accuracy:  0.04552083333333334\n"
     ]
    },
    {
     "name": "stdout",
     "output_type": "stream",
     "text": [
      "Accuracy:  0.11210416666666667\n"
     ]
    },
    {
     "name": "stdout",
     "output_type": "stream",
     "text": [
      "Accuracy:  0.09489583333333333\n"
     ]
    },
    {
     "name": "stdout",
     "output_type": "stream",
     "text": [
      "Accuracy:  0.0845\n"
     ]
    },
    {
     "name": "stdout",
     "output_type": "stream",
     "text": [
      "Accuracy:  0.08327083333333334\n"
     ]
    },
    {
     "name": "stdout",
     "output_type": "stream",
     "text": [
      "Accuracy:  0.09647916666666667\n",
      "max acc:  0.1210625\n"
     ]
    }
   ],
   "source": [
    "best = KMeans(n_clusters=10)\n",
    "accuracies = np.array([])\n",
    "max_acc = 0\n",
    "for _ in range(10):\n",
    "    kmeans = KMeans(n_clusters=10)\n",
    "    kmeans.fit(train_features_with_centroid)\n",
    "    labels = kmeans.predict(train_features_with_centroid)\n",
    "    labels = encoder.fit_transform(labels.reshape(-1, 1)).toarray()\n",
    "    acc = accuracy_score(y_train, labels)\n",
    "    print(\"Accuracy: \", acc)\n",
    "    accuracies = np.append(accuracies, acc)\n",
    "    if max_acc < accuracies.max():\n",
    "        max_acc = accuracies.max()\n",
    "        best = kmeans\n",
    "print(\"max acc: \", max_acc)"
   ]
  },
  {
   "cell_type": "code",
   "execution_count": 35,
   "id": "37300bfe",
   "metadata": {
    "execution": {
     "iopub.execute_input": "2025-02-11T10:45:00.235783Z",
     "iopub.status.busy": "2025-02-11T10:45:00.235474Z",
     "iopub.status.idle": "2025-02-11T10:45:00.241857Z",
     "shell.execute_reply": "2025-02-11T10:45:00.240986Z"
    },
    "papermill": {
     "duration": 0.019529,
     "end_time": "2025-02-11T10:45:00.243594",
     "exception": false,
     "start_time": "2025-02-11T10:45:00.224065",
     "status": "completed"
    },
    "tags": []
   },
   "outputs": [],
   "source": [
    "y_train = np.argmax(y_train, axis=1)\n",
    "labels = np.argmax(labels, axis=1)"
   ]
  },
  {
   "cell_type": "code",
   "execution_count": 36,
   "id": "068e9315",
   "metadata": {
    "execution": {
     "iopub.execute_input": "2025-02-11T10:45:00.264649Z",
     "iopub.status.busy": "2025-02-11T10:45:00.264428Z",
     "iopub.status.idle": "2025-02-11T10:45:00.269740Z",
     "shell.execute_reply": "2025-02-11T10:45:00.268665Z"
    },
    "papermill": {
     "duration": 0.017945,
     "end_time": "2025-02-11T10:45:00.271270",
     "exception": false,
     "start_time": "2025-02-11T10:45:00.253325",
     "status": "completed"
    },
    "tags": []
   },
   "outputs": [
    {
     "data": {
      "text/plain": [
       "((48000,), (48000,))"
      ]
     },
     "execution_count": 36,
     "metadata": {},
     "output_type": "execute_result"
    }
   ],
   "source": [
    "y_train.shape, labels.shape"
   ]
  },
  {
   "cell_type": "code",
   "execution_count": 37,
   "id": "a7c96f0c",
   "metadata": {
    "execution": {
     "iopub.execute_input": "2025-02-11T10:45:00.292534Z",
     "iopub.status.busy": "2025-02-11T10:45:00.292300Z",
     "iopub.status.idle": "2025-02-11T10:45:00.625435Z",
     "shell.execute_reply": "2025-02-11T10:45:00.623717Z"
    },
    "papermill": {
     "duration": 0.345502,
     "end_time": "2025-02-11T10:45:00.626614",
     "exception": false,
     "start_time": "2025-02-11T10:45:00.281112",
     "status": "completed"
    },
    "tags": []
   },
   "outputs": [
    {
     "data": {
      "image/png": "[encoded data removed]",
      "text/plain": [
       "<Figure size 640x480 with 2 Axes>"
      ]
     },
     "metadata": {},
     "output_type": "display_data"
    }
   ],
   "source": [
    "cm = ConfusionMatrixDisplay(confusion_matrix=confusion_matrix(y_train, labels))\n",
    "cm.plot()\n",
    "plt.show()"
   ]
  }
 ],
 "metadata": {
  "accelerator": "GPU",
  "colab": {
   "gpuType": "T4",
   "provenance": []
  },
  "kaggle": {
   "accelerator": "tpu1vmV38",
   "dataSources": [],
   "isGpuEnabled": false,
   "isInternetEnabled": true,
   "language": "python",
   "sourceType": "notebook"
  },
  "kernelspec": {
   "display_name": "Python 3",
   "language": "python",
   "name": "python3"
  },
  "language_info": {
   "codemirror_mode": {
    "name": "ipython",
    "version": 3
   },
   "file_extension": ".py",
   "mimetype": "text/x-python",
   "name": "python",
   "nbconvert_exporter": "python",
   "pygments_lexer": "ipython3",
   "version": "3.10.16"
  },
  "papermill": {
   "default_parameters": {},
   "duration": 683.445736,
   "end_time": "2025-02-11T10:45:02.460411",
   "environment_variables": {},
   "exception": null,
   "input_path": "__notebook__.ipynb",
   "output_path": "__notebook__.ipynb",
   "parameters": {},
   "start_time": "2025-02-11T10:33:39.014675",
   "version": "2.6.0"
  }
 },
 "nbformat": 4,
 "nbformat_minor": 5
}
