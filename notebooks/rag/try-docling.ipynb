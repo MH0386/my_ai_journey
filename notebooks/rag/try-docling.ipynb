{
 "cells": [
  {
   "cell_type": "markdown",
   "id": "73796639",
   "metadata": {},
   "source": [
    "<a href=\"https://www.kaggle.com/code/mh0386/try-docling?scriptVersionId=255523944\" target=\"_blank\"><img align=\"left\" alt=\"Kaggle\" title=\"Open in Kaggle\" src=\"https://kaggle.com/static/images/open-in-kaggle.svg\"></a>"
   ]
  },
  {
   "cell_type": "markdown",
   "id": "9982b017",
   "metadata": {},
   "source": [
    "# Try Docling"
   ]
  },
  {
   "cell_type": "markdown",
   "id": "04d51876",
   "metadata": {},
   "source": [
    "## Import"
   ]
  },
  {
   "cell_type": "code",
   "execution_count": null,
   "id": "039b8077",
   "metadata": {},
   "outputs": [],
   "source": [
    "from docling.document_converter import DocumentConverter\n",
    "from IPython.display import Markdown, display\n",
    "from warnings import filterwarnings\n",
    "from os import environ"
   ]
  },
  {
   "cell_type": "markdown",
   "id": "23ff7761",
   "metadata": {},
   "source": [
    "### Disable Warnings"
   ]
  },
  {
   "cell_type": "code",
   "execution_count": null,
   "id": "d02a1d46",
   "metadata": {},
   "outputs": [],
   "source": [
    "environ[\"TF_CPP_MIN_LOG_LEVEL\"] = \"3\"\n",
    "environ[\"CUDA_VISIBLE_DEVICES\"] = \"\"\n",
    "filterwarnings(\n",
    "    \"ignore\", message=\"'pin_memory' argument is set as true but no accelerator is found\"\n",
    ")"
   ]
  },
  {
   "cell_type": "markdown",
   "id": "7584a0f4",
   "metadata": {},
   "source": [
    "## Document Converter"
   ]
  },
  {
   "cell_type": "code",
   "execution_count": null,
   "id": "364acb86",
   "metadata": {},
   "outputs": [],
   "source": [
    "converter = DocumentConverter()\n",
    "result = converter.convert(\"https://arxiv.org/pdf/2408.09869\")"
   ]
  },
  {
   "cell_type": "markdown",
   "id": "5382e199",
   "metadata": {},
   "source": [
    "## Results"
   ]
  },
  {
   "cell_type": "code",
   "execution_count": null,
   "id": "176e8307",
   "metadata": {},
   "outputs": [],
   "source": [
    "display(Markdown(result.document.export_to_markdown()))"
   ]
  }
 ],
 "metadata": {
  "kaggle": {
   "accelerator": "none",
   "dataSources": [],
   "isGpuEnabled": false,
   "isInternetEnabled": true,
   "language": "python",
   "sourceType": "notebook"
  },
  "kernelspec": {
   "display_name": "Python 3",
   "language": "python",
   "name": "python3"
  },
  "language_info": {
   "codemirror_mode": {
    "name": "ipython",
    "version": 3
   },
   "file_extension": ".py",
   "mimetype": "text/x-python",
   "name": "python",
   "nbconvert_exporter": "python",
   "pygments_lexer": "ipython3"
  },
  "papermill": {
   "default_parameters": {},
   "duration": 175.550812,
   "end_time": "2025-08-12T00:20:59.686097",
   "environment_variables": {},
   "exception": null,
   "input_path": "__notebook__.ipynb",
   "output_path": "__notebook__.ipynb",
   "parameters": {},
   "start_time": "2025-08-12T00:18:04.135285",
   "version": "2.6.0"
  }
 },
 "nbformat": 4,
 "nbformat_minor": 5
}
