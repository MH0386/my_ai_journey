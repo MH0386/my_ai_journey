{
 "cells": [
  {
   "source": [
    "<a href=\"https://www.kaggle.com/code/mh0386/text-processing?scriptVersionId=249006681\" target=\"_blank\">\n",
    "<img align=\"left\" alt=\"Kaggle\" title=\"Open in Kaggle\" src=\"https://kaggle.com/static/images/open-in-kaggle.svg\">\n",
    "</a>"
   ],
   "metadata": {},
   "cell_type": "markdown",
   "id": "45df70726be56e6c"
  },
  {
   "metadata": {},
   "cell_type": "markdown",
   "source": "# Text Processing",
   "id": "2aab2c5928b056fd"
  },
  {
   "metadata": {},
   "cell_type": "markdown",
   "source": "## Import",
   "id": "8289c84eecb1bf4e"
  },
  {
   "cell_type": "code",
   "id": "114f30fd",
   "metadata": {
    "execution": {
     "iopub.execute_input": "2025-07-06T01:25:21.201586Z",
     "iopub.status.busy": "2025-07-06T01:25:21.201198Z",
     "iopub.status.idle": "2025-07-06T01:25:24.536436Z",
     "shell.execute_reply": "2025-07-06T01:25:24.535304Z"
    },
    "papermill": {
     "duration": 3.346238,
     "end_time": "2025-07-06T01:25:24.538697",
     "exception": false,
     "start_time": "2025-07-06T01:25:21.192459",
     "status": "completed"
    },
    "tags": []
   },
   "source": [
    "from re import sub\n",
    "from bs4 import BeautifulSoup\n",
    "from nltk import download, PorterStemmer\n",
    "from nltk.corpus import stopwords\n",
    "from nltk.stem import WordNetLemmatizer\n",
    "from nltk.tokenize import word_tokenize\n",
    "from requests import get, Response\n",
    "from rich import print"
   ],
   "outputs": [],
   "execution_count": null
  },
  {
   "metadata": {},
   "cell_type": "markdown",
   "source": "## Install Natural Language Toolkit",
   "id": "e58cd1cf702aaa47"
  },
  {
   "cell_type": "code",
   "id": "84734d42",
   "metadata": {
    "execution": {
     "iopub.execute_input": "2025-07-06T01:25:24.553428Z",
     "iopub.status.busy": "2025-07-06T01:25:24.552338Z",
     "iopub.status.idle": "2025-07-06T01:25:24.821229Z",
     "shell.execute_reply": "2025-07-06T01:25:24.820125Z"
    },
    "papermill": {
     "duration": 0.277869,
     "end_time": "2025-07-06T01:25:24.823363",
     "exception": false,
     "start_time": "2025-07-06T01:25:24.545494",
     "status": "completed"
    },
    "tags": []
   },
   "source": [
    "download(\"stopwords\")\n",
    "download(\"wordnet\")\n",
    "download('punkt_tab')"
   ],
   "outputs": [],
   "execution_count": null
  },
  {
   "cell_type": "markdown",
   "id": "5bb13f25",
   "metadata": {
    "papermill": {
     "duration": 0.005968,
     "end_time": "2025-07-06T01:25:24.835358",
     "exception": false,
     "start_time": "2025-07-06T01:25:24.82939",
     "status": "completed"
    },
    "tags": []
   },
   "source": "## Fetch URL and Get HTML from it"
  },
  {
   "cell_type": "code",
   "id": "2f5fd768",
   "metadata": {
    "execution": {
     "iopub.execute_input": "2025-07-06T01:25:24.848528Z",
     "iopub.status.busy": "2025-07-06T01:25:24.848113Z",
     "iopub.status.idle": "2025-07-06T01:25:24.937512Z",
     "shell.execute_reply": "2025-07-06T01:25:24.936155Z"
    },
    "papermill": {
     "duration": 0.098824,
     "end_time": "2025-07-06T01:25:24.939998",
     "exception": false,
     "start_time": "2025-07-06T01:25:24.841174",
     "status": "completed"
    },
    "tags": []
   },
   "source": [
    "response:Response = get(\"https://en.wikipedia.org/wiki/Natural_language_processing\", timeout=5)\n",
    "HTML:str = response.text"
   ],
   "outputs": [],
   "execution_count": null
  },
  {
   "cell_type": "markdown",
   "id": "8e389983",
   "metadata": {
    "papermill": {
     "duration": 0.005694,
     "end_time": "2025-07-06T01:25:24.952096",
     "exception": false,
     "start_time": "2025-07-06T01:25:24.946402",
     "status": "completed"
    },
    "tags": []
   },
   "source": "## Extract Text from HTML"
  },
  {
   "cell_type": "code",
   "id": "ed170d2e",
   "metadata": {
    "execution": {
     "iopub.execute_input": "2025-07-06T01:25:24.965552Z",
     "iopub.status.busy": "2025-07-06T01:25:24.965182Z",
     "iopub.status.idle": "2025-07-06T01:25:25.210951Z",
     "shell.execute_reply": "2025-07-06T01:25:25.209517Z"
    },
    "papermill": {
     "duration": 0.254998,
     "end_time": "2025-07-06T01:25:25.21324",
     "exception": false,
     "start_time": "2025-07-06T01:25:24.958242",
     "status": "completed"
    },
    "tags": []
   },
   "source": [
    "soup: BeautifulSoup = BeautifulSoup(HTML, \"html.parser\")\n",
    "paragraph:str = soup.get_text()"
   ],
   "outputs": [],
   "execution_count": null
  },
  {
   "metadata": {},
   "cell_type": "markdown",
   "source": "### Print it",
   "id": "8db01c7843dc1907"
  },
  {
   "cell_type": "code",
   "id": "4d8d7e06",
   "metadata": {
    "_kg_hide-output": true,
    "collapsed": true,
    "execution": {
     "iopub.execute_input": "2025-07-06T01:25:25.22701Z",
     "iopub.status.busy": "2025-07-06T01:25:25.226607Z",
     "iopub.status.idle": "2025-07-06T01:25:25.235005Z",
     "shell.execute_reply": "2025-07-06T01:25:25.233957Z"
    },
    "jupyter": {
     "outputs_hidden": true
    },
    "papermill": {
     "duration": 0.020271,
     "end_time": "2025-07-06T01:25:25.239571",
     "exception": false,
     "start_time": "2025-07-06T01:25:25.2193",
     "status": "completed"
    },
    "tags": []
   },
   "source": [
    "print(paragraph)"
   ],
   "outputs": [],
   "execution_count": null
  },
  {
   "cell_type": "markdown",
   "id": "95aebd92",
   "metadata": {
    "papermill": {
     "duration": 0.007994,
     "end_time": "2025-07-06T01:25:25.256903",
     "exception": false,
     "start_time": "2025-07-06T01:25:25.248909",
     "status": "completed"
    },
    "tags": []
   },
   "source": "## Cleaning extracted text"
  },
  {
   "cell_type": "code",
   "id": "c8413ff9",
   "metadata": {
    "execution": {
     "iopub.execute_input": "2025-07-06T01:25:25.274861Z",
     "iopub.status.busy": "2025-07-06T01:25:25.274503Z",
     "iopub.status.idle": "2025-07-06T01:25:25.284041Z",
     "shell.execute_reply": "2025-07-06T01:25:25.282708Z"
    },
    "papermill": {
     "duration": 0.020592,
     "end_time": "2025-07-06T01:25:25.28592",
     "exception": false,
     "start_time": "2025-07-06T01:25:25.265328",
     "status": "completed"
    },
    "tags": []
   },
   "source": "text:str = sub(r\"[^a-zA-Z0-9]\", \" \", paragraph)",
   "outputs": [],
   "execution_count": null
  },
  {
   "metadata": {},
   "cell_type": "markdown",
   "source": "### Print it",
   "id": "812f47438334bf6b"
  },
  {
   "cell_type": "code",
   "id": "7a529fc5",
   "metadata": {
    "_kg_hide-output": true,
    "collapsed": true,
    "execution": {
     "iopub.execute_input": "2025-07-06T01:25:25.302552Z",
     "iopub.status.busy": "2025-07-06T01:25:25.302174Z",
     "iopub.status.idle": "2025-07-06T01:25:25.308376Z",
     "shell.execute_reply": "2025-07-06T01:25:25.307267Z"
    },
    "jupyter": {
     "outputs_hidden": true
    },
    "papermill": {
     "duration": 0.017208,
     "end_time": "2025-07-06T01:25:25.311093",
     "exception": false,
     "start_time": "2025-07-06T01:25:25.293885",
     "status": "completed"
    },
    "tags": []
   },
   "source": "print(text)",
   "outputs": [],
   "execution_count": null
  },
  {
   "cell_type": "markdown",
   "id": "7b4cc746",
   "metadata": {
    "papermill": {
     "duration": 0.0085,
     "end_time": "2025-07-06T01:25:25.329638",
     "exception": false,
     "start_time": "2025-07-06T01:25:25.321138",
     "status": "completed"
    },
    "tags": []
   },
   "source": "## Remove Whitespace"
  },
  {
   "cell_type": "code",
   "id": "367ea646",
   "metadata": {
    "execution": {
     "iopub.execute_input": "2025-07-06T01:25:25.347923Z",
     "iopub.status.busy": "2025-07-06T01:25:25.347548Z",
     "iopub.status.idle": "2025-07-06T01:25:25.356587Z",
     "shell.execute_reply": "2025-07-06T01:25:25.35557Z"
    },
    "papermill": {
     "duration": 0.020363,
     "end_time": "2025-07-06T01:25:25.358481",
     "exception": false,
     "start_time": "2025-07-06T01:25:25.338118",
     "status": "completed"
    },
    "tags": []
   },
   "source": "text_without_whitespace:str  = sub(r\"\\s+\", \" \", text)",
   "outputs": [],
   "execution_count": null
  },
  {
   "metadata": {},
   "cell_type": "markdown",
   "source": "### Print it",
   "id": "d33ba5b58d2a40f"
  },
  {
   "cell_type": "code",
   "id": "aef5b0b8",
   "metadata": {
    "_kg_hide-output": true,
    "collapsed": true,
    "execution": {
     "iopub.execute_input": "2025-07-06T01:25:25.375739Z",
     "iopub.status.busy": "2025-07-06T01:25:25.375349Z",
     "iopub.status.idle": "2025-07-06T01:25:25.382171Z",
     "shell.execute_reply": "2025-07-06T01:25:25.380821Z"
    },
    "jupyter": {
     "outputs_hidden": true
    },
    "papermill": {
     "duration": 0.017516,
     "end_time": "2025-07-06T01:25:25.383843",
     "exception": false,
     "start_time": "2025-07-06T01:25:25.366327",
     "status": "completed"
    },
    "tags": []
   },
   "source": "print(text_without_whitespace)",
   "outputs": [],
   "execution_count": null
  },
  {
   "cell_type": "markdown",
   "id": "503abbfc",
   "metadata": {
    "papermill": {
     "duration": 0.008968,
     "end_time": "2025-07-06T01:25:25.402357",
     "exception": false,
     "start_time": "2025-07-06T01:25:25.393389",
     "status": "completed"
    },
    "tags": []
   },
   "source": "## Convert to Lower Case"
  },
  {
   "cell_type": "code",
   "id": "93131b0b",
   "metadata": {
    "execution": {
     "iopub.execute_input": "2025-07-06T01:25:25.421861Z",
     "iopub.status.busy": "2025-07-06T01:25:25.42143Z",
     "iopub.status.idle": "2025-07-06T01:25:25.427004Z",
     "shell.execute_reply": "2025-07-06T01:25:25.425865Z"
    },
    "papermill": {
     "duration": 0.017629,
     "end_time": "2025-07-06T01:25:25.428728",
     "exception": false,
     "start_time": "2025-07-06T01:25:25.411099",
     "status": "completed"
    },
    "tags": []
   },
   "source": "text_lowercase:str  = text_without_whitespace.lower()",
   "outputs": [],
   "execution_count": null
  },
  {
   "metadata": {},
   "cell_type": "markdown",
   "source": "### Print it",
   "id": "a5d8a20bf934b2b7"
  },
  {
   "cell_type": "code",
   "id": "d849d78d",
   "metadata": {
    "_kg_hide-output": true,
    "collapsed": true,
    "execution": {
     "iopub.execute_input": "2025-07-06T01:25:25.449449Z",
     "iopub.status.busy": "2025-07-06T01:25:25.449058Z",
     "iopub.status.idle": "2025-07-06T01:25:25.454874Z",
     "shell.execute_reply": "2025-07-06T01:25:25.453858Z"
    },
    "jupyter": {
     "outputs_hidden": true
    },
    "papermill": {
     "duration": 0.019396,
     "end_time": "2025-07-06T01:25:25.457332",
     "exception": false,
     "start_time": "2025-07-06T01:25:25.437936",
     "status": "completed"
    },
    "tags": []
   },
   "source": "print(text_lowercase)",
   "outputs": [],
   "execution_count": null
  },
  {
   "cell_type": "markdown",
   "id": "d46d8b0f",
   "metadata": {
    "papermill": {
     "duration": 0.010477,
     "end_time": "2025-07-06T01:25:25.478873",
     "exception": false,
     "start_time": "2025-07-06T01:25:25.468396",
     "status": "completed"
    },
    "tags": []
   },
   "source": "## Tokenization"
  },
  {
   "cell_type": "code",
   "id": "edea2a6c",
   "metadata": {
    "execution": {
     "iopub.execute_input": "2025-07-06T01:25:25.500903Z",
     "iopub.status.busy": "2025-07-06T01:25:25.500461Z",
     "iopub.status.idle": "2025-07-06T01:25:25.565369Z",
     "shell.execute_reply": "2025-07-06T01:25:25.56422Z"
    },
    "papermill": {
     "duration": 0.078217,
     "end_time": "2025-07-06T01:25:25.567447",
     "exception": false,
     "start_time": "2025-07-06T01:25:25.48923",
     "status": "completed"
    },
    "tags": []
   },
   "source": "tokens: list[str] = word_tokenize(text_lowercase)",
   "outputs": [],
   "execution_count": null
  },
  {
   "metadata": {},
   "cell_type": "markdown",
   "source": "### Print it",
   "id": "bca05e1dcfdadb4c"
  },
  {
   "cell_type": "code",
   "id": "343c922f",
   "metadata": {
    "_kg_hide-output": true,
    "collapsed": true,
    "execution": {
     "iopub.execute_input": "2025-07-06T01:25:25.589892Z",
     "iopub.status.busy": "2025-07-06T01:25:25.589528Z",
     "iopub.status.idle": "2025-07-06T01:25:25.603273Z",
     "shell.execute_reply": "2025-07-06T01:25:25.602098Z"
    },
    "jupyter": {
     "outputs_hidden": true
    },
    "papermill": {
     "duration": 0.02858,
     "end_time": "2025-07-06T01:25:25.606714",
     "exception": false,
     "start_time": "2025-07-06T01:25:25.578134",
     "status": "completed"
    },
    "tags": []
   },
   "source": "print(tokens)",
   "outputs": [],
   "execution_count": null
  },
  {
   "cell_type": "markdown",
   "id": "cd110bc6",
   "metadata": {
    "papermill": {
     "duration": 0.01105,
     "end_time": "2025-07-06T01:25:25.630897",
     "exception": false,
     "start_time": "2025-07-06T01:25:25.619847",
     "status": "completed"
    },
    "tags": []
   },
   "source": "## Remove Words contains Number"
  },
  {
   "cell_type": "code",
   "id": "55a41b4f",
   "metadata": {
    "execution": {
     "iopub.execute_input": "2025-07-06T01:25:25.656038Z",
     "iopub.status.busy": "2025-07-06T01:25:25.655663Z",
     "iopub.status.idle": "2025-07-06T01:25:25.66747Z",
     "shell.execute_reply": "2025-07-06T01:25:25.666197Z"
    },
    "papermill": {
     "duration": 0.027057,
     "end_time": "2025-07-06T01:25:25.669519",
     "exception": false,
     "start_time": "2025-07-06T01:25:25.642462",
     "status": "completed"
    },
    "tags": []
   },
   "source": "tokens_without_numbers:list[str] = [token for token in tokens if not any(char.isdigit() for char in token)]",
   "outputs": [],
   "execution_count": null
  },
  {
   "metadata": {},
   "cell_type": "markdown",
   "source": "### Print it",
   "id": "6de0f7d6de77bd44"
  },
  {
   "cell_type": "code",
   "id": "fef3d22c",
   "metadata": {
    "_kg_hide-output": true,
    "collapsed": true,
    "execution": {
     "iopub.execute_input": "2025-07-06T01:25:25.697219Z",
     "iopub.status.busy": "2025-07-06T01:25:25.69629Z",
     "iopub.status.idle": "2025-07-06T01:25:25.703753Z",
     "shell.execute_reply": "2025-07-06T01:25:25.702636Z"
    },
    "jupyter": {
     "outputs_hidden": true
    },
    "papermill": {
     "duration": 0.023012,
     "end_time": "2025-07-06T01:25:25.705871",
     "exception": false,
     "start_time": "2025-07-06T01:25:25.682859",
     "status": "completed"
    },
    "tags": []
   },
   "source": "print(tokens_without_numbers)",
   "outputs": [],
   "execution_count": null
  },
  {
   "cell_type": "markdown",
   "id": "2138c39f",
   "metadata": {
    "papermill": {
     "duration": 0.012558,
     "end_time": "2025-07-06T01:25:25.732695",
     "exception": false,
     "start_time": "2025-07-06T01:25:25.720137",
     "status": "completed"
    },
    "tags": []
   },
   "source": "## Remove Stop Words"
  },
  {
   "cell_type": "code",
   "id": "1dcb28c5",
   "metadata": {
    "execution": {
     "iopub.execute_input": "2025-07-06T01:25:25.759944Z",
     "iopub.status.busy": "2025-07-06T01:25:25.759497Z",
     "iopub.status.idle": "2025-07-06T01:25:26.427928Z",
     "shell.execute_reply": "2025-07-06T01:25:26.426498Z"
    },
    "papermill": {
     "duration": 0.685336,
     "end_time": "2025-07-06T01:25:26.430389",
     "exception": false,
     "start_time": "2025-07-06T01:25:25.745053",
     "status": "completed"
    },
    "tags": []
   },
   "source": "tokens_without_stopwords:list[str] = [token for token in tokens_without_numbers if token not in stopwords.words(\"english\")]",
   "outputs": [],
   "execution_count": null
  },
  {
   "metadata": {},
   "cell_type": "markdown",
   "source": "### Print it",
   "id": "f13d38efdaa51a78"
  },
  {
   "cell_type": "code",
   "id": "e9d98e29",
   "metadata": {
    "_kg_hide-output": true,
    "collapsed": true,
    "execution": {
     "iopub.execute_input": "2025-07-06T01:25:26.461475Z",
     "iopub.status.busy": "2025-07-06T01:25:26.461098Z",
     "iopub.status.idle": "2025-07-06T01:25:26.468462Z",
     "shell.execute_reply": "2025-07-06T01:25:26.467181Z"
    },
    "jupyter": {
     "outputs_hidden": true
    },
    "papermill": {
     "duration": 0.026502,
     "end_time": "2025-07-06T01:25:26.471161",
     "exception": false,
     "start_time": "2025-07-06T01:25:26.444659",
     "status": "completed"
    },
    "tags": []
   },
   "source": "print(tokens_without_stopwords)",
   "outputs": [],
   "execution_count": null
  },
  {
   "cell_type": "markdown",
   "id": "cdfad0be",
   "metadata": {
    "papermill": {
     "duration": 0.015825,
     "end_time": "2025-07-06T01:25:26.504372",
     "exception": false,
     "start_time": "2025-07-06T01:25:26.488547",
     "status": "completed"
    },
    "tags": []
   },
   "source": "## Words with Length Less than 3"
  },
  {
   "cell_type": "code",
   "id": "c4db5555",
   "metadata": {
    "execution": {
     "iopub.execute_input": "2025-07-06T01:25:26.533959Z",
     "iopub.status.busy": "2025-07-06T01:25:26.533564Z",
     "iopub.status.idle": "2025-07-06T01:25:26.539855Z",
     "shell.execute_reply": "2025-07-06T01:25:26.538393Z"
    },
    "papermill": {
     "duration": 0.022719,
     "end_time": "2025-07-06T01:25:26.54161",
     "exception": false,
     "start_time": "2025-07-06T01:25:26.518891",
     "status": "completed"
    },
    "tags": []
   },
   "source": "token_less_3:list[str] = [token for token in tokens_without_stopwords if len(token) < 3]",
   "outputs": [],
   "execution_count": null
  },
  {
   "metadata": {},
   "cell_type": "markdown",
   "source": "### Print it",
   "id": "2c392094ed439174"
  },
  {
   "cell_type": "code",
   "id": "47dd2681",
   "metadata": {
    "_kg_hide-output": true,
    "execution": {
     "iopub.execute_input": "2025-07-06T01:25:26.571712Z",
     "iopub.status.busy": "2025-07-06T01:25:26.571362Z",
     "iopub.status.idle": "2025-07-06T01:25:26.577715Z",
     "shell.execute_reply": "2025-07-06T01:25:26.576362Z"
    },
    "papermill": {
     "duration": 0.023942,
     "end_time": "2025-07-06T01:25:26.579608",
     "exception": false,
     "start_time": "2025-07-06T01:25:26.555666",
     "status": "completed"
    },
    "tags": []
   },
   "source": "print(sorted(token_less_3))",
   "outputs": [],
   "execution_count": null
  },
  {
   "cell_type": "markdown",
   "id": "75a09d08",
   "metadata": {
    "papermill": {
     "duration": 0.013966,
     "end_time": "2025-07-06T01:25:26.608223",
     "exception": false,
     "start_time": "2025-07-06T01:25:26.594257",
     "status": "completed"
    },
    "tags": []
   },
   "source": "## Remove Words with Length Less than 3"
  },
  {
   "cell_type": "code",
   "id": "99723ed3",
   "metadata": {
    "execution": {
     "iopub.execute_input": "2025-07-06T01:25:26.639346Z",
     "iopub.status.busy": "2025-07-06T01:25:26.638944Z",
     "iopub.status.idle": "2025-07-06T01:25:26.645355Z",
     "shell.execute_reply": "2025-07-06T01:25:26.643805Z"
    },
    "papermill": {
     "duration": 0.025325,
     "end_time": "2025-07-06T01:25:26.647411",
     "exception": false,
     "start_time": "2025-07-06T01:25:26.622086",
     "status": "completed"
    },
    "tags": []
   },
   "source": "token_greater_2:list[str] = [token for token in tokens_without_stopwords if len(token) > 2]",
   "outputs": [],
   "execution_count": null
  },
  {
   "metadata": {},
   "cell_type": "markdown",
   "source": "### Print it",
   "id": "800d2c26357f05c0"
  },
  {
   "cell_type": "code",
   "id": "e4c8f73b",
   "metadata": {
    "_kg_hide-output": true,
    "collapsed": true,
    "execution": {
     "iopub.execute_input": "2025-07-06T01:25:26.67925Z",
     "iopub.status.busy": "2025-07-06T01:25:26.678876Z",
     "iopub.status.idle": "2025-07-06T01:25:26.685983Z",
     "shell.execute_reply": "2025-07-06T01:25:26.684705Z"
    },
    "jupyter": {
     "outputs_hidden": true
    },
    "papermill": {
     "duration": 0.026125,
     "end_time": "2025-07-06T01:25:26.688566",
     "exception": false,
     "start_time": "2025-07-06T01:25:26.662441",
     "status": "completed"
    },
    "tags": []
   },
   "source": "print(token_greater_2)",
   "outputs": [],
   "execution_count": null
  },
  {
   "cell_type": "markdown",
   "id": "63c1188f",
   "metadata": {
    "papermill": {
     "duration": 0.014301,
     "end_time": "2025-07-06T01:25:26.718723",
     "exception": false,
     "start_time": "2025-07-06T01:25:26.704422",
     "status": "completed"
    },
    "tags": []
   },
   "source": "## Stemming"
  },
  {
   "cell_type": "code",
   "id": "6723e20f",
   "metadata": {
    "execution": {
     "iopub.execute_input": "2025-07-06T01:25:26.749622Z",
     "iopub.status.busy": "2025-07-06T01:25:26.749253Z",
     "iopub.status.idle": "2025-07-06T01:25:26.833696Z",
     "shell.execute_reply": "2025-07-06T01:25:26.832515Z"
    },
    "papermill": {
     "duration": 0.102792,
     "end_time": "2025-07-06T01:25:26.835969",
     "exception": false,
     "start_time": "2025-07-06T01:25:26.733177",
     "status": "completed"
    },
    "tags": []
   },
   "source": [
    "ps = PorterStemmer()\n",
    "token_stemming:list[str] = [ps.stem(token) for token in token_greater_2]"
   ],
   "outputs": [],
   "execution_count": null
  },
  {
   "metadata": {},
   "cell_type": "markdown",
   "source": "### Print it",
   "id": "dc2dce904e66c0a7"
  },
  {
   "cell_type": "code",
   "id": "af78a74d",
   "metadata": {
    "_kg_hide-output": true,
    "collapsed": true,
    "execution": {
     "iopub.execute_input": "2025-07-06T01:25:26.869094Z",
     "iopub.status.busy": "2025-07-06T01:25:26.868696Z",
     "iopub.status.idle": "2025-07-06T01:25:26.87552Z",
     "shell.execute_reply": "2025-07-06T01:25:26.874472Z"
    },
    "jupyter": {
     "outputs_hidden": true
    },
    "papermill": {
     "duration": 0.025369,
     "end_time": "2025-07-06T01:25:26.877421",
     "exception": false,
     "start_time": "2025-07-06T01:25:26.852052",
     "status": "completed"
    },
    "tags": []
   },
   "source": "print(token_stemming)",
   "outputs": [],
   "execution_count": null
  },
  {
   "cell_type": "markdown",
   "id": "f939cfff",
   "metadata": {
    "papermill": {
     "duration": 0.015537,
     "end_time": "2025-07-06T01:25:26.909701",
     "exception": false,
     "start_time": "2025-07-06T01:25:26.894164",
     "status": "completed"
    },
    "tags": []
   },
   "source": "## Lemmatization"
  },
  {
   "cell_type": "code",
   "id": "c12370f9",
   "metadata": {
    "execution": {
     "iopub.execute_input": "2025-07-06T01:25:27.01838Z",
     "iopub.status.busy": "2025-07-06T01:25:27.018011Z",
     "iopub.status.idle": "2025-07-06T01:25:31.121209Z",
     "shell.execute_reply": "2025-07-06T01:25:31.12012Z"
    },
    "papermill": {
     "duration": 4.121386,
     "end_time": "2025-07-06T01:25:31.123128",
     "exception": false,
     "start_time": "2025-07-06T01:25:27.001742",
     "status": "completed"
    },
    "tags": []
   },
   "source": [
    "lemmatizer = WordNetLemmatizer()\n",
    "token_lemmatizer:list[str] = [lemmatizer.lemmatize(token) for token in token_stemming]"
   ],
   "outputs": [],
   "execution_count": null
  },
  {
   "metadata": {},
   "cell_type": "markdown",
   "source": "### Print it",
   "id": "73810e1a1f8d986"
  },
  {
   "cell_type": "code",
   "id": "7bbe328a",
   "metadata": {
    "_kg_hide-output": true,
    "collapsed": true,
    "execution": {
     "iopub.execute_input": "2025-07-06T01:25:31.155315Z",
     "iopub.status.busy": "2025-07-06T01:25:31.154936Z",
     "iopub.status.idle": "2025-07-06T01:25:31.162857Z",
     "shell.execute_reply": "2025-07-06T01:25:31.161687Z"
    },
    "jupyter": {
     "outputs_hidden": true
    },
    "papermill": {
     "duration": 0.026568,
     "end_time": "2025-07-06T01:25:31.165011",
     "exception": false,
     "start_time": "2025-07-06T01:25:31.138443",
     "status": "completed"
    },
    "tags": []
   },
   "source": "print(token_lemmatizer)",
   "outputs": [],
   "execution_count": null
  },
  {
   "cell_type": "markdown",
   "id": "65aab3b5",
   "metadata": {
    "papermill": {
     "duration": 0.016649,
     "end_time": "2025-07-06T01:25:31.199061",
     "exception": false,
     "start_time": "2025-07-06T01:25:31.182412",
     "status": "completed"
    },
    "tags": []
   },
   "source": "## Unique words"
  },
  {
   "cell_type": "code",
   "id": "94f9b4c0",
   "metadata": {
    "execution": {
     "iopub.execute_input": "2025-07-06T01:25:31.235407Z",
     "iopub.status.busy": "2025-07-06T01:25:31.234612Z",
     "iopub.status.idle": "2025-07-06T01:25:31.240238Z",
     "shell.execute_reply": "2025-07-06T01:25:31.239029Z"
    },
    "papermill": {
     "duration": 0.0261,
     "end_time": "2025-07-06T01:25:31.24207",
     "exception": false,
     "start_time": "2025-07-06T01:25:31.21597",
     "status": "completed"
    },
    "tags": []
   },
   "source": "unique_words:list[str] = list(set(token_lemmatizer))",
   "outputs": [],
   "execution_count": null
  },
  {
   "metadata": {},
   "cell_type": "markdown",
   "source": "### Print it",
   "id": "228711b3a507e1ec"
  },
  {
   "cell_type": "code",
   "id": "63d68356",
   "metadata": {
    "_kg_hide-output": true,
    "collapsed": true,
    "execution": {
     "iopub.execute_input": "2025-07-06T01:25:31.27575Z",
     "iopub.status.busy": "2025-07-06T01:25:31.27537Z",
     "iopub.status.idle": "2025-07-06T01:25:31.282084Z",
     "shell.execute_reply": "2025-07-06T01:25:31.280675Z"
    },
    "jupyter": {
     "outputs_hidden": true
    },
    "papermill": {
     "duration": 0.025383,
     "end_time": "2025-07-06T01:25:31.284044",
     "exception": false,
     "start_time": "2025-07-06T01:25:31.258661",
     "status": "completed"
    },
    "tags": []
   },
   "source": "print(sorted(unique_words))",
   "outputs": [],
   "execution_count": null
  }
 ],
 "metadata": {
  "kaggle": {
   "accelerator": "none",
   "dataSources": [],
   "isGpuEnabled": false,
   "isInternetEnabled": true,
   "language": "python",
   "sourceType": "notebook"
  },
  "kernelspec": {
   "display_name": "Python 3",
   "language": "python",
   "name": "python3"
  },
  "language_info": {
   "codemirror_mode": {
    "name": "ipython",
    "version": 3
   },
   "file_extension": ".py",
   "mimetype": "text/x-python",
   "name": "python",
   "nbconvert_exporter": "python",
   "pygments_lexer": "ipython3",
   "version": "3.11.11"
  },
  "papermill": {
   "default_parameters": {},
   "duration": 17.392792,
   "end_time": "2025-07-06T01:25:32.828094",
   "environment_variables": {},
   "exception": null,
   "input_path": "__notebook__.ipynb",
   "output_path": "__notebook__.ipynb",
   "parameters": {},
   "start_time": "2025-07-06T01:25:15.435302",
   "version": "2.6.0"
  }
 },
 "nbformat": 4,
 "nbformat_minor": 5
}
