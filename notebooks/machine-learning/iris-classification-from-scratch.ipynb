{
 "cells": [
  {
   "cell_type": "markdown",
   "id": "ec08f617",
   "metadata": {},
   "source": [
    "<a href=\"https://www.kaggle.com/code/mh0386/iris-classification-from-scratch?scriptVersionId=248971831\" target=\"_blank\"><img align=\"left\" alt=\"Kaggle\" title=\"Open in Kaggle\" src=\"https://kaggle.com/static/images/open-in-kaggle.svg\"></a>"
   ]
  },
  {
   "cell_type": "markdown",
   "id": "c0981670",
   "metadata": {},
   "source": [
    "# Iris Classification from Scratch"
   ]
  },
  {
   "cell_type": "markdown",
   "id": "054a9d34",
   "metadata": {},
   "source": [
    "- Created to classify Iris flowers into three species: `Setosa`, `Versicolor`, and `Virginica`\n",
    "- Trained on a dataset of 150 Iris flowers\n",
    "- Achieved an accuracy of `~93%`"
   ]
  },
  {
   "cell_type": "markdown",
   "id": "1d7af0c0",
   "metadata": {},
   "source": [
    "## Collaborators:\n",
    "* [Mohamed Hisham](https://kaggle.com/MH0386)\n",
    "* [Abdelrahman Mostafa](https://www.kaggle.com/abdelrahmanm2003)\n",
    "* [Abdelrahman Elshafie](https://www.kaggle.com/abdelrahmansaeed3)"
   ]
  },
  {
   "cell_type": "markdown",
   "id": "45419f48",
   "metadata": {},
   "source": [
    "# Imports"
   ]
  },
  {
   "cell_type": "code",
   "execution_count": null,
   "id": "3a35771e",
   "metadata": {},
   "outputs": [],
   "source": [
    "from sklearn.utils import shuffle\n",
    "from sklearn.naive_bayes import GaussianNB\n",
    "from sklearn import datasets\n",
    "from mlxtend.plotting import plot_decision_regions\n",
    "from matplotlib import pyplot as plt\n",
    "import pandas as pd\n",
    "import numpy as np"
   ]
  },
  {
   "cell_type": "markdown",
   "id": "3b892fa3",
   "metadata": {},
   "source": [
    "# Loading the data set"
   ]
  },
  {
   "cell_type": "code",
   "execution_count": null,
   "id": "7d4405f8",
   "metadata": {},
   "outputs": [],
   "source": [
    "dataset = datasets.load_iris()\n",
    "data = dataset.data[:, [0, 2]]  # assigning the features data\n",
    "data_class = dataset.target  # assigning the label data\n",
    "remaining_features = dataset.data[:, [1, 3]]"
   ]
  },
  {
   "cell_type": "code",
   "execution_count": null,
   "id": "e72701b6",
   "metadata": {},
   "outputs": [],
   "source": [
    "data"
   ]
  },
  {
   "cell_type": "markdown",
   "id": "77d20e50",
   "metadata": {},
   "source": [
    "# Random shuffling the data"
   ]
  },
  {
   "cell_type": "code",
   "execution_count": null,
   "id": "ade8eaa6",
   "metadata": {},
   "outputs": [],
   "source": [
    "data, data_class, remaining_features = shuffle(data, data_class, remaining_features)"
   ]
  },
  {
   "cell_type": "markdown",
   "id": "1d8e6aa0",
   "metadata": {},
   "source": [
    "# Loading the classifier"
   ]
  },
  {
   "cell_type": "code",
   "execution_count": null,
   "id": "7c2c4ddc",
   "metadata": {},
   "outputs": [],
   "source": [
    "model = GaussianNB()"
   ]
  },
  {
   "cell_type": "markdown",
   "id": "7c62f782",
   "metadata": {},
   "source": [
    "# Splitting the data into train, validate, test samples"
   ]
  },
  {
   "cell_type": "code",
   "execution_count": null,
   "id": "e1eb5973",
   "metadata": {},
   "outputs": [],
   "source": [
    "def split(features, label, valRatio, testRatio):\n",
    "    # getting the samples sizes\n",
    "    testSample = int(len(label) * testRatio)\n",
    "    validationSample = int(len(label) * valRatio + testSample)\n",
    "\n",
    "    # splitting the data into 3 samples\n",
    "    x_test, y_test = features[:testSample], label[:testSample]\n",
    "    x_validation, y_validation = (\n",
    "        features[testSample:validationSample],\n",
    "        label[testSample:validationSample],\n",
    "    )\n",
    "    x_train, y_train = features[validationSample:], label[validationSample:]\n",
    "\n",
    "    # returning samples\n",
    "    return x_train, y_train, x_test, y_test, x_validation, y_validation"
   ]
  },
  {
   "cell_type": "code",
   "execution_count": null,
   "id": "6143754b",
   "metadata": {},
   "outputs": [],
   "source": [
    "def train_validate_test_split(features, labels, testRatio=0.3, valRatio=0.3):\n",
    "    # first we split the data into 3 sets:\n",
    "    # 1) train dataset to train our model (x_train, y_train)\n",
    "    # 2) validation dataset to improve model's accuracy (x_validation, y_validation)\n",
    "    # 3) test dataset to test the model and make it predict the labels for unknown data (x_test, y_test)\n",
    "    x_train, y_train, x_test, y_test, x_validation, y_validation = split(\n",
    "        features, labels, valRatio, testRatio\n",
    "    )\n",
    "\n",
    "    # secondly, we train our model using the training samples\n",
    "    train(x_train, y_train)\n",
    "\n",
    "    # thirdly, we validate the model using validation samples\n",
    "    validate(x_validation, y_validation)\n",
    "\n",
    "    # and then we test the model and let it predict the labels of unknown data\n",
    "    predicted_values = test(x_test)\n",
    "\n",
    "    # finally, we calculate the model's accuracy\n",
    "    calc_accuracy(predicted_values, y_test)"
   ]
  },
  {
   "cell_type": "markdown",
   "id": "653cacc1",
   "metadata": {},
   "source": [
    "#  Train the model"
   ]
  },
  {
   "cell_type": "code",
   "execution_count": null,
   "id": "5eafe513",
   "metadata": {},
   "outputs": [],
   "source": [
    "def train(xtrain, ytrain):\n",
    "    hist = model.fit(xtrain, ytrain)\n",
    "    return hist"
   ]
  },
  {
   "cell_type": "markdown",
   "id": "af6a8d36",
   "metadata": {},
   "source": [
    "# Validate the model and trying to increase the accuracy"
   ]
  },
  {
   "cell_type": "code",
   "execution_count": null,
   "id": "c31343e6",
   "metadata": {},
   "outputs": [],
   "source": [
    "def validate(xvalidation, yvalidation):\n",
    "    model.fit(xvalidation, yvalidation)"
   ]
  },
  {
   "cell_type": "markdown",
   "id": "c3b515fb",
   "metadata": {},
   "source": [
    "# Test the model used"
   ]
  },
  {
   "cell_type": "code",
   "execution_count": null,
   "id": "793bcb08",
   "metadata": {},
   "outputs": [],
   "source": [
    "def test(xtest):\n",
    "    predicted_results = model.predict(xtest)\n",
    "    return predicted_results"
   ]
  },
  {
   "cell_type": "markdown",
   "id": "a080c826",
   "metadata": {},
   "source": [
    "# Calculate model accuracy"
   ]
  },
  {
   "cell_type": "code",
   "execution_count": null,
   "id": "c295d361",
   "metadata": {},
   "outputs": [],
   "source": [
    "def calc_accuracy(predicted, original):\n",
    "    cnt = 0\n",
    "    for i in range(len(predicted)):\n",
    "        if predicted[i] == original[i]:\n",
    "            cnt += 1\n",
    "    print(\"Accuracy = \", cnt / len(original) * 100)"
   ]
  },
  {
   "cell_type": "markdown",
   "id": "33a2e2f0",
   "metadata": {},
   "source": [
    "# calling train_validate_test_split() function to train, validate, test, and calculate the accuracy of the model"
   ]
  },
  {
   "cell_type": "code",
   "execution_count": null,
   "id": "83d5dcd3",
   "metadata": {},
   "outputs": [],
   "source": [
    "train_validate_test_split(data, data_class)"
   ]
  },
  {
   "cell_type": "markdown",
   "id": "6d165633",
   "metadata": {},
   "source": [
    "# Using plot_decision_regions() function to draw the decision boundaries of the model"
   ]
  },
  {
   "cell_type": "code",
   "execution_count": null,
   "id": "e32c5599",
   "metadata": {},
   "outputs": [],
   "source": [
    "ax = plot_decision_regions(\n",
    "    data,\n",
    "    data_class,\n",
    "    clf=model,\n",
    "    legend=0,\n",
    "    filler_feature_values={1: 3.045, 3: 1.198667},\n",
    "    filler_feature_ranges={1: 2.2, 3: 2.4},\n",
    ")\n",
    "handles, labels = ax.get_legend_handles_labels()\n",
    "ax.legend(handles, [\"Iris-setosa\", \"Iris-versicolor\", \"Iris-virginica\"])\n",
    "plt.show()"
   ]
  }
 ],
 "metadata": {
  "kaggle": {
   "accelerator": "none",
   "dataSources": [],
   "isGpuEnabled": false,
   "isInternetEnabled": true,
   "language": "python",
   "sourceType": "notebook"
  },
  "kernelspec": {
   "display_name": "Python 3",
   "language": "python",
   "name": "python3"
  },
  "language_info": {
   "codemirror_mode": {
    "name": "ipython",
    "version": 3
   },
   "file_extension": ".py",
   "mimetype": "text/x-python",
   "name": "python",
   "nbconvert_exporter": "python",
   "pygments_lexer": "ipython3"
  },
  "papermill": {
   "default_parameters": {},
   "duration": 9.002917,
   "end_time": "2025-07-05T16:51:19.176213",
   "environment_variables": {},
   "exception": null,
   "input_path": "__notebook__.ipynb",
   "output_path": "__notebook__.ipynb",
   "parameters": {},
   "start_time": "2025-07-05T16:51:10.173296",
   "version": "2.6.0"
  }
 },
 "nbformat": 4,
 "nbformat_minor": 5
}
