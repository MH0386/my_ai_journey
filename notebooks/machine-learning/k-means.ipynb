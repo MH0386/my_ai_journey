{
 "cells": [
  {
   "cell_type": "code",
   "execution_count": null,
   "id": "2431331f",
   "metadata": {},
   "outputs": [],
   "source": [
    "import sys\n",
    "import cv2\n",
    "import numpy as np\n",
    "from keras.datasets import mnist\n",
    "from sklearn.model_selection import train_test_split\n",
    "from sklearn.metrics import accuracy_score, confusion_matrix, ConfusionMatrixDisplay\n",
    "from sklearn.preprocessing import OneHotEncoder\n",
    "from sklearn.cluster import KMeans\n",
    "import matplotlib.pyplot as plt"
   ]
  },
  {
   "cell_type": "code",
   "execution_count": null,
   "id": "470948d5",
   "metadata": {},
   "outputs": [],
   "source": [
    "NUM_BLOCKS = 9\n",
    "block_size = int(27 / np.sqrt(NUM_BLOCKS))"
   ]
  },
  {
   "cell_type": "code",
   "execution_count": null,
   "id": "65a260cd",
   "metadata": {},
   "outputs": [],
   "source": [
    "def calculate_centroid(block):\n",
    "    \"\"\"Calculate the centroid of a 2D matrix\"\"\"\n",
    "    rows, cols = block.shape\n",
    "    x_centroid = 0.0\n",
    "    y_centroid = 0.0\n",
    "    for i in range(rows):\n",
    "        for j in range(cols):\n",
    "            x_centroid += i * block[i, j]\n",
    "            y_centroid += j * block[i, j]\n",
    "    total = np.sum(block)\n",
    "    x_centroid = x_centroid / total\n",
    "    y_centroid = y_centroid / total\n",
    "    return x_centroid, y_centroid"
   ]
  },
  {
   "cell_type": "code",
   "execution_count": null,
   "id": "e73c990e",
   "metadata": {},
   "outputs": [],
   "source": [
    "def generate_chain_code(image):\n",
    "    image = np.dstack([image, image, image])\n",
    "    img = cv2.cvtColor(image, cv2.COLOR_RGB2GRAY)\n",
    "    _, img_bin = cv2.threshold(img, 128, 255, cv2.THRESH_BINARY)\n",
    "    row, col = img_bin.shape\n",
    "    if np.all(img_bin == 0):\n",
    "        img_bin[np.random.randint(0, row, 2), np.random.randint(0, col, 2)] = 255\n",
    "    contours, _ = cv2.findContours(img_bin, cv2.RETR_EXTERNAL, cv2.CHAIN_APPROX_NONE)\n",
    "    chain_code = []\n",
    "    point = contours[0][0][0]\n",
    "    for i in range(1, len(contours[0])):\n",
    "        next_point = contours[0][i][0]\n",
    "        diff = next_point - point\n",
    "        if diff[0] == 0 and diff[1] == 1:\n",
    "            chain_code.append(6)\n",
    "        elif diff[0] == -1 and diff[1] == 1:\n",
    "            chain_code.append(5)\n",
    "        elif diff[0] == -1 and diff[1] == 0:\n",
    "            chain_code.append(4)\n",
    "        elif diff[0] == -1 and diff[1] == -1:\n",
    "            chain_code.append(3)\n",
    "        elif diff[0] == 0 and diff[1] == -1:\n",
    "            chain_code.append(2)\n",
    "        elif diff[0] == 1 and diff[1] == -1:\n",
    "            chain_code.append(1)\n",
    "        elif diff[0] == 1 and diff[1] == 0:\n",
    "            chain_code.append(0)\n",
    "        elif diff[0] == 1 and diff[1] == 1:\n",
    "            chain_code.append(7)\n",
    "        point = next_point\n",
    "    return chain_code"
   ]
  },
  {
   "cell_type": "code",
   "execution_count": null,
   "id": "9b151fd3",
   "metadata": {},
   "outputs": [],
   "source": [
    "def extract_features_with_chain_code(image):\n",
    "    features = np.zeros((block_size, block_size, 50))\n",
    "    for i in range(0, 27, block_size):\n",
    "        for j in range(0, 27, block_size):\n",
    "            block = image[i : i + block_size, j : j + block_size]\n",
    "            chain_code = generate_chain_code(block)\n",
    "            # print(\"chain len\", len(chain_code))\n",
    "            if len(chain_code) < 50:\n",
    "                chain_code += [0] * (50 - len(chain_code))\n",
    "            # print(\"chain\", chain_code)\n",
    "            features[i // block_size, j // block_size] = chain_code\n",
    "    return features"
   ]
  },
  {
   "cell_type": "code",
   "execution_count": null,
   "id": "a19809d0",
   "metadata": {},
   "outputs": [],
   "source": [
    "def extract_features_with_centroid(image):\n",
    "    features = np.zeros((block_size, block_size, 2))\n",
    "    for i in range(0, 28, block_size):\n",
    "        for j in range(0, 28, block_size):\n",
    "            block = image[i : i + block_size, j : j + block_size]\n",
    "            x_centroid, y_centroid = calculate_centroid(block)\n",
    "            features[int(i / block_size), int(j / block_size), 0] = x_centroid\n",
    "            features[int(i / block_size), int(j / block_size), 1] = y_centroid\n",
    "    return features"
   ]
  },
  {
   "cell_type": "code",
   "execution_count": null,
   "id": "5232aa0e",
   "metadata": {},
   "outputs": [],
   "source": [
    "def k_means(X, k=10, max_iters=sys.maxsize):\n",
    "    centroids = X[np.random.choice(range(X.shape[0]), size=k, replace=False)]\n",
    "    for _ in range(max_iters):\n",
    "        labels = np.argmin(\n",
    "            np.linalg.norm(X[:, np.newaxis] - centroids, axis=-1), axis=-1\n",
    "        )\n",
    "        new_centroids = np.array([X[labels == i].mean(axis=0) for i in range(k)])\n",
    "        if np.all(centroids == new_centroids):\n",
    "            break\n",
    "        centroids = new_centroids\n",
    "    return centroids, labels"
   ]
  },
  {
   "cell_type": "code",
   "execution_count": null,
   "id": "995b91f1",
   "metadata": {},
   "outputs": [],
   "source": [
    "(x_train, y_train), (x_test, y_test) = mnist.load_data()"
   ]
  },
  {
   "cell_type": "code",
   "execution_count": null,
   "id": "292858cb",
   "metadata": {},
   "outputs": [],
   "source": [
    "x_train = x_train[:, 1:28, 1:28]\n",
    "x_test = x_test[:, 1:28, 1:28]\n",
    "y_train = y_train.astype(np.int64)\n",
    "y_test = y_test.astype(np.int64)"
   ]
  },
  {
   "cell_type": "code",
   "execution_count": null,
   "id": "9ce9d605",
   "metadata": {},
   "outputs": [],
   "source": [
    "encoder = OneHotEncoder()"
   ]
  },
  {
   "cell_type": "code",
   "execution_count": null,
   "id": "978748dc",
   "metadata": {},
   "outputs": [],
   "source": [
    "x_train.shape, y_train.shape"
   ]
  },
  {
   "cell_type": "code",
   "execution_count": null,
   "id": "96b74ab5",
   "metadata": {},
   "outputs": [],
   "source": [
    "x_train, x_val, y_train, y_val = train_test_split(\n",
    "    x_train, y_train, test_size=0.2, random_state=42, shuffle=True\n",
    ")"
   ]
  },
  {
   "cell_type": "code",
   "execution_count": null,
   "id": "52e0a27a",
   "metadata": {},
   "outputs": [],
   "source": [
    "x_train.shape, y_train.shape"
   ]
  },
  {
   "cell_type": "markdown",
   "id": "ae805485",
   "metadata": {},
   "source": [
    "# Using Chain Code"
   ]
  },
  {
   "cell_type": "code",
   "execution_count": null,
   "id": "a6879436",
   "metadata": {},
   "outputs": [],
   "source": [
    "train_features_with_chain_code = np.nan_to_num(\n",
    "    np.array([extract_features_with_chain_code(image) for image in x_train])\n",
    ")"
   ]
  },
  {
   "cell_type": "code",
   "execution_count": null,
   "id": "2d315bdc",
   "metadata": {},
   "outputs": [],
   "source": [
    "train_features_with_chain_code.shape"
   ]
  },
  {
   "cell_type": "code",
   "execution_count": null,
   "id": "4d5e5e63",
   "metadata": {},
   "outputs": [],
   "source": [
    "train_features_with_chain_code = train_features_with_chain_code.reshape(\n",
    "    train_features_with_chain_code.shape[0], -1\n",
    ")"
   ]
  },
  {
   "cell_type": "code",
   "execution_count": null,
   "id": "878fc2e9",
   "metadata": {},
   "outputs": [],
   "source": [
    "train_features_with_chain_code.shape"
   ]
  },
  {
   "cell_type": "code",
   "execution_count": null,
   "id": "a4d17fe4",
   "metadata": {},
   "outputs": [],
   "source": [
    "centroids, labels = k_means(train_features_with_chain_code)"
   ]
  },
  {
   "cell_type": "code",
   "execution_count": null,
   "id": "beb77b7e",
   "metadata": {},
   "outputs": [],
   "source": [
    "centroids.shape, labels.shape"
   ]
  },
  {
   "cell_type": "code",
   "execution_count": null,
   "id": "b9f817cb",
   "metadata": {},
   "outputs": [],
   "source": [
    "labels = encoder.fit_transform(labels.reshape(-1, 1)).toarray()\n",
    "y_train = encoder.fit_transform(y_train.reshape(-1, 1)).toarray()"
   ]
  },
  {
   "cell_type": "code",
   "execution_count": null,
   "id": "1d410a04",
   "metadata": {},
   "outputs": [],
   "source": [
    "accuracy_score(y_train, labels)"
   ]
  },
  {
   "cell_type": "code",
   "execution_count": null,
   "id": "d8b650e4",
   "metadata": {},
   "outputs": [],
   "source": [
    "best = KMeans(n_clusters=10)\n",
    "accuracies = np.array([])\n",
    "max_acc = 0\n",
    "for _ in range(10):\n",
    "    kmeans = KMeans(n_clusters=10)\n",
    "    kmeans.fit(train_features_with_chain_code)\n",
    "    labels = kmeans.predict(train_features_with_chain_code)\n",
    "    labels = encoder.fit_transform(labels.reshape(-1, 1)).toarray()\n",
    "    acc = accuracy_score(y_train, labels)\n",
    "    print(\"Accuracy: \", acc)\n",
    "    accuracies = np.append(accuracies, acc)\n",
    "    if max_acc < accuracies.max():\n",
    "        max_acc = accuracies.max()\n",
    "        best = kmeans\n",
    "print(\"max acc: \", max_acc)"
   ]
  },
  {
   "cell_type": "code",
   "execution_count": null,
   "id": "2ef4abe2",
   "metadata": {},
   "outputs": [],
   "source": [
    "y_train = np.argmax(y_train, axis=1)\n",
    "labels = np.argmax(labels, axis=1)"
   ]
  },
  {
   "cell_type": "code",
   "execution_count": null,
   "id": "9702e26e",
   "metadata": {},
   "outputs": [],
   "source": [
    "y_train.shape, labels.shape"
   ]
  },
  {
   "cell_type": "code",
   "execution_count": null,
   "id": "9c649a60",
   "metadata": {},
   "outputs": [],
   "source": [
    "cm = ConfusionMatrixDisplay(confusion_matrix=confusion_matrix(y_train, labels))\n",
    "cm.plot()\n",
    "plt.show()"
   ]
  },
  {
   "cell_type": "markdown",
   "id": "ed867836",
   "metadata": {},
   "source": [
    "# Using Centroid"
   ]
  },
  {
   "cell_type": "code",
   "execution_count": null,
   "id": "8eae7cb3",
   "metadata": {},
   "outputs": [],
   "source": [
    "train_features_with_centroid = np.nan_to_num(\n",
    "    np.array([extract_features_with_centroid(image) for image in x_train])\n",
    ")"
   ]
  },
  {
   "cell_type": "code",
   "execution_count": null,
   "id": "87c8a231",
   "metadata": {},
   "outputs": [],
   "source": [
    "train_features_with_centroid.shape"
   ]
  },
  {
   "cell_type": "code",
   "execution_count": null,
   "id": "8578a39e",
   "metadata": {},
   "outputs": [],
   "source": [
    "train_features_with_centroid = train_features_with_centroid.reshape(\n",
    "    train_features_with_centroid.shape[0], -1\n",
    ")"
   ]
  },
  {
   "cell_type": "code",
   "execution_count": null,
   "id": "c8b234a7",
   "metadata": {},
   "outputs": [],
   "source": [
    "train_features_with_centroid.shape"
   ]
  },
  {
   "cell_type": "code",
   "execution_count": null,
   "id": "1f4de8a7",
   "metadata": {},
   "outputs": [],
   "source": [
    "centroids, labels = k_means(train_features_with_centroid)"
   ]
  },
  {
   "cell_type": "code",
   "execution_count": null,
   "id": "067a4c63",
   "metadata": {},
   "outputs": [],
   "source": [
    "centroids.shape, labels.shape"
   ]
  },
  {
   "cell_type": "code",
   "execution_count": null,
   "id": "085df25c",
   "metadata": {},
   "outputs": [],
   "source": [
    "labels = encoder.fit_transform(labels.reshape(-1, 1)).toarray()\n",
    "y_train = encoder.fit_transform(y_train.reshape(-1, 1)).toarray()"
   ]
  },
  {
   "cell_type": "code",
   "execution_count": null,
   "id": "3efe5c0f",
   "metadata": {},
   "outputs": [],
   "source": [
    "accuracy_score(y_train, labels)"
   ]
  },
  {
   "cell_type": "code",
   "execution_count": null,
   "id": "59958cc0",
   "metadata": {},
   "outputs": [],
   "source": [
    "best = KMeans(n_clusters=10)\n",
    "accuracies = np.array([])\n",
    "max_acc = 0\n",
    "for _ in range(10):\n",
    "    kmeans = KMeans(n_clusters=10)\n",
    "    kmeans.fit(train_features_with_centroid)\n",
    "    labels = kmeans.predict(train_features_with_centroid)\n",
    "    labels = encoder.fit_transform(labels.reshape(-1, 1)).toarray()\n",
    "    acc = accuracy_score(y_train, labels)\n",
    "    print(\"Accuracy: \", acc)\n",
    "    accuracies = np.append(accuracies, acc)\n",
    "    if max_acc < accuracies.max():\n",
    "        max_acc = accuracies.max()\n",
    "        best = kmeans\n",
    "print(\"max acc: \", max_acc)"
   ]
  },
  {
   "cell_type": "code",
   "execution_count": null,
   "id": "37300bfe",
   "metadata": {},
   "outputs": [],
   "source": [
    "y_train = np.argmax(y_train, axis=1)\n",
    "labels = np.argmax(labels, axis=1)"
   ]
  },
  {
   "cell_type": "code",
   "execution_count": null,
   "id": "068e9315",
   "metadata": {},
   "outputs": [],
   "source": [
    "y_train.shape, labels.shape"
   ]
  },
  {
   "cell_type": "code",
   "execution_count": null,
   "id": "a7c96f0c",
   "metadata": {},
   "outputs": [],
   "source": [
    "cm = ConfusionMatrixDisplay(confusion_matrix=confusion_matrix(y_train, labels))\n",
    "cm.plot()\n",
    "plt.show()"
   ]
  }
 ],
 "metadata": {
  "accelerator": "GPU",
  "colab": {
   "gpuType": "T4",
   "provenance": []
  },
  "kaggle": {
   "accelerator": "tpu1vmV38",
   "dataSources": [],
   "isGpuEnabled": false,
   "isInternetEnabled": true,
   "language": "python",
   "sourceType": "notebook"
  },
  "kernelspec": {
   "display_name": "Python 3",
   "language": "python",
   "name": "python3"
  },
  "language_info": {
   "codemirror_mode": {
    "name": "ipython",
    "version": 3
   },
   "file_extension": ".py",
   "mimetype": "text/x-python",
   "name": "python",
   "nbconvert_exporter": "python",
   "pygments_lexer": "ipython3"
  },
  "papermill": {
   "default_parameters": {},
   "duration": 683.445736,
   "end_time": "2025-02-11T10:45:02.460411",
   "environment_variables": {},
   "exception": null,
   "input_path": "__notebook__.ipynb",
   "output_path": "__notebook__.ipynb",
   "parameters": {},
   "start_time": "2025-02-11T10:33:39.014675",
   "version": "2.6.0"
  }
 },
 "nbformat": 4,
 "nbformat_minor": 5
}
