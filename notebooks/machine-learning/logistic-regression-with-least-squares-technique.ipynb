{
 "cells": [
  {
   "source": "<a href=\"https://www.kaggle.com/code/mh0386/logistic-regression-with-least-squares-technique?scriptVersionId=244761054\" target=\"_blank\"><img align=\"left\" alt=\"Kaggle\" title=\"Open in Kaggle\" src=\"https://kaggle.com/static/images/open-in-kaggle.svg\"></a>",
   "metadata": {},
   "cell_type": "markdown"
  },
  {
   "cell_type": "code",
   "execution_count": 1,
   "id": "71e44e23",
   "metadata": {
    "ExecuteTime": {
     "end_time": "2025-06-10T17:51:06.163472Z",
     "start_time": "2025-06-10T17:49:45.855525Z"
    },
    "execution": {
     "iopub.execute_input": "2025-06-10T20:09:17.507645Z",
     "iopub.status.busy": "2025-06-10T20:09:17.507296Z",
     "iopub.status.idle": "2025-06-10T20:09:22.130225Z",
     "shell.execute_reply": "2025-06-10T20:09:22.129009Z"
    },
    "papermill": {
     "duration": 4.638288,
     "end_time": "2025-06-10T20:09:22.132256",
     "exception": false,
     "start_time": "2025-06-10T20:09:17.493968",
     "status": "completed"
    },
    "tags": []
   },
   "outputs": [],
   "source": [
    "from sys import float_info\n",
    "\n",
    "import numpy as np\n",
    "from matplotlib import pyplot\n",
    "from pandas import get_dummies\n",
    "from sklearn.datasets import load_iris\n",
    "from sklearn.metrics import confusion_matrix\n",
    "from sklearn.model_selection import train_test_split"
   ]
  },
  {
   "cell_type": "code",
   "execution_count": 2,
   "id": "5a182cb1",
   "metadata": {
    "ExecuteTime": {
     "end_time": "2025-06-10T17:51:06.196186Z",
     "start_time": "2025-06-10T17:51:06.186792Z"
    },
    "execution": {
     "iopub.execute_input": "2025-06-10T20:09:22.154584Z",
     "iopub.status.busy": "2025-06-10T20:09:22.154092Z",
     "iopub.status.idle": "2025-06-10T20:09:22.165676Z",
     "shell.execute_reply": "2025-06-10T20:09:22.164758Z"
    },
    "papermill": {
     "duration": 0.024623,
     "end_time": "2025-06-10T20:09:22.167446",
     "exception": false,
     "start_time": "2025-06-10T20:09:22.142823",
     "status": "completed"
    },
    "tags": []
   },
   "outputs": [],
   "source": [
    "iris = load_iris()"
   ]
  },
  {
   "cell_type": "code",
   "execution_count": 3,
   "id": "dbf1f89a",
   "metadata": {
    "ExecuteTime": {
     "end_time": "2025-06-10T17:51:06.58649Z",
     "start_time": "2025-06-10T17:51:06.583094Z"
    },
    "execution": {
     "iopub.execute_input": "2025-06-10T20:09:22.19239Z",
     "iopub.status.busy": "2025-06-10T20:09:22.192085Z",
     "iopub.status.idle": "2025-06-10T20:09:22.196839Z",
     "shell.execute_reply": "2025-06-10T20:09:22.195842Z"
    },
    "papermill": {
     "duration": 0.017749,
     "end_time": "2025-06-10T20:09:22.198322",
     "exception": false,
     "start_time": "2025-06-10T20:09:22.180573",
     "status": "completed"
    },
    "tags": []
   },
   "outputs": [],
   "source": [
    "x = iris.data\n",
    "y = iris.target"
   ]
  },
  {
   "cell_type": "code",
   "execution_count": 4,
   "id": "3f05b586",
   "metadata": {
    "ExecuteTime": {
     "end_time": "2025-06-10T17:51:06.60696Z",
     "start_time": "2025-06-10T17:51:06.602773Z"
    },
    "execution": {
     "iopub.execute_input": "2025-06-10T20:09:22.22038Z",
     "iopub.status.busy": "2025-06-10T20:09:22.22006Z",
     "iopub.status.idle": "2025-06-10T20:09:22.227222Z",
     "shell.execute_reply": "2025-06-10T20:09:22.226241Z"
    },
    "papermill": {
     "duration": 0.02035,
     "end_time": "2025-06-10T20:09:22.228715",
     "exception": false,
     "start_time": "2025-06-10T20:09:22.208365",
     "status": "completed"
    },
    "tags": []
   },
   "outputs": [
    {
     "data": {
      "text/plain": [
       "(150,)"
      ]
     },
     "execution_count": 4,
     "metadata": {},
     "output_type": "execute_result"
    }
   ],
   "source": [
    "y.shape"
   ]
  },
  {
   "cell_type": "code",
   "execution_count": 5,
   "id": "224d0627",
   "metadata": {
    "ExecuteTime": {
     "end_time": "2025-06-10T17:51:06.772362Z",
     "start_time": "2025-06-10T17:51:06.768226Z"
    },
    "execution": {
     "iopub.execute_input": "2025-06-10T20:09:22.252653Z",
     "iopub.status.busy": "2025-06-10T20:09:22.252213Z",
     "iopub.status.idle": "2025-06-10T20:09:22.261467Z",
     "shell.execute_reply": "2025-06-10T20:09:22.260314Z"
    },
    "papermill": {
     "duration": 0.023272,
     "end_time": "2025-06-10T20:09:22.263205",
     "exception": false,
     "start_time": "2025-06-10T20:09:22.239933",
     "status": "completed"
    },
    "tags": []
   },
   "outputs": [
    {
     "data": {
      "text/plain": [
       "array([0, 1, 2])"
      ]
     },
     "execution_count": 5,
     "metadata": {},
     "output_type": "execute_result"
    }
   ],
   "source": [
    "np.unique(y)"
   ]
  },
  {
   "cell_type": "markdown",
   "id": "b10918ea",
   "metadata": {
    "papermill": {
     "duration": 0.010661,
     "end_time": "2025-06-10T20:09:22.284965",
     "exception": false,
     "start_time": "2025-06-10T20:09:22.274304",
     "status": "completed"
    },
    "tags": []
   },
   "source": [
    "# Model\n"
   ]
  },
  {
   "cell_type": "code",
   "execution_count": 6,
   "id": "4392aad1",
   "metadata": {
    "ExecuteTime": {
     "end_time": "2025-06-10T17:51:06.949899Z",
     "start_time": "2025-06-10T17:51:06.941629Z"
    },
    "execution": {
     "iopub.execute_input": "2025-06-10T20:09:22.307244Z",
     "iopub.status.busy": "2025-06-10T20:09:22.306886Z",
     "iopub.status.idle": "2025-06-10T20:09:22.324882Z",
     "shell.execute_reply": "2025-06-10T20:09:22.323822Z"
    },
    "papermill": {
     "duration": 0.03119,
     "end_time": "2025-06-10T20:09:22.326307",
     "exception": false,
     "start_time": "2025-06-10T20:09:22.295117",
     "status": "completed"
    },
    "tags": []
   },
   "outputs": [],
   "source": [
    "class LogisticRegression:\n",
    "    def __init__(\n",
    "        self,\n",
    "        lr=0.1,\n",
    "        num_iter=1_000_000,\n",
    "        verbose=False,\n",
    "        multi_class=False,\n",
    "        least_squares=False,\n",
    "    ) -> None:\n",
    "        self.lr = lr\n",
    "        self.num_iter = num_iter\n",
    "        self.verbose = verbose\n",
    "        self.least_squares = least_squares\n",
    "        self.multi_class = multi_class\n",
    "        self.weights = None\n",
    "        self.bias = None\n",
    "        self.classes_ = None\n",
    "        self.m = None\n",
    "        self.n = None\n",
    "        self.losses = []\n",
    "        self.accuracies = []\n",
    "\n",
    "    def softmax(self, x: np.ndarray) -> np.ndarray:\n",
    "        e_x = np.exp(x - np.max(x, axis=1, keepdims=True))\n",
    "        return e_x / e_x.sum(axis=1, keepdims=True)\n",
    "\n",
    "    def gradient_descent(self, x: np.ndarray, y: np.ndarray) -> None:\n",
    "        y_hat = self.predict(x)\n",
    "        dw = (1 / self.m) * np.dot(x.T, (y_hat - y))\n",
    "        db = (1 / self.m) * np.sum(y_hat - y)\n",
    "        self.weights -= self.lr * dw\n",
    "        self.bias -= self.lr * db\n",
    "\n",
    "    def predict(self, x: np.ndarray) -> np.ndarray:\n",
    "        if self.least_squares:\n",
    "            x = np.c_[np.ones(x.shape[0]), x]\n",
    "            return np.dot(x, self.weights)\n",
    "        z = np.dot(x, self.weights) + self.bias\n",
    "        predication = 1.0 / (1.0 + np.exp(-z))\n",
    "        return self.softmax(predication) if self.multi_class else predication\n",
    "\n",
    "    def plot(self) -> None:\n",
    "        pyplot.plot(self.losses)\n",
    "        pyplot.plot(self.accuracies)\n",
    "        pyplot.xlabel(\"Number of iterations\")\n",
    "        pyplot.ylabel(\"Loss\")\n",
    "        pyplot.legend([\"Loss\", \"Accuracy\"])\n",
    "        pyplot.show()\n",
    "\n",
    "    def loss(self, x: np.ndarray, y: np.ndarray) -> float:\n",
    "        y_hat = self.predict(x)\n",
    "        self.losses.append(\n",
    "            -np.mean(\n",
    "                y * np.log(y_hat + float_info.min)\n",
    "                + (1 - y) * np.log(1 - y_hat + float_info.min)\n",
    "            )\n",
    "        )\n",
    "        return self.losses[-1]\n",
    "\n",
    "    def accuracy(self, x: np.ndarray, y: np.ndarray) -> None:\n",
    "        y_hat = self.predict(x)\n",
    "        acc = (\n",
    "            np.mean(y_hat.argmax(axis=1) == y.argmax(axis=1))\n",
    "            if self.multi_class\n",
    "            else np.mean(y_hat.round() == y)\n",
    "        )\n",
    "        self.accuracies.append(acc)\n",
    "\n",
    "    def fit(self, x: np.ndarray, y: np.ndarray) -> None:\n",
    "        if self.least_squares:\n",
    "            self.least_squares_technique(x, y)\n",
    "            return\n",
    "        best_loss = float_info.max\n",
    "        patience = 10\n",
    "        self.m, self.n = x.shape\n",
    "        if self.multi_class:\n",
    "            self.classes_ = np.unique(y)\n",
    "            y = get_dummies(y).to_numpy()\n",
    "            self.weights = (\n",
    "                np.random.rand(self.n, len(self.classes_))\n",
    "                if self.weights is None\n",
    "                else self.weights\n",
    "            )\n",
    "            self.bias = (\n",
    "                np.random.rand(len(self.classes_)) if self.bias is None else self.bias\n",
    "            )\n",
    "        else:\n",
    "            self.weights = (\n",
    "                np.random.rand(self.n) if self.weights is None else self.weights\n",
    "            )\n",
    "            self.bias = np.random.rand() if self.bias is None else self.bias\n",
    "        for _ in range(self.num_iter):\n",
    "            self.gradient_descent(x, y)\n",
    "            self.loss(x, y)\n",
    "            self.accuracy(x, y)\n",
    "\n",
    "            if self.losses[-1] < best_loss:\n",
    "                best_loss = self.losses[-1]\n",
    "                patience = 10\n",
    "            else:\n",
    "                patience -= 1\n",
    "                if patience == 0:\n",
    "                    break\n",
    "\n",
    "            if self.verbose:\n",
    "                print(f\"\\tLoss: {self.losses[-1]}\")\n",
    "                print(f\"\\tAccuracy: {self.accuracies[-1]}\")\n",
    "        print(f\"\\nFinal Loss: {self.losses[-1]}\")\n",
    "        print(f\"Final Accuracy: {self.accuracies[-1]}\")\n",
    "\n",
    "    def eval(self, x: np.ndarray, y: np.ndarray) -> None:\n",
    "        if self.multi_class:\n",
    "            y = get_dummies(y).to_numpy()\n",
    "        self.accuracy(x, y)\n",
    "        print(f\"Accuracy: {self.accuracies[-1]}\")\n",
    "\n",
    "    def least_squares_technique(self, x: np.ndarray, y: np.ndarray) -> None:\n",
    "        x = np.c_[np.ones(x.shape[0]), x]\n",
    "        self.weights = np.dot(np.dot(np.linalg.inv(np.dot(x.T, x)), x.T), y)"
   ]
  },
  {
   "cell_type": "code",
   "execution_count": 7,
   "id": "94cdef57",
   "metadata": {
    "ExecuteTime": {
     "end_time": "2025-06-10T17:51:07.015288Z",
     "start_time": "2025-06-10T17:51:07.011289Z"
    },
    "execution": {
     "iopub.execute_input": "2025-06-10T20:09:22.348285Z",
     "iopub.status.busy": "2025-06-10T20:09:22.347948Z",
     "iopub.status.idle": "2025-06-10T20:09:22.354648Z",
     "shell.execute_reply": "2025-06-10T20:09:22.353704Z"
    },
    "papermill": {
     "duration": 0.019521,
     "end_time": "2025-06-10T20:09:22.356243",
     "exception": false,
     "start_time": "2025-06-10T20:09:22.336722",
     "status": "completed"
    },
    "tags": []
   },
   "outputs": [
    {
     "data": {
      "text/plain": [
       "array([0, 1, 2])"
      ]
     },
     "execution_count": 7,
     "metadata": {},
     "output_type": "execute_result"
    }
   ],
   "source": [
    "np.unique(y)"
   ]
  },
  {
   "cell_type": "code",
   "execution_count": 8,
   "id": "2b2c58d4",
   "metadata": {
    "ExecuteTime": {
     "end_time": "2025-06-10T17:51:07.113496Z",
     "start_time": "2025-06-10T17:51:07.109495Z"
    },
    "execution": {
     "iopub.execute_input": "2025-06-10T20:09:22.378416Z",
     "iopub.status.busy": "2025-06-10T20:09:22.377967Z",
     "iopub.status.idle": "2025-06-10T20:09:22.3841Z",
     "shell.execute_reply": "2025-06-10T20:09:22.38306Z"
    },
    "papermill": {
     "duration": 0.018937,
     "end_time": "2025-06-10T20:09:22.385781",
     "exception": false,
     "start_time": "2025-06-10T20:09:22.366844",
     "status": "completed"
    },
    "tags": []
   },
   "outputs": [
    {
     "data": {
      "text/plain": [
       "(150,)"
      ]
     },
     "execution_count": 8,
     "metadata": {},
     "output_type": "execute_result"
    }
   ],
   "source": [
    "y.shape"
   ]
  },
  {
   "cell_type": "markdown",
   "id": "abd5c55d",
   "metadata": {
    "papermill": {
     "duration": 0.010647,
     "end_time": "2025-06-10T20:09:22.407087",
     "exception": false,
     "start_time": "2025-06-10T20:09:22.39644",
     "status": "completed"
    },
    "tags": []
   },
   "source": [
    "# With Least Squares Technique"
   ]
  },
  {
   "cell_type": "markdown",
   "id": "27ef10b9",
   "metadata": {
    "papermill": {
     "duration": 0.010608,
     "end_time": "2025-06-10T20:09:22.428198",
     "exception": false,
     "start_time": "2025-06-10T20:09:22.41759",
     "status": "completed"
    },
    "tags": []
   },
   "source": [
    "# Group samples of class 2 and class 3 together to form new class"
   ]
  },
  {
   "cell_type": "code",
   "execution_count": 9,
   "id": "a1574bc6",
   "metadata": {
    "ExecuteTime": {
     "end_time": "2025-06-10T17:51:07.18628Z",
     "start_time": "2025-06-10T17:51:07.181761Z"
    },
    "execution": {
     "iopub.execute_input": "2025-06-10T20:09:22.45105Z",
     "iopub.status.busy": "2025-06-10T20:09:22.450712Z",
     "iopub.status.idle": "2025-06-10T20:09:22.460852Z",
     "shell.execute_reply": "2025-06-10T20:09:22.459532Z"
    },
    "papermill": {
     "duration": 0.024257,
     "end_time": "2025-06-10T20:09:22.462858",
     "exception": false,
     "start_time": "2025-06-10T20:09:22.438601",
     "status": "completed"
    },
    "tags": []
   },
   "outputs": [],
   "source": [
    "Y_train = np.where(y == 2, 1, y)\n",
    "\n",
    "X_train_class1, X_test_class1, Y_train_class1, Y_test_class1 = train_test_split(\n",
    "    x[Y_train == 0], Y_train[Y_train == 0], test_size=0.2, random_state=42\n",
    ")\n",
    "X_train_class2, X_test_class2, Y_train_class2, Y_test_class2 = train_test_split(\n",
    "    x[Y_train == 1], Y_train[Y_train == 1], test_size=0.2, random_state=42\n",
    ")\n",
    "\n",
    "X_train = np.concatenate((X_train_class1, X_train_class2), axis=0)\n",
    "X_test = np.concatenate((X_test_class1, X_test_class2), axis=0)\n",
    "Y_train = np.concatenate((Y_train_class1, Y_train_class2), axis=0)\n",
    "Y_test = np.concatenate((Y_test_class1, Y_test_class2), axis=0)"
   ]
  },
  {
   "cell_type": "code",
   "execution_count": 10,
   "id": "622b9f91",
   "metadata": {
    "ExecuteTime": {
     "end_time": "2025-06-10T17:51:07.251245Z",
     "start_time": "2025-06-10T17:51:07.247931Z"
    },
    "execution": {
     "iopub.execute_input": "2025-06-10T20:09:22.487511Z",
     "iopub.status.busy": "2025-06-10T20:09:22.487177Z",
     "iopub.status.idle": "2025-06-10T20:09:22.49583Z",
     "shell.execute_reply": "2025-06-10T20:09:22.494594Z"
    },
    "papermill": {
     "duration": 0.024127,
     "end_time": "2025-06-10T20:09:22.498553",
     "exception": false,
     "start_time": "2025-06-10T20:09:22.474426",
     "status": "completed"
    },
    "tags": []
   },
   "outputs": [
    {
     "data": {
      "text/plain": [
       "(array([0, 1]), (40, 4), (10, 4), (80, 4), (20, 4))"
      ]
     },
     "execution_count": 10,
     "metadata": {},
     "output_type": "execute_result"
    }
   ],
   "source": [
    "np.unique(\n",
    "    Y_train\n",
    "), X_train_class1.shape, X_test_class1.shape, X_train_class2.shape, X_test_class2.shape"
   ]
  },
  {
   "cell_type": "code",
   "execution_count": 11,
   "id": "ea1752d9",
   "metadata": {
    "ExecuteTime": {
     "end_time": "2025-06-10T17:51:07.309483Z",
     "start_time": "2025-06-10T17:51:07.307156Z"
    },
    "execution": {
     "iopub.execute_input": "2025-06-10T20:09:22.59759Z",
     "iopub.status.busy": "2025-06-10T20:09:22.59728Z",
     "iopub.status.idle": "2025-06-10T20:09:22.602357Z",
     "shell.execute_reply": "2025-06-10T20:09:22.60116Z"
    },
    "papermill": {
     "duration": 0.019743,
     "end_time": "2025-06-10T20:09:22.60438",
     "exception": false,
     "start_time": "2025-06-10T20:09:22.584637",
     "status": "completed"
    },
    "tags": []
   },
   "outputs": [],
   "source": [
    "model = LogisticRegression(least_squares=True)"
   ]
  },
  {
   "cell_type": "code",
   "execution_count": 12,
   "id": "2645a579",
   "metadata": {
    "ExecuteTime": {
     "end_time": "2025-06-10T17:51:07.420455Z",
     "start_time": "2025-06-10T17:51:07.417259Z"
    },
    "execution": {
     "iopub.execute_input": "2025-06-10T20:09:22.62766Z",
     "iopub.status.busy": "2025-06-10T20:09:22.627278Z",
     "iopub.status.idle": "2025-06-10T20:09:22.671115Z",
     "shell.execute_reply": "2025-06-10T20:09:22.669531Z"
    },
    "papermill": {
     "duration": 0.05812,
     "end_time": "2025-06-10T20:09:22.673261",
     "exception": false,
     "start_time": "2025-06-10T20:09:22.615141",
     "status": "completed"
    },
    "tags": []
   },
   "outputs": [],
   "source": [
    "model.fit(X_train, Y_train)"
   ]
  },
  {
   "cell_type": "code",
   "execution_count": 13,
   "id": "437fe1fe",
   "metadata": {
    "ExecuteTime": {
     "end_time": "2025-06-10T17:51:07.542118Z",
     "start_time": "2025-06-10T17:51:07.538124Z"
    },
    "execution": {
     "iopub.execute_input": "2025-06-10T20:09:22.697752Z",
     "iopub.status.busy": "2025-06-10T20:09:22.697371Z",
     "iopub.status.idle": "2025-06-10T20:09:22.710668Z",
     "shell.execute_reply": "2025-06-10T20:09:22.70918Z"
    },
    "papermill": {
     "duration": 0.028278,
     "end_time": "2025-06-10T20:09:22.712857",
     "exception": false,
     "start_time": "2025-06-10T20:09:22.684579",
     "status": "completed"
    },
    "tags": []
   },
   "outputs": [
    {
     "name": "stdout",
     "output_type": "stream",
     "text": [
      "Accuracy: 1.0\n"
     ]
    }
   ],
   "source": [
    "model.eval(X_test, Y_test)"
   ]
  },
  {
   "cell_type": "code",
   "execution_count": 14,
   "id": "e0653921",
   "metadata": {
    "ExecuteTime": {
     "end_time": "2025-06-10T17:51:07.609246Z",
     "start_time": "2025-06-10T17:51:07.607165Z"
    },
    "execution": {
     "iopub.execute_input": "2025-06-10T20:09:22.737539Z",
     "iopub.status.busy": "2025-06-10T20:09:22.737207Z",
     "iopub.status.idle": "2025-06-10T20:09:22.743433Z",
     "shell.execute_reply": "2025-06-10T20:09:22.742131Z"
    },
    "papermill": {
     "duration": 0.021174,
     "end_time": "2025-06-10T20:09:22.74582",
     "exception": false,
     "start_time": "2025-06-10T20:09:22.724646",
     "status": "completed"
    },
    "tags": []
   },
   "outputs": [],
   "source": [
    "Y_pred = model.predict(X_test)"
   ]
  },
  {
   "cell_type": "code",
   "execution_count": 15,
   "id": "fe3952a3",
   "metadata": {
    "ExecuteTime": {
     "end_time": "2025-06-10T17:51:08.582658Z",
     "start_time": "2025-06-10T17:51:07.668601Z"
    },
    "execution": {
     "iopub.execute_input": "2025-06-10T20:09:22.770793Z",
     "iopub.status.busy": "2025-06-10T20:09:22.770422Z",
     "iopub.status.idle": "2025-06-10T20:09:23.177424Z",
     "shell.execute_reply": "2025-06-10T20:09:23.176285Z"
    },
    "papermill": {
     "duration": 0.421323,
     "end_time": "2025-06-10T20:09:23.179397",
     "exception": false,
     "start_time": "2025-06-10T20:09:22.758074",
     "status": "completed"
    },
    "tags": []
   },
   "outputs": [
    {
     "data": {
      "image/png": "[encoded data removed]",
      "text/plain": [
       "<Figure size 640x480 with 2 Axes>"
      ]
     },
     "metadata": {},
     "output_type": "display_data"
    }
   ],
   "source": [
    "confusion_matrix(Y_test, Y_pred.round())\n",
    "pyplot.imshow(\n",
    "    confusion_matrix(Y_test, Y_pred.round()), cmap=\"binary\", interpolation=\"None\"\n",
    ")\n",
    "pyplot.title(\"Confusion Matrix\")\n",
    "pyplot.xlabel(\"Predicted\")\n",
    "pyplot.ylabel(\"Actual\")\n",
    "pyplot.xticks([0, 1])\n",
    "pyplot.yticks([0, 1])\n",
    "pyplot.colorbar()\n",
    "pyplot.show()"
   ]
  },
  {
   "cell_type": "markdown",
   "id": "c8059441",
   "metadata": {
    "papermill": {
     "duration": 0.010633,
     "end_time": "2025-06-10T20:09:23.20124",
     "exception": false,
     "start_time": "2025-06-10T20:09:23.190607",
     "status": "completed"
    },
    "tags": []
   },
   "source": [
    "# Group samples of class 1 and class 3 together to form new class"
   ]
  },
  {
   "cell_type": "code",
   "execution_count": 16,
   "id": "907319ed",
   "metadata": {
    "ExecuteTime": {
     "end_time": "2025-06-10T17:51:08.604058Z",
     "start_time": "2025-06-10T17:51:08.598214Z"
    },
    "execution": {
     "iopub.execute_input": "2025-06-10T20:09:23.224996Z",
     "iopub.status.busy": "2025-06-10T20:09:23.224203Z",
     "iopub.status.idle": "2025-06-10T20:09:23.233804Z",
     "shell.execute_reply": "2025-06-10T20:09:23.23217Z"
    },
    "papermill": {
     "duration": 0.023736,
     "end_time": "2025-06-10T20:09:23.235818",
     "exception": false,
     "start_time": "2025-06-10T20:09:23.212082",
     "status": "completed"
    },
    "tags": []
   },
   "outputs": [],
   "source": [
    "Y_train = np.where(y == 2, 0, y)\n",
    "\n",
    "X_train_class1, X_test_class1, Y_train_class1, Y_test_class1 = train_test_split(\n",
    "    x[Y_train == 0], Y_train[Y_train == 0], test_size=0.2, random_state=42\n",
    ")\n",
    "X_train_class2, X_test_class2, Y_train_class2, Y_test_class2 = train_test_split(\n",
    "    x[Y_train == 1], Y_train[Y_train == 1], test_size=0.2, random_state=42\n",
    ")\n",
    "\n",
    "X_train = np.concatenate((X_train_class1, X_train_class2), axis=0)\n",
    "X_test = np.concatenate((X_test_class1, X_test_class2), axis=0)\n",
    "Y_train = np.concatenate((Y_train_class1, Y_train_class2), axis=0)\n",
    "Y_test = np.concatenate((Y_test_class1, Y_test_class2), axis=0)"
   ]
  },
  {
   "cell_type": "code",
   "execution_count": 17,
   "id": "6dcafcb9",
   "metadata": {
    "ExecuteTime": {
     "end_time": "2025-06-10T17:51:08.631987Z",
     "start_time": "2025-06-10T17:51:08.628521Z"
    },
    "execution": {
     "iopub.execute_input": "2025-06-10T20:09:23.262237Z",
     "iopub.status.busy": "2025-06-10T20:09:23.261933Z",
     "iopub.status.idle": "2025-06-10T20:09:23.272015Z",
     "shell.execute_reply": "2025-06-10T20:09:23.270438Z"
    },
    "papermill": {
     "duration": 0.026089,
     "end_time": "2025-06-10T20:09:23.274604",
     "exception": false,
     "start_time": "2025-06-10T20:09:23.248515",
     "status": "completed"
    },
    "tags": []
   },
   "outputs": [
    {
     "data": {
      "text/plain": [
       "(array([0, 1]), (80, 4), (20, 4), (40, 4), (10, 4))"
      ]
     },
     "execution_count": 17,
     "metadata": {},
     "output_type": "execute_result"
    }
   ],
   "source": [
    "np.unique(\n",
    "    Y_train\n",
    "), X_train_class1.shape, X_test_class1.shape, X_train_class2.shape, X_test_class2.shape"
   ]
  },
  {
   "cell_type": "code",
   "execution_count": 18,
   "id": "84f8a7fb",
   "metadata": {
    "ExecuteTime": {
     "end_time": "2025-06-10T17:51:08.691846Z",
     "start_time": "2025-06-10T17:51:08.689016Z"
    },
    "execution": {
     "iopub.execute_input": "2025-06-10T20:09:23.30405Z",
     "iopub.status.busy": "2025-06-10T20:09:23.303707Z",
     "iopub.status.idle": "2025-06-10T20:09:23.308895Z",
     "shell.execute_reply": "2025-06-10T20:09:23.30782Z"
    },
    "papermill": {
     "duration": 0.022379,
     "end_time": "2025-06-10T20:09:23.310599",
     "exception": false,
     "start_time": "2025-06-10T20:09:23.28822",
     "status": "completed"
    },
    "tags": []
   },
   "outputs": [],
   "source": [
    "model = LogisticRegression(least_squares=True)"
   ]
  },
  {
   "cell_type": "code",
   "execution_count": 19,
   "id": "7d3e3e90",
   "metadata": {
    "ExecuteTime": {
     "end_time": "2025-06-10T17:51:08.727205Z",
     "start_time": "2025-06-10T17:51:08.724204Z"
    },
    "execution": {
     "iopub.execute_input": "2025-06-10T20:09:23.335481Z",
     "iopub.status.busy": "2025-06-10T20:09:23.33517Z",
     "iopub.status.idle": "2025-06-10T20:09:23.340434Z",
     "shell.execute_reply": "2025-06-10T20:09:23.339478Z"
    },
    "papermill": {
     "duration": 0.019267,
     "end_time": "2025-06-10T20:09:23.342237",
     "exception": false,
     "start_time": "2025-06-10T20:09:23.32297",
     "status": "completed"
    },
    "tags": []
   },
   "outputs": [],
   "source": [
    "model.fit(X_train, Y_train)"
   ]
  },
  {
   "cell_type": "code",
   "execution_count": 20,
   "id": "f1279e2d",
   "metadata": {
    "ExecuteTime": {
     "end_time": "2025-06-10T17:51:08.774917Z",
     "start_time": "2025-06-10T17:51:08.771912Z"
    },
    "execution": {
     "iopub.execute_input": "2025-06-10T20:09:23.367807Z",
     "iopub.status.busy": "2025-06-10T20:09:23.367446Z",
     "iopub.status.idle": "2025-06-10T20:09:23.374158Z",
     "shell.execute_reply": "2025-06-10T20:09:23.372744Z"
    },
    "papermill": {
     "duration": 0.020478,
     "end_time": "2025-06-10T20:09:23.375599",
     "exception": false,
     "start_time": "2025-06-10T20:09:23.355121",
     "status": "completed"
    },
    "tags": []
   },
   "outputs": [
    {
     "name": "stdout",
     "output_type": "stream",
     "text": [
      "Accuracy: 0.8\n"
     ]
    }
   ],
   "source": [
    "model.eval(X_test, Y_test)"
   ]
  },
  {
   "cell_type": "code",
   "execution_count": 21,
   "id": "3bc6ced2",
   "metadata": {
    "ExecuteTime": {
     "end_time": "2025-06-10T17:51:08.835201Z",
     "start_time": "2025-06-10T17:51:08.8322Z"
    },
    "execution": {
     "iopub.execute_input": "2025-06-10T20:09:23.404472Z",
     "iopub.status.busy": "2025-06-10T20:09:23.40414Z",
     "iopub.status.idle": "2025-06-10T20:09:23.410383Z",
     "shell.execute_reply": "2025-06-10T20:09:23.408722Z"
    },
    "papermill": {
     "duration": 0.024277,
     "end_time": "2025-06-10T20:09:23.412308",
     "exception": false,
     "start_time": "2025-06-10T20:09:23.388031",
     "status": "completed"
    },
    "tags": []
   },
   "outputs": [],
   "source": [
    "Y_pred = model.predict(X_test)"
   ]
  },
  {
   "cell_type": "code",
   "execution_count": 22,
   "id": "767ebe35",
   "metadata": {
    "ExecuteTime": {
     "end_time": "2025-06-10T17:51:08.959179Z",
     "start_time": "2025-06-10T17:51:08.892179Z"
    },
    "execution": {
     "iopub.execute_input": "2025-06-10T20:09:23.437516Z",
     "iopub.status.busy": "2025-06-10T20:09:23.437196Z",
     "iopub.status.idle": "2025-06-10T20:09:23.662645Z",
     "shell.execute_reply": "2025-06-10T20:09:23.661548Z"
    },
    "papermill": {
     "duration": 0.240837,
     "end_time": "2025-06-10T20:09:23.664361",
     "exception": false,
     "start_time": "2025-06-10T20:09:23.423524",
     "status": "completed"
    },
    "tags": []
   },
   "outputs": [
    {
     "data": {
      "image/png": "[encoded data removed]",
      "text/plain": [
       "<Figure size 640x480 with 2 Axes>"
      ]
     },
     "metadata": {},
     "output_type": "display_data"
    }
   ],
   "source": [
    "confusion_matrix(Y_test, Y_pred.round())\n",
    "pyplot.imshow(\n",
    "    confusion_matrix(Y_test, Y_pred.round()), cmap=\"binary\", interpolation=\"None\"\n",
    ")\n",
    "pyplot.title(\"Confusion Matrix\")\n",
    "pyplot.xlabel(\"Predicted\")\n",
    "pyplot.ylabel(\"Actual\")\n",
    "pyplot.xticks([0, 1])\n",
    "pyplot.yticks([0, 1])\n",
    "pyplot.colorbar()\n",
    "pyplot.show()"
   ]
  },
  {
   "cell_type": "markdown",
   "id": "836ac95b",
   "metadata": {
    "papermill": {
     "duration": 0.013528,
     "end_time": "2025-06-10T20:09:23.690677",
     "exception": false,
     "start_time": "2025-06-10T20:09:23.677149",
     "status": "completed"
    },
    "tags": []
   },
   "source": [
    "# Group samples of class 1 and class 2 together to form new class"
   ]
  },
  {
   "cell_type": "code",
   "execution_count": 23,
   "id": "f7f0ff08",
   "metadata": {
    "ExecuteTime": {
     "end_time": "2025-06-10T17:51:08.980581Z",
     "start_time": "2025-06-10T17:51:08.976193Z"
    },
    "execution": {
     "iopub.execute_input": "2025-06-10T20:09:23.722155Z",
     "iopub.status.busy": "2025-06-10T20:09:23.721655Z",
     "iopub.status.idle": "2025-06-10T20:09:23.732826Z",
     "shell.execute_reply": "2025-06-10T20:09:23.731171Z"
    },
    "papermill": {
     "duration": 0.030639,
     "end_time": "2025-06-10T20:09:23.735414",
     "exception": false,
     "start_time": "2025-06-10T20:09:23.704775",
     "status": "completed"
    },
    "tags": []
   },
   "outputs": [],
   "source": [
    "Y_train = np.where(y == 1, 0, y)\n",
    "Y_train = np.where(y == 2, 1, Y_train)\n",
    "\n",
    "X_train_class1, X_test_class1, Y_train_class1, Y_test_class1 = train_test_split(\n",
    "    x[Y_train == 0], Y_train[Y_train == 0], test_size=0.2, random_state=42\n",
    ")\n",
    "X_train_class2, X_test_class2, Y_train_class2, Y_test_class2 = train_test_split(\n",
    "    x[Y_train == 1], Y_train[Y_train == 1], test_size=0.2, random_state=42\n",
    ")\n",
    "\n",
    "X_train = np.concatenate((X_train_class1, X_train_class2), axis=0)\n",
    "X_test = np.concatenate((X_test_class1, X_test_class2), axis=0)\n",
    "Y_train = np.concatenate((Y_train_class1, Y_train_class2), axis=0)\n",
    "Y_test = np.concatenate((Y_test_class1, Y_test_class2), axis=0)"
   ]
  },
  {
   "cell_type": "code",
   "execution_count": 24,
   "id": "5f14c882",
   "metadata": {
    "ExecuteTime": {
     "end_time": "2025-06-10T17:51:09.010432Z",
     "start_time": "2025-06-10T17:51:09.006595Z"
    },
    "execution": {
     "iopub.execute_input": "2025-06-10T20:09:23.762184Z",
     "iopub.status.busy": "2025-06-10T20:09:23.761868Z",
     "iopub.status.idle": "2025-06-10T20:09:23.768853Z",
     "shell.execute_reply": "2025-06-10T20:09:23.767849Z"
    },
    "papermill": {
     "duration": 0.022074,
     "end_time": "2025-06-10T20:09:23.770516",
     "exception": false,
     "start_time": "2025-06-10T20:09:23.748442",
     "status": "completed"
    },
    "tags": []
   },
   "outputs": [
    {
     "data": {
      "text/plain": [
       "(array([0, 1]), (80, 4), (20, 4), (40, 4), (10, 4))"
      ]
     },
     "execution_count": 24,
     "metadata": {},
     "output_type": "execute_result"
    }
   ],
   "source": [
    "np.unique(\n",
    "    Y_train\n",
    "), X_train_class1.shape, X_test_class1.shape, X_train_class2.shape, X_test_class2.shape"
   ]
  },
  {
   "cell_type": "code",
   "execution_count": 25,
   "id": "2426b532",
   "metadata": {
    "ExecuteTime": {
     "end_time": "2025-06-10T17:51:09.066983Z",
     "start_time": "2025-06-10T17:51:09.064442Z"
    },
    "execution": {
     "iopub.execute_input": "2025-06-10T20:09:23.79577Z",
     "iopub.status.busy": "2025-06-10T20:09:23.795402Z",
     "iopub.status.idle": "2025-06-10T20:09:23.80032Z",
     "shell.execute_reply": "2025-06-10T20:09:23.799358Z"
    },
    "papermill": {
     "duration": 0.019576,
     "end_time": "2025-06-10T20:09:23.802291",
     "exception": false,
     "start_time": "2025-06-10T20:09:23.782715",
     "status": "completed"
    },
    "tags": []
   },
   "outputs": [],
   "source": [
    "model = LogisticRegression(least_squares=True)"
   ]
  },
  {
   "cell_type": "code",
   "execution_count": 26,
   "id": "0f08ebc1",
   "metadata": {
    "ExecuteTime": {
     "end_time": "2025-06-10T17:51:09.143479Z",
     "start_time": "2025-06-10T17:51:09.141094Z"
    },
    "execution": {
     "iopub.execute_input": "2025-06-10T20:09:23.828213Z",
     "iopub.status.busy": "2025-06-10T20:09:23.827855Z",
     "iopub.status.idle": "2025-06-10T20:09:23.83327Z",
     "shell.execute_reply": "2025-06-10T20:09:23.832295Z"
    },
    "papermill": {
     "duration": 0.020192,
     "end_time": "2025-06-10T20:09:23.835115",
     "exception": false,
     "start_time": "2025-06-10T20:09:23.814923",
     "status": "completed"
    },
    "tags": []
   },
   "outputs": [],
   "source": [
    "model.fit(X_train, Y_train)"
   ]
  },
  {
   "cell_type": "code",
   "execution_count": 27,
   "id": "7a95a87b",
   "metadata": {
    "ExecuteTime": {
     "end_time": "2025-06-10T17:51:09.193512Z",
     "start_time": "2025-06-10T17:51:09.189515Z"
    },
    "execution": {
     "iopub.execute_input": "2025-06-10T20:09:23.860743Z",
     "iopub.status.busy": "2025-06-10T20:09:23.860377Z",
     "iopub.status.idle": "2025-06-10T20:09:23.867001Z",
     "shell.execute_reply": "2025-06-10T20:09:23.86585Z"
    },
    "papermill": {
     "duration": 0.021896,
     "end_time": "2025-06-10T20:09:23.868965",
     "exception": false,
     "start_time": "2025-06-10T20:09:23.847069",
     "status": "completed"
    },
    "tags": []
   },
   "outputs": [
    {
     "name": "stdout",
     "output_type": "stream",
     "text": [
      "Accuracy: 0.9\n"
     ]
    }
   ],
   "source": [
    "model.eval(X_test, Y_test)"
   ]
  },
  {
   "cell_type": "code",
   "execution_count": 28,
   "id": "786d4de6",
   "metadata": {
    "ExecuteTime": {
     "end_time": "2025-06-10T17:51:09.251838Z",
     "start_time": "2025-06-10T17:51:09.248908Z"
    },
    "execution": {
     "iopub.execute_input": "2025-06-10T20:09:23.894303Z",
     "iopub.status.busy": "2025-06-10T20:09:23.893971Z",
     "iopub.status.idle": "2025-06-10T20:09:23.89888Z",
     "shell.execute_reply": "2025-06-10T20:09:23.89788Z"
    },
    "papermill": {
     "duration": 0.01963,
     "end_time": "2025-06-10T20:09:23.900476",
     "exception": false,
     "start_time": "2025-06-10T20:09:23.880846",
     "status": "completed"
    },
    "tags": []
   },
   "outputs": [],
   "source": [
    "Y_pred = model.predict(X_test)"
   ]
  },
  {
   "cell_type": "code",
   "execution_count": 29,
   "id": "df4eaf15",
   "metadata": {
    "ExecuteTime": {
     "end_time": "2025-06-10T17:51:09.364515Z",
     "start_time": "2025-06-10T17:51:09.295699Z"
    },
    "execution": {
     "iopub.execute_input": "2025-06-10T20:09:23.926749Z",
     "iopub.status.busy": "2025-06-10T20:09:23.9264Z",
     "iopub.status.idle": "2025-06-10T20:09:24.119811Z",
     "shell.execute_reply": "2025-06-10T20:09:24.118495Z"
    },
    "papermill": {
     "duration": 0.209707,
     "end_time": "2025-06-10T20:09:24.12194",
     "exception": false,
     "start_time": "2025-06-10T20:09:23.912233",
     "status": "completed"
    },
    "tags": []
   },
   "outputs": [
    {
     "data": {
      "image/png": "[encoded data removed]",
      "text/plain": [
       "<Figure size 640x480 with 2 Axes>"
      ]
     },
     "metadata": {},
     "output_type": "display_data"
    }
   ],
   "source": [
    "confusion_matrix(Y_test, Y_pred.round())\n",
    "pyplot.imshow(confusion_matrix(Y_test, Y_pred.round()), cmap=\"binary\")\n",
    "pyplot.title(\"Confusion Matrix\")\n",
    "pyplot.xlabel(\"Predicted\")\n",
    "pyplot.ylabel(\"Actual\")\n",
    "pyplot.xticks([0, 1])\n",
    "pyplot.yticks([0, 1])\n",
    "pyplot.colorbar()\n",
    "pyplot.show()"
   ]
  },
  {
   "cell_type": "markdown",
   "id": "67da4123",
   "metadata": {
    "papermill": {
     "duration": 0.011459,
     "end_time": "2025-06-10T20:09:24.145735",
     "exception": false,
     "start_time": "2025-06-10T20:09:24.134276",
     "status": "completed"
    },
    "tags": []
   },
   "source": [
    "# With Gradient Descent"
   ]
  },
  {
   "cell_type": "code",
   "execution_count": 30,
   "id": "e9e52888",
   "metadata": {
    "ExecuteTime": {
     "end_time": "2025-06-10T17:51:09.383523Z",
     "start_time": "2025-06-10T17:51:09.379518Z"
    },
    "execution": {
     "iopub.execute_input": "2025-06-10T20:09:24.171565Z",
     "iopub.status.busy": "2025-06-10T20:09:24.171255Z",
     "iopub.status.idle": "2025-06-10T20:09:24.177208Z",
     "shell.execute_reply": "2025-06-10T20:09:24.176276Z"
    },
    "papermill": {
     "duration": 0.020874,
     "end_time": "2025-06-10T20:09:24.178774",
     "exception": false,
     "start_time": "2025-06-10T20:09:24.1579",
     "status": "completed"
    },
    "tags": []
   },
   "outputs": [],
   "source": [
    "x_train, x_test, y_train, y_test = train_test_split(\n",
    "    x, y, test_size=0.3, random_state=42\n",
    ")"
   ]
  },
  {
   "cell_type": "code",
   "execution_count": 31,
   "id": "2f5afea0",
   "metadata": {
    "ExecuteTime": {
     "end_time": "2025-06-10T17:51:09.41259Z",
     "start_time": "2025-06-10T17:51:09.409663Z"
    },
    "execution": {
     "iopub.execute_input": "2025-06-10T20:09:24.204361Z",
     "iopub.status.busy": "2025-06-10T20:09:24.204017Z",
     "iopub.status.idle": "2025-06-10T20:09:24.208578Z",
     "shell.execute_reply": "2025-06-10T20:09:24.207685Z"
    },
    "papermill": {
     "duration": 0.019448,
     "end_time": "2025-06-10T20:09:24.210342",
     "exception": false,
     "start_time": "2025-06-10T20:09:24.190894",
     "status": "completed"
    },
    "tags": []
   },
   "outputs": [],
   "source": [
    "model = LogisticRegression(multi_class=True)"
   ]
  },
  {
   "cell_type": "code",
   "execution_count": 32,
   "id": "126b6719",
   "metadata": {
    "ExecuteTime": {
     "end_time": "2025-06-10T17:51:09.451896Z",
     "start_time": "2025-06-10T17:51:09.447596Z"
    },
    "execution": {
     "iopub.execute_input": "2025-06-10T20:09:24.236248Z",
     "iopub.status.busy": "2025-06-10T20:09:24.235608Z",
     "iopub.status.idle": "2025-06-10T20:09:24.241408Z",
     "shell.execute_reply": "2025-06-10T20:09:24.240424Z"
    },
    "papermill": {
     "duration": 0.02063,
     "end_time": "2025-06-10T20:09:24.243104",
     "exception": false,
     "start_time": "2025-06-10T20:09:24.222474",
     "status": "completed"
    },
    "tags": []
   },
   "outputs": [],
   "source": [
    "x_train = (x_train - x_train.mean()) / x_train.std()\n",
    "x_test = (x_test - x_test.mean()) / x_test.std()"
   ]
  },
  {
   "cell_type": "code",
   "execution_count": 33,
   "id": "f83ee99c",
   "metadata": {
    "ExecuteTime": {
     "end_time": "2025-06-10T17:51:27.147987Z",
     "start_time": "2025-06-10T17:51:09.529815Z"
    },
    "execution": {
     "iopub.execute_input": "2025-06-10T20:09:24.272462Z",
     "iopub.status.busy": "2025-06-10T20:09:24.271993Z",
     "iopub.status.idle": "2025-06-10T20:10:21.538429Z",
     "shell.execute_reply": "2025-06-10T20:10:21.537308Z"
    },
    "papermill": {
     "duration": 57.295171,
     "end_time": "2025-06-10T20:10:21.552296",
     "exception": false,
     "start_time": "2025-06-10T20:09:24.257125",
     "status": "completed"
    },
    "tags": []
   },
   "outputs": [
    {
     "name": "stderr",
     "output_type": "stream",
     "text": [
      "/tmp/ipykernel_13/1924661098.py:39: RuntimeWarning: overflow encountered in exp\n",
      "  predication = 1.0 / (1.0 + np.exp(-z))\n"
     ]
    },
    {
     "name": "stdout",
     "output_type": "stream",
     "text": [
      "\n",
      "Final Loss: 0.4708915991892737\n",
      "Final Accuracy: 0.6761904761904762\n"
     ]
    }
   ],
   "source": [
    "model.fit(x_train, y_train)"
   ]
  },
  {
   "cell_type": "code",
   "execution_count": 34,
   "id": "e4e1e601",
   "metadata": {
    "ExecuteTime": {
     "end_time": "2025-06-10T17:51:27.359276Z",
     "start_time": "2025-06-10T17:51:27.173601Z"
    },
    "execution": {
     "iopub.execute_input": "2025-06-10T20:10:21.579198Z",
     "iopub.status.busy": "2025-06-10T20:10:21.57888Z",
     "iopub.status.idle": "2025-06-10T20:10:22.103332Z",
     "shell.execute_reply": "2025-06-10T20:10:22.101897Z"
    },
    "papermill": {
     "duration": 0.540638,
     "end_time": "2025-06-10T20:10:22.105454",
     "exception": false,
     "start_time": "2025-06-10T20:10:21.564816",
     "status": "completed"
    },
    "tags": []
   },
   "outputs": [
    {
     "data": {
      "image/png": "[encoded data removed]",
      "text/plain": [
       "<Figure size 640x480 with 1 Axes>"
      ]
     },
     "metadata": {},
     "output_type": "display_data"
    }
   ],
   "source": [
    "model.plot()"
   ]
  },
  {
   "cell_type": "code",
   "execution_count": 35,
   "id": "d56d9df2",
   "metadata": {
    "ExecuteTime": {
     "end_time": "2025-06-10T17:51:27.381075Z",
     "start_time": "2025-06-10T17:51:27.377645Z"
    },
    "execution": {
     "iopub.execute_input": "2025-06-10T20:10:22.133727Z",
     "iopub.status.busy": "2025-06-10T20:10:22.133358Z",
     "iopub.status.idle": "2025-06-10T20:10:22.140409Z",
     "shell.execute_reply": "2025-06-10T20:10:22.139328Z"
    },
    "papermill": {
     "duration": 0.022356,
     "end_time": "2025-06-10T20:10:22.141936",
     "exception": false,
     "start_time": "2025-06-10T20:10:22.11958",
     "status": "completed"
    },
    "tags": []
   },
   "outputs": [
    {
     "name": "stdout",
     "output_type": "stream",
     "text": [
      "Accuracy: 0.7111111111111111\n"
     ]
    },
    {
     "name": "stderr",
     "output_type": "stream",
     "text": [
      "/tmp/ipykernel_13/1924661098.py:39: RuntimeWarning: overflow encountered in exp\n",
      "  predication = 1.0 / (1.0 + np.exp(-z))\n"
     ]
    }
   ],
   "source": [
    "model.eval(x_test, y_test)"
   ]
  },
  {
   "cell_type": "markdown",
   "id": "808aca57",
   "metadata": {
    "papermill": {
     "duration": 0.012363,
     "end_time": "2025-06-10T20:10:22.167421",
     "exception": false,
     "start_time": "2025-06-10T20:10:22.155058",
     "status": "completed"
    },
    "tags": []
   },
   "source": [
    "# Group samples of class 2 and class 3 together to form new class"
   ]
  },
  {
   "cell_type": "code",
   "execution_count": 36,
   "id": "20eb9433",
   "metadata": {
    "ExecuteTime": {
     "end_time": "2025-06-10T17:51:27.426678Z",
     "start_time": "2025-06-10T17:51:27.421819Z"
    },
    "execution": {
     "iopub.execute_input": "2025-06-10T20:10:22.194742Z",
     "iopub.status.busy": "2025-06-10T20:10:22.193859Z",
     "iopub.status.idle": "2025-06-10T20:10:22.204222Z",
     "shell.execute_reply": "2025-06-10T20:10:22.203153Z"
    },
    "papermill": {
     "duration": 0.025913,
     "end_time": "2025-06-10T20:10:22.206143",
     "exception": false,
     "start_time": "2025-06-10T20:10:22.18023",
     "status": "completed"
    },
    "tags": []
   },
   "outputs": [],
   "source": [
    "Y_train = np.where(y == 2, 1, y)\n",
    "\n",
    "X_train_class1, X_test_class1, Y_train_class1, Y_test_class1 = train_test_split(\n",
    "    x[Y_train == 0], Y_train[Y_train == 0], test_size=0.2, random_state=42\n",
    ")\n",
    "X_train_class2, X_test_class2, Y_train_class2, Y_test_class2 = train_test_split(\n",
    "    x[Y_train == 1], Y_train[Y_train == 1], test_size=0.2, random_state=42\n",
    ")\n",
    "\n",
    "X_train = np.concatenate((X_train_class1, X_train_class2), axis=0)\n",
    "X_test = np.concatenate((X_test_class1, X_test_class2), axis=0)\n",
    "Y_train = np.concatenate((Y_train_class1, Y_train_class2), axis=0)\n",
    "Y_test = np.concatenate((Y_test_class1, Y_test_class2), axis=0)"
   ]
  },
  {
   "cell_type": "code",
   "execution_count": 37,
   "id": "c273fcbe",
   "metadata": {
    "ExecuteTime": {
     "end_time": "2025-06-10T17:51:27.492677Z",
     "start_time": "2025-06-10T17:51:27.486214Z"
    },
    "execution": {
     "iopub.execute_input": "2025-06-10T20:10:22.233146Z",
     "iopub.status.busy": "2025-06-10T20:10:22.232766Z",
     "iopub.status.idle": "2025-06-10T20:10:22.244401Z",
     "shell.execute_reply": "2025-06-10T20:10:22.24342Z"
    },
    "papermill": {
     "duration": 0.027527,
     "end_time": "2025-06-10T20:10:22.246411",
     "exception": false,
     "start_time": "2025-06-10T20:10:22.218884",
     "status": "completed"
    },
    "tags": []
   },
   "outputs": [],
   "source": [
    "model = LogisticRegression()"
   ]
  },
  {
   "cell_type": "code",
   "execution_count": 38,
   "id": "77d85948",
   "metadata": {
    "ExecuteTime": {
     "end_time": "2025-06-10T17:51:57.091288Z",
     "start_time": "2025-06-10T17:51:27.534774Z"
    },
    "execution": {
     "iopub.execute_input": "2025-06-10T20:10:22.276778Z",
     "iopub.status.busy": "2025-06-10T20:10:22.276399Z",
     "iopub.status.idle": "2025-06-10T20:11:42.408354Z",
     "shell.execute_reply": "2025-06-10T20:11:42.407112Z"
    },
    "papermill": {
     "duration": 80.161988,
     "end_time": "2025-06-10T20:11:42.423131",
     "exception": false,
     "start_time": "2025-06-10T20:10:22.261143",
     "status": "completed"
    },
    "tags": []
   },
   "outputs": [
    {
     "name": "stdout",
     "output_type": "stream",
     "text": [
      "\n",
      "Final Loss: 1.4021536179161923e-05\n",
      "Final Accuracy: 1.0\n"
     ]
    }
   ],
   "source": [
    "model.fit(X_train, Y_train)"
   ]
  },
  {
   "cell_type": "code",
   "execution_count": 39,
   "id": "e81cbf72",
   "metadata": {
    "ExecuteTime": {
     "end_time": "2025-06-10T17:51:58.982452Z",
     "start_time": "2025-06-10T17:51:57.111299Z"
    },
    "execution": {
     "iopub.execute_input": "2025-06-10T20:11:42.450163Z",
     "iopub.status.busy": "2025-06-10T20:11:42.449849Z",
     "iopub.status.idle": "2025-06-10T20:11:44.108767Z",
     "shell.execute_reply": "2025-06-10T20:11:44.107668Z"
    },
    "papermill": {
     "duration": 1.674443,
     "end_time": "2025-06-10T20:11:44.110408",
     "exception": false,
     "start_time": "2025-06-10T20:11:42.435965",
     "status": "completed"
    },
    "tags": []
   },
   "outputs": [
    {
     "data": {
      "image/png": "[encoded data removed]",
      "text/plain": [
       "<Figure size 640x480 with 1 Axes>"
      ]
     },
     "metadata": {},
     "output_type": "display_data"
    }
   ],
   "source": [
    "model.plot()"
   ]
  },
  {
   "cell_type": "code",
   "execution_count": 40,
   "id": "e0e817ab",
   "metadata": {
    "ExecuteTime": {
     "end_time": "2025-06-10T17:51:59.003177Z",
     "start_time": "2025-06-10T17:51:59.000273Z"
    },
    "execution": {
     "iopub.execute_input": "2025-06-10T20:11:44.137698Z",
     "iopub.status.busy": "2025-06-10T20:11:44.137355Z",
     "iopub.status.idle": "2025-06-10T20:11:44.142664Z",
     "shell.execute_reply": "2025-06-10T20:11:44.1417Z"
    },
    "papermill": {
     "duration": 0.020703,
     "end_time": "2025-06-10T20:11:44.14414",
     "exception": false,
     "start_time": "2025-06-10T20:11:44.123437",
     "status": "completed"
    },
    "tags": []
   },
   "outputs": [
    {
     "name": "stdout",
     "output_type": "stream",
     "text": [
      "Accuracy: 1.0\n"
     ]
    }
   ],
   "source": [
    "model.eval(X_test, Y_test)"
   ]
  },
  {
   "cell_type": "code",
   "execution_count": 41,
   "id": "2d06a779",
   "metadata": {
    "ExecuteTime": {
     "end_time": "2025-06-10T17:51:59.055585Z",
     "start_time": "2025-06-10T17:51:59.052582Z"
    },
    "execution": {
     "iopub.execute_input": "2025-06-10T20:11:44.171354Z",
     "iopub.status.busy": "2025-06-10T20:11:44.171Z",
     "iopub.status.idle": "2025-06-10T20:11:44.175843Z",
     "shell.execute_reply": "2025-06-10T20:11:44.174941Z"
    },
    "papermill": {
     "duration": 0.02021,
     "end_time": "2025-06-10T20:11:44.1774",
     "exception": false,
     "start_time": "2025-06-10T20:11:44.15719",
     "status": "completed"
    },
    "tags": []
   },
   "outputs": [],
   "source": [
    "Y_pred = model.predict(X_test)"
   ]
  },
  {
   "cell_type": "code",
   "execution_count": 42,
   "id": "71f81e53",
   "metadata": {
    "ExecuteTime": {
     "end_time": "2025-06-10T17:51:59.166828Z",
     "start_time": "2025-06-10T17:51:59.099376Z"
    },
    "execution": {
     "iopub.execute_input": "2025-06-10T20:11:44.205655Z",
     "iopub.status.busy": "2025-06-10T20:11:44.205291Z",
     "iopub.status.idle": "2025-06-10T20:11:44.448758Z",
     "shell.execute_reply": "2025-06-10T20:11:44.447663Z"
    },
    "papermill": {
     "duration": 0.259978,
     "end_time": "2025-06-10T20:11:44.450383",
     "exception": false,
     "start_time": "2025-06-10T20:11:44.190405",
     "status": "completed"
    },
    "tags": []
   },
   "outputs": [
    {
     "data": {
      "image/png": "[encoded data removed]",
      "text/plain": [
       "<Figure size 640x480 with 2 Axes>"
      ]
     },
     "metadata": {},
     "output_type": "display_data"
    }
   ],
   "source": [
    "confusion_matrix(Y_test, Y_pred.round())\n",
    "pyplot.imshow(\n",
    "    confusion_matrix(Y_test, Y_pred.round()), cmap=\"binary\", interpolation=\"None\"\n",
    ")\n",
    "pyplot.title(\"Confusion Matrix\")\n",
    "pyplot.xlabel(\"Predicted\")\n",
    "pyplot.ylabel(\"Actual\")\n",
    "pyplot.xticks([0, 1])\n",
    "pyplot.yticks([0, 1])\n",
    "pyplot.colorbar()\n",
    "pyplot.show()"
   ]
  },
  {
   "cell_type": "markdown",
   "id": "096c3ea7",
   "metadata": {
    "papermill": {
     "duration": 0.013096,
     "end_time": "2025-06-10T20:11:44.476756",
     "exception": false,
     "start_time": "2025-06-10T20:11:44.46366",
     "status": "completed"
    },
    "tags": []
   },
   "source": [
    "# Group samples of class 1 and class 3 together to form new class"
   ]
  },
  {
   "cell_type": "code",
   "execution_count": 43,
   "id": "07db3774",
   "metadata": {
    "ExecuteTime": {
     "end_time": "2025-06-10T17:51:59.198594Z",
     "start_time": "2025-06-10T17:51:59.194347Z"
    },
    "execution": {
     "iopub.execute_input": "2025-06-10T20:11:44.505138Z",
     "iopub.status.busy": "2025-06-10T20:11:44.504793Z",
     "iopub.status.idle": "2025-06-10T20:11:44.514751Z",
     "shell.execute_reply": "2025-06-10T20:11:44.513906Z"
    },
    "papermill": {
     "duration": 0.026321,
     "end_time": "2025-06-10T20:11:44.516398",
     "exception": false,
     "start_time": "2025-06-10T20:11:44.490077",
     "status": "completed"
    },
    "tags": []
   },
   "outputs": [],
   "source": [
    "Y_train = np.where(y == 2, 0, y)\n",
    "\n",
    "X_train_class1, X_test_class1, Y_train_class1, Y_test_class1 = train_test_split(\n",
    "    x[Y_train == 0], Y_train[Y_train == 0], test_size=0.2, random_state=42\n",
    ")\n",
    "X_train_class2, X_test_class2, Y_train_class2, Y_test_class2 = train_test_split(\n",
    "    x[Y_train == 1], Y_train[Y_train == 1], test_size=0.2, random_state=42\n",
    ")\n",
    "\n",
    "X_train = np.concatenate((X_train_class1, X_train_class2), axis=0)\n",
    "X_test = np.concatenate((X_test_class1, X_test_class2), axis=0)\n",
    "Y_train = np.concatenate((Y_train_class1, Y_train_class2), axis=0)\n",
    "Y_test = np.concatenate((Y_test_class1, Y_test_class2), axis=0)"
   ]
  },
  {
   "cell_type": "code",
   "execution_count": 44,
   "id": "67975654",
   "metadata": {
    "ExecuteTime": {
     "end_time": "2025-06-10T17:51:59.278814Z",
     "start_time": "2025-06-10T17:51:59.256654Z"
    },
    "execution": {
     "iopub.execute_input": "2025-06-10T20:11:44.545108Z",
     "iopub.status.busy": "2025-06-10T20:11:44.544809Z",
     "iopub.status.idle": "2025-06-10T20:11:44.585933Z",
     "shell.execute_reply": "2025-06-10T20:11:44.584824Z"
    },
    "papermill": {
     "duration": 0.057713,
     "end_time": "2025-06-10T20:11:44.587528",
     "exception": false,
     "start_time": "2025-06-10T20:11:44.529815",
     "status": "completed"
    },
    "tags": []
   },
   "outputs": [],
   "source": [
    "model = LogisticRegression()"
   ]
  },
  {
   "cell_type": "code",
   "execution_count": 45,
   "id": "692b28a5",
   "metadata": {
    "ExecuteTime": {
     "end_time": "2025-06-10T17:52:02.499418Z",
     "start_time": "2025-06-10T17:51:59.333633Z"
    },
    "execution": {
     "iopub.execute_input": "2025-06-10T20:11:44.615977Z",
     "iopub.status.busy": "2025-06-10T20:11:44.615599Z",
     "iopub.status.idle": "2025-06-10T20:11:53.220415Z",
     "shell.execute_reply": "2025-06-10T20:11:53.2193Z"
    },
    "papermill": {
     "duration": 8.620744,
     "end_time": "2025-06-10T20:11:53.222211",
     "exception": false,
     "start_time": "2025-06-10T20:11:44.601467",
     "status": "completed"
    },
    "tags": []
   },
   "outputs": [
    {
     "name": "stdout",
     "output_type": "stream",
     "text": [
      "\n",
      "Final Loss: 0.5071257298770863\n",
      "Final Accuracy: 0.7166666666666667\n"
     ]
    }
   ],
   "source": [
    "model.fit(X_train, Y_train)"
   ]
  },
  {
   "cell_type": "code",
   "execution_count": 46,
   "id": "9ebb4dbd",
   "metadata": {
    "ExecuteTime": {
     "end_time": "2025-06-10T17:52:02.66059Z",
     "start_time": "2025-06-10T17:52:02.515955Z"
    },
    "execution": {
     "iopub.execute_input": "2025-06-10T20:11:53.252534Z",
     "iopub.status.busy": "2025-06-10T20:11:53.252212Z",
     "iopub.status.idle": "2025-06-10T20:11:53.58822Z",
     "shell.execute_reply": "2025-06-10T20:11:53.587219Z"
    },
    "papermill": {
     "duration": 0.352799,
     "end_time": "2025-06-10T20:11:53.589988",
     "exception": false,
     "start_time": "2025-06-10T20:11:53.237189",
     "status": "completed"
    },
    "tags": []
   },
   "outputs": [
    {
     "data": {
      "image/png": "[encoded data removed]",
      "text/plain": [
       "<Figure size 640x480 with 1 Axes>"
      ]
     },
     "metadata": {},
     "output_type": "display_data"
    }
   ],
   "source": [
    "model.plot()"
   ]
  },
  {
   "cell_type": "code",
   "execution_count": 47,
   "id": "9c502139",
   "metadata": {
    "ExecuteTime": {
     "end_time": "2025-06-10T17:52:02.688837Z",
     "start_time": "2025-06-10T17:52:02.685651Z"
    },
    "execution": {
     "iopub.execute_input": "2025-06-10T20:11:53.619421Z",
     "iopub.status.busy": "2025-06-10T20:11:53.619073Z",
     "iopub.status.idle": "2025-06-10T20:11:53.624992Z",
     "shell.execute_reply": "2025-06-10T20:11:53.623903Z"
    },
    "papermill": {
     "duration": 0.022639,
     "end_time": "2025-06-10T20:11:53.626724",
     "exception": false,
     "start_time": "2025-06-10T20:11:53.604085",
     "status": "completed"
    },
    "tags": []
   },
   "outputs": [
    {
     "name": "stdout",
     "output_type": "stream",
     "text": [
      "Accuracy: 0.8\n"
     ]
    }
   ],
   "source": [
    "model.eval(X_test, Y_test)"
   ]
  },
  {
   "cell_type": "code",
   "execution_count": 48,
   "id": "6c92ef8c",
   "metadata": {
    "ExecuteTime": {
     "end_time": "2025-06-10T17:52:02.726294Z",
     "start_time": "2025-06-10T17:52:02.722299Z"
    },
    "execution": {
     "iopub.execute_input": "2025-06-10T20:11:53.658174Z",
     "iopub.status.busy": "2025-06-10T20:11:53.65787Z",
     "iopub.status.idle": "2025-06-10T20:11:53.662639Z",
     "shell.execute_reply": "2025-06-10T20:11:53.661584Z"
    },
    "papermill": {
     "duration": 0.022702,
     "end_time": "2025-06-10T20:11:53.664536",
     "exception": false,
     "start_time": "2025-06-10T20:11:53.641834",
     "status": "completed"
    },
    "tags": []
   },
   "outputs": [],
   "source": [
    "Y_pred = model.predict(X_test)"
   ]
  },
  {
   "cell_type": "code",
   "execution_count": 49,
   "id": "4aa146cc",
   "metadata": {
    "ExecuteTime": {
     "end_time": "2025-06-10T17:52:02.877694Z",
     "start_time": "2025-06-10T17:52:02.814821Z"
    },
    "execution": {
     "iopub.execute_input": "2025-06-10T20:11:53.695824Z",
     "iopub.status.busy": "2025-06-10T20:11:53.695467Z",
     "iopub.status.idle": "2025-06-10T20:11:53.877633Z",
     "shell.execute_reply": "2025-06-10T20:11:53.876607Z"
    },
    "papermill": {
     "duration": 0.1997,
     "end_time": "2025-06-10T20:11:53.879371",
     "exception": false,
     "start_time": "2025-06-10T20:11:53.679671",
     "status": "completed"
    },
    "tags": []
   },
   "outputs": [
    {
     "data": {
      "image/png": "[encoded data removed]",
      "text/plain": [
       "<Figure size 640x480 with 2 Axes>"
      ]
     },
     "metadata": {},
     "output_type": "display_data"
    }
   ],
   "source": [
    "confusion_matrix(Y_test, Y_pred.round())\n",
    "pyplot.imshow(\n",
    "    confusion_matrix(Y_test, Y_pred.round()), cmap=\"binary\", interpolation=\"None\"\n",
    ")\n",
    "pyplot.title(\"Confusion Matrix\")\n",
    "pyplot.xlabel(\"Predicted\")\n",
    "pyplot.ylabel(\"Actual\")\n",
    "pyplot.xticks([0, 1])\n",
    "pyplot.yticks([0, 1])\n",
    "pyplot.colorbar()\n",
    "pyplot.show()"
   ]
  },
  {
   "cell_type": "markdown",
   "id": "f0f7c4dd",
   "metadata": {
    "papermill": {
     "duration": 0.014768,
     "end_time": "2025-06-10T20:11:53.908672",
     "exception": false,
     "start_time": "2025-06-10T20:11:53.893904",
     "status": "completed"
    },
    "tags": []
   },
   "source": [
    "# Group samples of class 1 and class 2 together to form new class"
   ]
  },
  {
   "cell_type": "code",
   "execution_count": 50,
   "id": "400ea0ba",
   "metadata": {
    "ExecuteTime": {
     "end_time": "2025-06-10T17:52:02.918192Z",
     "start_time": "2025-06-10T17:52:02.912592Z"
    },
    "execution": {
     "iopub.execute_input": "2025-06-10T20:11:53.939587Z",
     "iopub.status.busy": "2025-06-10T20:11:53.939279Z",
     "iopub.status.idle": "2025-06-10T20:11:53.948319Z",
     "shell.execute_reply": "2025-06-10T20:11:53.947449Z"
    },
    "papermill": {
     "duration": 0.026059,
     "end_time": "2025-06-10T20:11:53.949788",
     "exception": false,
     "start_time": "2025-06-10T20:11:53.923729",
     "status": "completed"
    },
    "tags": []
   },
   "outputs": [],
   "source": [
    "Y_train = np.where(y == 1, 0, y)\n",
    "Y_train = np.where(y == 2, 1, Y_train)\n",
    "\n",
    "X_train_class1, X_test_class1, Y_train_class1, Y_test_class1 = train_test_split(\n",
    "    x[Y_train == 0], Y_train[Y_train == 0], test_size=0.2, random_state=42\n",
    ")\n",
    "X_train_class2, X_test_class2, Y_train_class2, Y_test_class2 = train_test_split(\n",
    "    x[Y_train == 1], Y_train[Y_train == 1], test_size=0.2, random_state=42\n",
    ")\n",
    "\n",
    "X_train = np.concatenate((X_train_class1, X_train_class2), axis=0)\n",
    "X_test = np.concatenate((X_test_class1, X_test_class2), axis=0)\n",
    "Y_train = np.concatenate((Y_train_class1, Y_train_class2), axis=0)\n",
    "Y_test = np.concatenate((Y_test_class1, Y_test_class2), axis=0)"
   ]
  },
  {
   "cell_type": "code",
   "execution_count": 51,
   "id": "88866d72",
   "metadata": {
    "ExecuteTime": {
     "end_time": "2025-06-10T17:52:02.969448Z",
     "start_time": "2025-06-10T17:52:02.964449Z"
    },
    "execution": {
     "iopub.execute_input": "2025-06-10T20:11:53.98012Z",
     "iopub.status.busy": "2025-06-10T20:11:53.979708Z",
     "iopub.status.idle": "2025-06-10T20:11:53.98818Z",
     "shell.execute_reply": "2025-06-10T20:11:53.987189Z"
    },
    "papermill": {
     "duration": 0.025765,
     "end_time": "2025-06-10T20:11:53.989911",
     "exception": false,
     "start_time": "2025-06-10T20:11:53.964146",
     "status": "completed"
    },
    "tags": []
   },
   "outputs": [],
   "source": [
    "model = LogisticRegression()"
   ]
  },
  {
   "cell_type": "code",
   "execution_count": 52,
   "id": "df12e98e",
   "metadata": {
    "ExecuteTime": {
     "end_time": "2025-06-10T17:52:32.727898Z",
     "start_time": "2025-06-10T17:52:03.013492Z"
    },
    "execution": {
     "iopub.execute_input": "2025-06-10T20:11:54.019832Z",
     "iopub.status.busy": "2025-06-10T20:11:54.019493Z",
     "iopub.status.idle": "2025-06-10T20:13:13.390308Z",
     "shell.execute_reply": "2025-06-10T20:13:13.389257Z"
    },
    "papermill": {
     "duration": 79.401931,
     "end_time": "2025-06-10T20:13:13.405949",
     "exception": false,
     "start_time": "2025-06-10T20:11:54.004018",
     "status": "completed"
    },
    "tags": []
   },
   "outputs": [
    {
     "name": "stdout",
     "output_type": "stream",
     "text": [
      "\n",
      "Final Loss: 0.00657042776818348\n",
      "Final Accuracy: 1.0\n"
     ]
    }
   ],
   "source": [
    "model.fit(X_train, Y_train)"
   ]
  },
  {
   "cell_type": "code",
   "execution_count": 53,
   "id": "0cc07da1",
   "metadata": {
    "ExecuteTime": {
     "end_time": "2025-06-10T17:52:33.434521Z",
     "start_time": "2025-06-10T17:52:32.753993Z"
    },
    "execution": {
     "iopub.execute_input": "2025-06-10T20:13:13.436222Z",
     "iopub.status.busy": "2025-06-10T20:13:13.435882Z",
     "iopub.status.idle": "2025-06-10T20:13:17.938886Z",
     "shell.execute_reply": "2025-06-10T20:13:17.937885Z"
    },
    "papermill": {
     "duration": 4.52047,
     "end_time": "2025-06-10T20:13:17.940725",
     "exception": false,
     "start_time": "2025-06-10T20:13:13.420255",
     "status": "completed"
    },
    "tags": []
   },
   "outputs": [
    {
     "data": {
      "image/png": "[encoded data removed]",
      "text/plain": [
       "<Figure size 640x480 with 1 Axes>"
      ]
     },
     "metadata": {},
     "output_type": "display_data"
    }
   ],
   "source": [
    "model.plot()"
   ]
  },
  {
   "cell_type": "code",
   "execution_count": 54,
   "id": "c5ddd96a",
   "metadata": {
    "ExecuteTime": {
     "end_time": "2025-06-10T17:52:33.457622Z",
     "start_time": "2025-06-10T17:52:33.454623Z"
    },
    "execution": {
     "iopub.execute_input": "2025-06-10T20:13:17.972017Z",
     "iopub.status.busy": "2025-06-10T20:13:17.971649Z",
     "iopub.status.idle": "2025-06-10T20:13:17.977645Z",
     "shell.execute_reply": "2025-06-10T20:13:17.976388Z"
    },
    "papermill": {
     "duration": 0.023505,
     "end_time": "2025-06-10T20:13:17.97921",
     "exception": false,
     "start_time": "2025-06-10T20:13:17.955705",
     "status": "completed"
    },
    "tags": []
   },
   "outputs": [
    {
     "name": "stdout",
     "output_type": "stream",
     "text": [
      "Accuracy: 0.9333333333333333\n"
     ]
    }
   ],
   "source": [
    "model.eval(X_test, Y_test)"
   ]
  },
  {
   "cell_type": "code",
   "execution_count": 55,
   "id": "92c48971",
   "metadata": {
    "ExecuteTime": {
     "end_time": "2025-06-10T17:52:33.516733Z",
     "start_time": "2025-06-10T17:52:33.514315Z"
    },
    "execution": {
     "iopub.execute_input": "2025-06-10T20:13:18.010856Z",
     "iopub.status.busy": "2025-06-10T20:13:18.010513Z",
     "iopub.status.idle": "2025-06-10T20:13:18.015113Z",
     "shell.execute_reply": "2025-06-10T20:13:18.0143Z"
    },
    "papermill": {
     "duration": 0.022527,
     "end_time": "2025-06-10T20:13:18.016579",
     "exception": false,
     "start_time": "2025-06-10T20:13:17.994052",
     "status": "completed"
    },
    "tags": []
   },
   "outputs": [],
   "source": [
    "Y_pred = model.predict(X_test)"
   ]
  },
  {
   "cell_type": "code",
   "execution_count": 56,
   "id": "78d654fd",
   "metadata": {
    "ExecuteTime": {
     "end_time": "2025-06-10T17:52:33.660457Z",
     "start_time": "2025-06-10T17:52:33.591003Z"
    },
    "execution": {
     "iopub.execute_input": "2025-06-10T20:13:18.050757Z",
     "iopub.status.busy": "2025-06-10T20:13:18.04718Z",
     "iopub.status.idle": "2025-06-10T20:13:18.246265Z",
     "shell.execute_reply": "2025-06-10T20:13:18.245126Z"
    },
    "papermill": {
     "duration": 0.216615,
     "end_time": "2025-06-10T20:13:18.247939",
     "exception": false,
     "start_time": "2025-06-10T20:13:18.031324",
     "status": "completed"
    },
    "tags": []
   },
   "outputs": [
    {
     "data": {
      "image/png": "[encoded data removed]",
      "text/plain": [
       "<Figure size 640x480 with 2 Axes>"
      ]
     },
     "metadata": {},
     "output_type": "display_data"
    }
   ],
   "source": [
    "confusion_matrix(Y_test, Y_pred.round())\n",
    "pyplot.imshow(\n",
    "    confusion_matrix(Y_test, Y_pred.round()), cmap=\"binary\", interpolation=\"None\"\n",
    ")\n",
    "pyplot.title(\"Confusion Matrix\")\n",
    "pyplot.xlabel(\"Predicted\")\n",
    "pyplot.ylabel(\"Actual\")\n",
    "pyplot.xticks([0, 1])\n",
    "pyplot.yticks([0, 1])\n",
    "pyplot.colorbar()\n",
    "pyplot.show()"
   ]
  }
 ],
 "metadata": {
  "kaggle": {
   "accelerator": "none",
   "dataSources": [],
   "isGpuEnabled": false,
   "isInternetEnabled": true,
   "language": "python",
   "sourceType": "notebook"
  },
  "kernelspec": {
   "display_name": "Python 3",
   "language": "python",
   "name": "python3"
  },
  "language_info": {
   "codemirror_mode": {
    "name": "ipython",
    "version": 3
   },
   "file_extension": ".py",
   "mimetype": "text/x-python",
   "name": "python",
   "nbconvert_exporter": "python",
   "pygments_lexer": "ipython3",
   "version": "3.11.11"
  },
  "papermill": {
   "default_parameters": {},
   "duration": 247.355821,
   "end_time": "2025-06-10T20:13:19.086714",
   "environment_variables": {},
   "exception": null,
   "input_path": "__notebook__.ipynb",
   "output_path": "__notebook__.ipynb",
   "parameters": {},
   "start_time": "2025-06-10T20:09:11.730893",
   "version": "2.5.0"
  }
 },
 "nbformat": 4,
 "nbformat_minor": 5
}