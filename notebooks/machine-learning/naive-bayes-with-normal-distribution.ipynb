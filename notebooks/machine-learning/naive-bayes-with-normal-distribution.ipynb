{
 "cells": [
  {
   "cell_type": "markdown",
   "id": "7fb27b941602401d91542211134fc71a",
   "metadata": {},
   "source": [
    "<a href=\"https://www.kaggle.com/code/mh0386/naive-bayes-with-normal-distribution?scriptVersionId=221958330\" target=\"_blank\"><img align=\"left\" alt=\"Kaggle\" title=\"Open in Kaggle\" src=\"https://kaggle.com/static/images/open-in-kaggle.svg\"></a>"
   ]
  },
  {
   "cell_type": "code",
   "execution_count": null,
   "id": "47c8ced8",
   "metadata": {},
   "outputs": [],
   "source": [
    "from sklearn.model_selection import train_test_split\n",
    "from sklearn.naive_bayes import GaussianNB\n",
    "from sklearn.metrics import (\n",
    "    accuracy_score,\n",
    "    confusion_matrix,\n",
    "    classification_report,\n",
    "    ConfusionMatrixDisplay,\n",
    "    f1_score,\n",
    ")\n",
    "from sklearn.datasets import make_classification\n",
    "import matplotlib.pyplot as plt\n",
    "import numpy as np"
   ]
  },
  {
   "cell_type": "code",
   "execution_count": null,
   "id": "4d21b225",
   "metadata": {},
   "outputs": [],
   "source": [
    "x, y = make_classification(\n",
    "    n_features=4, n_classes=2, n_samples=2000, n_informative=4, n_redundant=0\n",
    ")"
   ]
  },
  {
   "cell_type": "code",
   "execution_count": null,
   "id": "f2ed97c5",
   "metadata": {},
   "outputs": [],
   "source": [
    "plt.scatter(x[:, 0], x[:, 1], c=y, marker=\"*\")"
   ]
  },
  {
   "cell_type": "code",
   "execution_count": null,
   "id": "04ed97cc",
   "metadata": {},
   "outputs": [],
   "source": [
    "x.shape, y.shape"
   ]
  },
  {
   "cell_type": "code",
   "execution_count": null,
   "id": "f42f4069",
   "metadata": {},
   "outputs": [],
   "source": [
    "x_train, x_test, y_train, y_test = train_test_split(x, y, test_size=0.3)"
   ]
  },
  {
   "cell_type": "code",
   "execution_count": null,
   "id": "2b85f477",
   "metadata": {},
   "outputs": [],
   "source": [
    "print(x_train.shape, x_test.shape, y_train.shape, y_test.shape)"
   ]
  },
  {
   "cell_type": "markdown",
   "id": "b9b140d1",
   "metadata": {},
   "source": [
    "# Naive Bayes from Built-in\n"
   ]
  },
  {
   "cell_type": "code",
   "execution_count": null,
   "id": "dca95e85",
   "metadata": {},
   "outputs": [],
   "source": [
    "classifier = GaussianNB()"
   ]
  },
  {
   "cell_type": "code",
   "execution_count": null,
   "id": "f2392327",
   "metadata": {},
   "outputs": [],
   "source": [
    "classifier.fit(x_train, y_train)"
   ]
  },
  {
   "cell_type": "code",
   "execution_count": null,
   "id": "e81e2872",
   "metadata": {},
   "outputs": [],
   "source": [
    "y_pred = classifier.predict(x_test)"
   ]
  },
  {
   "cell_type": "code",
   "execution_count": null,
   "id": "3c603247",
   "metadata": {},
   "outputs": [],
   "source": [
    "accuracy_score(y_test, y_pred)"
   ]
  },
  {
   "cell_type": "code",
   "execution_count": null,
   "id": "5596d8f1",
   "metadata": {},
   "outputs": [],
   "source": [
    "f1_score(y_pred, y_test, average=\"weighted\")"
   ]
  },
  {
   "cell_type": "code",
   "execution_count": null,
   "id": "2b5049af",
   "metadata": {},
   "outputs": [],
   "source": [
    "ConfusionMatrixDisplay(\n",
    "    confusion_matrix=confusion_matrix(y_test, y_pred, labels=[0, 1]),\n",
    "    display_labels=[0, 1],\n",
    ").plot()"
   ]
  },
  {
   "cell_type": "code",
   "execution_count": null,
   "id": "11dcb8a1",
   "metadata": {},
   "outputs": [],
   "source": [
    "print(classification_report(y_test, y_pred, target_names=[\"class 0\", \"class 1\"]))"
   ]
  },
  {
   "cell_type": "markdown",
   "id": "280da34f",
   "metadata": {},
   "source": [
    "# Naive Bayes from Scratch\n"
   ]
  },
  {
   "cell_type": "code",
   "execution_count": null,
   "id": "96332a43",
   "metadata": {},
   "outputs": [],
   "source": [
    "class naive_bayes:\n",
    "    def __init__(self):\n",
    "        pass\n",
    "\n",
    "    def fit(self, x, y):\n",
    "        self.x, self.y = x, y\n",
    "        self.classes = list(set(y))\n",
    "        self.parameters = []\n",
    "        for i, c in enumerate(self.classes):\n",
    "            x_where_c = x[np.where(y == c)]\n",
    "            self.parameters.append([])\n",
    "            for col in x_where_c.T:\n",
    "                self.parameters[i].append({\"mean\": col.mean(), \"std\": col.std()})\n",
    "\n",
    "    def predict(self, x):\n",
    "        self.prediction = []\n",
    "        for row in x:\n",
    "            probs = []\n",
    "            for i, c in enumerate(self.classes):\n",
    "                prob = len(self.y[self.y == c]) / len(self.y)\n",
    "                for feature, param in zip(row, self.parameters[i]):\n",
    "                    prob *= self.gaussian_prob(feature, param[\"mean\"], param[\"std\"])\n",
    "                probs.append(prob)\n",
    "            self.prediction.append(self.classes[np.argmax(probs)])\n",
    "        return self.prediction\n",
    "\n",
    "    def gaussian_prob(self, x, mean, std):\n",
    "        return (1 / (std * np.sqrt(2 * np.pi))) * np.exp(\n",
    "            -((x - mean) ** 2) / (2 * std**2)\n",
    "        )"
   ]
  },
  {
   "cell_type": "code",
   "execution_count": null,
   "id": "a75bb23a",
   "metadata": {},
   "outputs": [],
   "source": [
    "model = naive_bayes()"
   ]
  },
  {
   "cell_type": "code",
   "execution_count": null,
   "id": "e6f999f8",
   "metadata": {},
   "outputs": [],
   "source": [
    "model.fit(x_train, y_train)"
   ]
  },
  {
   "cell_type": "code",
   "execution_count": null,
   "id": "f258a6fb",
   "metadata": {},
   "outputs": [],
   "source": [
    "y_pred = model.predict(x_test)"
   ]
  },
  {
   "cell_type": "code",
   "execution_count": null,
   "id": "5b6f635f",
   "metadata": {},
   "outputs": [],
   "source": [
    "accuracy_score(y_test, y_pred)"
   ]
  },
  {
   "cell_type": "code",
   "execution_count": null,
   "id": "6c8dea7f",
   "metadata": {},
   "outputs": [],
   "source": [
    "f1_score(y_pred, y_test, average=\"weighted\")"
   ]
  },
  {
   "cell_type": "code",
   "execution_count": null,
   "id": "37a2e8b4",
   "metadata": {},
   "outputs": [],
   "source": [
    "ConfusionMatrixDisplay(\n",
    "    confusion_matrix=confusion_matrix(y_test, y_pred, labels=[0, 1]),\n",
    "    display_labels=[0, 1],\n",
    ").plot()"
   ]
  },
  {
   "cell_type": "code",
   "execution_count": null,
   "id": "a5b41cf9",
   "metadata": {},
   "outputs": [],
   "source": [
    "print(classification_report(y_test, y_pred))"
   ]
  }
 ],
 "metadata": {
  "kaggle": {
   "accelerator": "none",
   "dataSources": [],
   "dockerImageVersionId": 30698,
   "isGpuEnabled": false,
   "isInternetEnabled": true,
   "language": "python",
   "sourceType": "notebook"
  },
  "kernelspec": {
   "display_name": "Python 3",
   "language": "python",
   "name": "python3"
  },
  "language_info": {
   "codemirror_mode": {
    "name": "ipython",
    "version": 3
   },
   "file_extension": ".py",
   "mimetype": "text/x-python",
   "name": "python",
   "nbconvert_exporter": "python",
   "pygments_lexer": "ipython3"
  },
  "papermill": {
   "default_parameters": {},
   "duration": 6.59068,
   "end_time": "2025-02-11T10:55:26.539338",
   "environment_variables": {},
   "exception": null,
   "input_path": "__notebook__.ipynb",
   "output_path": "__notebook__.ipynb",
   "parameters": {},
   "start_time": "2025-02-11T10:55:19.948658",
   "version": "2.5.0"
  }
 },
 "nbformat": 4,
 "nbformat_minor": 5
}
