{
 "cells": [
  {
   "cell_type": "markdown",
   "id": "6ee5a0b0",
   "metadata": {},
   "source": [
    "<a href=\"https://www.kaggle.com/code/mh0386/inception-network?scriptVersionId=239917340\" target=\"_blank\"><img align=\"left\" alt=\"Kaggle\" title=\"Open in Kaggle\" src=\"https://kaggle.com/static/images/open-in-kaggle.svg\"></a>"
   ]
  },
  {
   "cell_type": "code",
   "execution_count": null,
   "id": "019e09e3",
   "metadata": {},
   "outputs": [],
   "source": [
    "from os import listdir\n",
    "\n",
    "from kagglehub import dataset_download\n",
    "from keras import Model\n",
    "from keras.src.applications.inception_v3 import InceptionV3\n",
    "from keras.src.layers import Dense, GlobalAveragePooling2D\n",
    "from keras.src.utils import load_img, to_categorical\n",
    "from matplotlib import pyplot\n",
    "from numpy import argmax, asarray, zeros\n",
    "from PIL import Image\n",
    "from seaborn import heatmap\n",
    "from sklearn.metrics import classification_report, confusion_matrix\n",
    "from sklearn.model_selection import train_test_split"
   ]
  },
  {
   "cell_type": "code",
   "execution_count": null,
   "id": "53f81673",
   "metadata": {},
   "outputs": [],
   "source": [
    "dataset_path = dataset_download(\"abhinavnayak/catsvdogs-transformed\")\n",
    "print(\"Path to dataset files:\", dataset_path)"
   ]
  },
  {
   "cell_type": "code",
   "execution_count": null,
   "id": "7f5f9158",
   "metadata": {},
   "outputs": [],
   "source": [
    "data_path: str = f\"{dataset_path}/train_transformed/\"\n",
    "print(data_path)"
   ]
  },
  {
   "cell_type": "code",
   "execution_count": null,
   "id": "b647173b",
   "metadata": {},
   "outputs": [],
   "source": [
    "list_of_images = listdir(data_path)\n",
    "number_of_images: int = len(list_of_images)\n",
    "print(number_of_images)"
   ]
  },
  {
   "cell_type": "code",
   "execution_count": null,
   "id": "be7557d0",
   "metadata": {},
   "outputs": [],
   "source": [
    "i = 1\n",
    "pyplot.figure(figsize=(10, 10))\n",
    "for image in list_of_images:\n",
    "    if i > 5:\n",
    "        break\n",
    "    img = load_img(data_path + image)\n",
    "    pyplot.subplot(1, 5, i)\n",
    "    pyplot.imshow(img)\n",
    "    pyplot.title(str(img.size))\n",
    "    pyplot.axis(\"off\")\n",
    "    i += 1\n",
    "\n",
    "pyplot.show()"
   ]
  },
  {
   "cell_type": "code",
   "execution_count": null,
   "id": "2c1a0ab7",
   "metadata": {},
   "outputs": [],
   "source": [
    "images = zeros((number_of_images, 224, 224, 3))\n",
    "labels = zeros((number_of_images, 1))"
   ]
  },
  {
   "cell_type": "code",
   "execution_count": null,
   "id": "cc849ab2",
   "metadata": {},
   "outputs": [],
   "source": [
    "for image_number, image_path in enumerate(list_of_images):\n",
    "    img = Image.open(data_path + image_path)\n",
    "    img = asarray(img)\n",
    "    img = img / img.max()\n",
    "    images[image_number] = img\n",
    "    labels[image_number] = 0 if \"cat\" in image_path else 1"
   ]
  },
  {
   "cell_type": "code",
   "execution_count": null,
   "id": "d446be73",
   "metadata": {},
   "outputs": [],
   "source": [
    "print(labels)"
   ]
  },
  {
   "cell_type": "code",
   "execution_count": null,
   "id": "8c392b28",
   "metadata": {},
   "outputs": [],
   "source": [
    "labels = to_categorical(labels)"
   ]
  },
  {
   "cell_type": "code",
   "execution_count": null,
   "id": "1cea8269",
   "metadata": {},
   "outputs": [],
   "source": [
    "print(labels)"
   ]
  },
  {
   "cell_type": "code",
   "execution_count": null,
   "id": "06cf1a99",
   "metadata": {},
   "outputs": [],
   "source": [
    "images.shape"
   ]
  },
  {
   "cell_type": "code",
   "execution_count": null,
   "id": "2989696c",
   "metadata": {},
   "outputs": [],
   "source": [
    "pyplot.imshow(images[0])"
   ]
  },
  {
   "cell_type": "code",
   "execution_count": null,
   "id": "03cf55ed",
   "metadata": {},
   "outputs": [],
   "source": [
    "x_train, x_test, y_train, y_test = train_test_split(\n",
    "    images, labels, test_size=0.2, random_state=42\n",
    ")"
   ]
  },
  {
   "cell_type": "code",
   "execution_count": null,
   "id": "dc7aa2c4",
   "metadata": {},
   "outputs": [],
   "source": [
    "x_train.shape, x_test.shape, y_train.shape, y_test.shape"
   ]
  },
  {
   "cell_type": "code",
   "execution_count": null,
   "id": "3f8db561",
   "metadata": {},
   "outputs": [],
   "source": [
    "x_train, x_test = x_train / 255.0, x_test / 255.0"
   ]
  },
  {
   "cell_type": "code",
   "execution_count": null,
   "id": "7e0ca1e0",
   "metadata": {},
   "outputs": [],
   "source": [
    "model = InceptionV3(\n",
    "    include_top=False,\n",
    "    weights=\"imagenet\",\n",
    "    input_shape=(224, 224, 3),\n",
    ")"
   ]
  },
  {
   "cell_type": "code",
   "execution_count": null,
   "id": "7cde34bc",
   "metadata": {},
   "outputs": [],
   "source": [
    "# Freeze the pre-trained layers\n",
    "for layer in model.layers:\n",
    "    layer.trainable = False"
   ]
  },
  {
   "cell_type": "code",
   "execution_count": null,
   "id": "c3986139",
   "metadata": {},
   "outputs": [],
   "source": [
    "# Add layers using calls:\n",
    "x = model.output  # Get the output of the InceptionV3 base\n",
    "x = GlobalAveragePooling2D()(x)\n",
    "x = Dense(512, activation=\"relu\")(x)\n",
    "predictions = Dense(2, activation=\"softmax\")(x)"
   ]
  },
  {
   "cell_type": "code",
   "execution_count": null,
   "id": "c37dd19a",
   "metadata": {},
   "outputs": [],
   "source": [
    "# Create a new Functional model with these layers:\n",
    "model = Model(inputs=model.input, outputs=predictions)"
   ]
  },
  {
   "cell_type": "code",
   "execution_count": null,
   "id": "5a6984a4",
   "metadata": {},
   "outputs": [],
   "source": [
    "model.compile(loss=\"categorical_crossentropy\", optimizer=\"adam\", metrics=[\"accuracy\"])"
   ]
  },
  {
   "cell_type": "code",
   "execution_count": null,
   "id": "0fd8dedd",
   "metadata": {},
   "outputs": [],
   "source": [
    "history = model.fit(x_train, y_train, epochs=50)"
   ]
  },
  {
   "cell_type": "code",
   "execution_count": null,
   "id": "ad31373c",
   "metadata": {},
   "outputs": [],
   "source": [
    "pyplot.plot(history.history[\"accuracy\"])\n",
    "pyplot.plot(history.history[\"loss\"])\n",
    "pyplot.title(\"Model Accuracy\")\n",
    "pyplot.ylabel(\"Accuracy\")\n",
    "pyplot.xlabel(\"Epoch\")\n",
    "pyplot.show()"
   ]
  },
  {
   "cell_type": "code",
   "execution_count": null,
   "id": "402d5977",
   "metadata": {},
   "outputs": [],
   "source": [
    "model.evaluate(x_test, y_test)"
   ]
  },
  {
   "cell_type": "code",
   "execution_count": null,
   "id": "d359cf7b",
   "metadata": {},
   "outputs": [],
   "source": [
    "y_predict = model.predict(x_test)"
   ]
  },
  {
   "cell_type": "code",
   "execution_count": null,
   "id": "9852de4f",
   "metadata": {},
   "outputs": [],
   "source": [
    "y_predict = argmax(y_predict, axis=1)\n",
    "y_test_argmax = argmax(y_test, axis=1)"
   ]
  },
  {
   "cell_type": "code",
   "execution_count": null,
   "id": "7c7ba74a",
   "metadata": {},
   "outputs": [],
   "source": [
    "cm = confusion_matrix(y_test_argmax, y_predict)\n",
    "heatmap(cm, annot=True, fmt=\"d\")"
   ]
  },
  {
   "cell_type": "code",
   "execution_count": null,
   "id": "33067c93",
   "metadata": {},
   "outputs": [],
   "source": [
    "cr = classification_report(y_test_argmax, y_predict)\n",
    "print(cr)"
   ]
  }
 ],
 "metadata": {
  "kaggle": {
   "accelerator": "gpu",
   "dataSources": [
    {
     "databundleVersionId": 2961557,
     "datasetId": 1786300,
     "sourceId": 2914256,
     "sourceType": "datasetVersion"
    }
   ],
   "isGpuEnabled": true,
   "isInternetEnabled": true,
   "language": "python",
   "sourceType": "notebook"
  },
  "kernelspec": {
   "display_name": "Python 3",
   "language": "python",
   "name": "python3"
  },
  "language_info": {
   "codemirror_mode": {
    "name": "ipython",
    "version": 3
   },
   "file_extension": ".py",
   "mimetype": "text/x-python",
   "name": "python",
   "nbconvert_exporter": "python",
   "pygments_lexer": "ipython3"
  },
  "papermill": {
   "default_parameters": {},
   "duration": 199.239043,
   "end_time": "2025-05-15T15:35:55.105606",
   "environment_variables": {},
   "exception": null,
   "input_path": "__notebook__.ipynb",
   "output_path": "__notebook__.ipynb",
   "parameters": {},
   "start_time": "2025-05-15T15:32:35.866563",
   "version": "2.6.0"
  }
 },
 "nbformat": 4,
 "nbformat_minor": 5
}
