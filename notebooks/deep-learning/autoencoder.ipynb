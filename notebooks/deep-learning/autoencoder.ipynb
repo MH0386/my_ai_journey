{
 "cells": [
  {
   "cell_type": "markdown",
   "id": "aff85cb0",
   "metadata": {},
   "source": [
    "<a href=\"https://www.kaggle.com/code/mh0386/autoencoder?scriptVersionId=244729590\" target=\"_blank\"><img align=\"left\" alt=\"Kaggle\" title=\"Open in Kaggle\" src=\"https://kaggle.com/static/images/open-in-kaggle.svg\"></a>"
   ]
  },
  {
   "cell_type": "code",
   "execution_count": null,
   "id": "625fe98e",
   "metadata": {},
   "outputs": [],
   "source": [
    "from matplotlib import pyplot\n",
    "from numpy import float32, random, array, prod, arange, clip, ndarray\n",
    "from tensorflow.keras import layers, Model, backend\n",
    "from tensorflow.keras.datasets import cifar10\n",
    "from tensorflow.keras.layers import Input, Conv2D, MaxPooling2D, UpSampling2D"
   ]
  },
  {
   "cell_type": "code",
   "execution_count": null,
   "id": "5a3730e0",
   "metadata": {},
   "outputs": [],
   "source": [
    "data = cifar10.load_data()\n",
    "(x_train, _), (x_test, _) = data\n",
    "x_train = array(x_train)\n",
    "x_test = array(x_test)"
   ]
  },
  {
   "cell_type": "code",
   "execution_count": null,
   "id": "fbf2793b",
   "metadata": {},
   "outputs": [],
   "source": [
    "x_train.shape"
   ]
  },
  {
   "cell_type": "code",
   "execution_count": null,
   "id": "bc2e2e31",
   "metadata": {},
   "outputs": [],
   "source": [
    "i = 1\n",
    "pyplot.figure(figsize=(10, 10))\n",
    "for image in x_train:\n",
    "    if i > 5:\n",
    "        break\n",
    "    pyplot.subplot(1, 5, i)\n",
    "    pyplot.imshow(image)\n",
    "    pyplot.axis(\"off\")\n",
    "    i += 1\n",
    "pyplot.show()"
   ]
  },
  {
   "cell_type": "code",
   "execution_count": null,
   "id": "5e78c9c9",
   "metadata": {},
   "outputs": [],
   "source": [
    "x_train = x_train.astype(float32) / 255.0\n",
    "x_test = x_test.astype(float32) / 255.0"
   ]
  },
  {
   "cell_type": "code",
   "execution_count": null,
   "id": "4b133098",
   "metadata": {},
   "outputs": [],
   "source": [
    "i = 1\n",
    "pyplot.figure(figsize=(10, 10))\n",
    "for image in x_train:\n",
    "    if i > 5:\n",
    "        break\n",
    "    pyplot.subplot(1, 5, i)\n",
    "    pyplot.imshow(image)\n",
    "    pyplot.axis(\"off\")\n",
    "    i += 1\n",
    "pyplot.show()"
   ]
  },
  {
   "cell_type": "code",
   "execution_count": null,
   "id": "88dc5c5a",
   "metadata": {},
   "outputs": [],
   "source": [
    "x_train_flattened = x_train.reshape((len(x_train), prod(x_train.shape[1:])))\n",
    "x_test_flattened = x_test.reshape((len(x_test), prod(x_test.shape[1:])))"
   ]
  },
  {
   "cell_type": "code",
   "execution_count": null,
   "id": "3bc28844",
   "metadata": {},
   "outputs": [],
   "source": [
    "x_train_flattened.shape, x_test_flattened.shape"
   ]
  },
  {
   "cell_type": "code",
   "execution_count": null,
   "id": "87dc8353",
   "metadata": {},
   "outputs": [],
   "source": [
    "encoding_dim = 100  # This is the size of our encoded representations"
   ]
  },
  {
   "cell_type": "markdown",
   "id": "61ca64e7",
   "metadata": {},
   "source": [
    "## Create Autoencoder Model"
   ]
  },
  {
   "cell_type": "code",
   "execution_count": null,
   "id": "73a477a1",
   "metadata": {},
   "outputs": [],
   "source": [
    "input_img = Input(shape=(3072,))\n",
    "\n",
    "# Encoder\n",
    "x = layers.Dense(1000, activation=\"relu\")(input_img)\n",
    "x = layers.Dense(500, activation=\"relu\")(x)\n",
    "x = layers.Dense(200, activation=\"relu\")(x)\n",
    "encoded = layers.Dense(encoding_dim, activation=\"relu\")(x)  # Define encoding dimension\n",
    "\n",
    "# Decoder\n",
    "x = layers.Dense(200, activation=\"relu\")(encoded)\n",
    "x = layers.Dense(500, activation=\"relu\")(x)\n",
    "x = layers.Dense(1000, activation=\"relu\")(x)\n",
    "decoded = layers.Dense(3072, activation=\"sigmoid\")(x)  # Match output dimension to input\n",
    "\n",
    "autoencoder = Model(input_img, decoded)"
   ]
  },
  {
   "cell_type": "code",
   "execution_count": null,
   "id": "39050d01",
   "metadata": {},
   "outputs": [],
   "source": [
    "autoencoder.compile(loss=\"mse\", optimizer=\"adam\")"
   ]
  },
  {
   "cell_type": "code",
   "execution_count": null,
   "id": "cc96da28",
   "metadata": {},
   "outputs": [],
   "source": [
    "h = autoencoder.fit(x_train_flattened, x_train_flattened, epochs=100, batch_size=64)"
   ]
  },
  {
   "cell_type": "code",
   "execution_count": null,
   "id": "0c584efa",
   "metadata": {},
   "outputs": [],
   "source": [
    "pyplot.figure(figsize=(10, 10))\n",
    "pyplot.plot(arange(0, 100), h.history[\"loss\"])\n",
    "pyplot.title(\"Training Loss\")\n",
    "pyplot.xlabel(\"Epoch\")\n",
    "pyplot.ylabel(\"Loss\")\n",
    "pyplot.legend()\n",
    "pyplot.show()"
   ]
  },
  {
   "cell_type": "code",
   "execution_count": null,
   "id": "9aeb8e93",
   "metadata": {},
   "outputs": [],
   "source": [
    "encoder = Model(input_img, encoded)"
   ]
  },
  {
   "cell_type": "code",
   "execution_count": null,
   "id": "a6eb4684",
   "metadata": {},
   "outputs": [],
   "source": [
    "encoded_input = Input(shape=(encoding_dim,))\n",
    "decoder_l1 = autoencoder.layers[-4]\n",
    "decoder_l2 = autoencoder.layers[-3]\n",
    "decoder_l3 = autoencoder.layers[-2]\n",
    "decoder_l4 = autoencoder.layers[-1]\n",
    "# as if I am multiplying the last layer with the code layer to get the last output\n",
    "decoder = Model(\n",
    "    encoded_input, decoder_l4(decoder_l3(decoder_l2(decoder_l1(encoded_input))))\n",
    ")"
   ]
  },
  {
   "cell_type": "code",
   "execution_count": null,
   "id": "10635a61",
   "metadata": {},
   "outputs": [],
   "source": [
    "encoded_images = encoder.predict(x_test_flattened)\n",
    "decoded_images = decoder.predict(encoded_images)"
   ]
  },
  {
   "cell_type": "code",
   "execution_count": null,
   "id": "9dd12d95",
   "metadata": {},
   "outputs": [],
   "source": [
    "n = 15\n",
    "pyplot.figure(figsize=(20, 4))\n",
    "for i in range(n):\n",
    "    ax = pyplot.subplot(2, n, i + 1)\n",
    "    pyplot.imshow(x_test_flattened[i].reshape(32, 32, 3))\n",
    "    pyplot.gray()\n",
    "    ax.get_xaxis().set_visible(False)\n",
    "    ax.get_yaxis().set_visible(False)\n",
    "\n",
    "    ax = pyplot.subplot(2, n, i + 1 + n)\n",
    "    pyplot.imshow(decoded_images[i].reshape(32, 32, 3))\n",
    "    pyplot.gray()\n",
    "    ax.get_xaxis().set_visible(False)\n",
    "    ax.get_yaxis().set_visible(False)\n",
    "pyplot.show()"
   ]
  },
  {
   "cell_type": "code",
   "execution_count": null,
   "id": "93cca50d",
   "metadata": {},
   "outputs": [],
   "source": [
    "n = 15\n",
    "pyplot.figure(figsize=(20, 4))\n",
    "for i in range(n):\n",
    "    ax = pyplot.subplot(3, n, i + 1)\n",
    "    pyplot.imshow(x_test_flattened[i].reshape(32, 32, 3))\n",
    "    pyplot.gray()\n",
    "    ax.get_xaxis().set_visible(False)\n",
    "    ax.get_yaxis().set_visible(False)\n",
    "\n",
    "    ax = pyplot.subplot(3, n, i + 1 + n)\n",
    "    pyplot.imshow(encoded_images[i].reshape(10, 10))\n",
    "    pyplot.gray()\n",
    "    ax.get_xaxis().set_visible(False)\n",
    "    ax.get_yaxis().set_visible(False)\n",
    "\n",
    "    ax = pyplot.subplot(3, n, i + 1 + 2 * n)\n",
    "    pyplot.imshow(decoded_images[i].reshape(32, 32, 3))\n",
    "    pyplot.gray()\n",
    "    ax.get_xaxis().set_visible(False)\n",
    "    ax.get_yaxis().set_visible(False)\n",
    "pyplot.show()"
   ]
  },
  {
   "cell_type": "code",
   "execution_count": null,
   "id": "78877c9e",
   "metadata": {},
   "outputs": [],
   "source": [
    "def add_gaussian_noise(images: ndarray, mean: float, std_dev: float) -> ndarray:\n",
    "    noise = random.normal(mean, std_dev, size=images.shape)\n",
    "    return clip(images + noise, 0.0, 1.0)"
   ]
  },
  {
   "cell_type": "code",
   "execution_count": null,
   "id": "97a522a7",
   "metadata": {},
   "outputs": [],
   "source": [
    "mean = 0\n",
    "sigma = 0.1"
   ]
  },
  {
   "cell_type": "code",
   "execution_count": null,
   "id": "7961f68b",
   "metadata": {},
   "outputs": [],
   "source": [
    "x_train_noisy = add_gaussian_noise(x_train, mean, sigma)\n",
    "x_test_noisy = add_gaussian_noise(x_test, mean, sigma)"
   ]
  },
  {
   "cell_type": "code",
   "execution_count": null,
   "id": "965c2249",
   "metadata": {},
   "outputs": [],
   "source": [
    "x_train_noisy.shape, x_test_noisy.shape"
   ]
  },
  {
   "cell_type": "code",
   "execution_count": null,
   "id": "2f1a07de",
   "metadata": {},
   "outputs": [],
   "source": [
    "x_train_noisy_flattened = x_train_noisy.reshape(\n",
    "    (len(x_train_noisy), prod(x_train_noisy.shape[1:]))\n",
    ")\n",
    "x_test_noisy_flattened = x_test_noisy.reshape(\n",
    "    (len(x_test_noisy), prod(x_test_noisy.shape[1:]))\n",
    ")"
   ]
  },
  {
   "cell_type": "code",
   "execution_count": null,
   "id": "4fe4232c",
   "metadata": {},
   "outputs": [],
   "source": [
    "backend.clear_session()"
   ]
  },
  {
   "cell_type": "markdown",
   "id": "8eda3dfd",
   "metadata": {},
   "source": [
    "### After Adding Noise"
   ]
  },
  {
   "cell_type": "code",
   "execution_count": null,
   "id": "4510f930",
   "metadata": {},
   "outputs": [],
   "source": [
    "autoencoder.compile(optimizer=\"adam\", loss=\"mse\")"
   ]
  },
  {
   "cell_type": "code",
   "execution_count": null,
   "id": "78514db4",
   "metadata": {},
   "outputs": [],
   "source": [
    "h = autoencoder.fit(\n",
    "    x_train_noisy_flattened, x_train_flattened, epochs=100, batch_size=64\n",
    ")"
   ]
  },
  {
   "cell_type": "code",
   "execution_count": null,
   "id": "04cc004a",
   "metadata": {},
   "outputs": [],
   "source": [
    "encoded_images_noisy = encoder.predict(x_test_noisy_flattened)\n",
    "decoded_images_noisy = decoder.predict(encoded_images_noisy)"
   ]
  },
  {
   "cell_type": "code",
   "execution_count": null,
   "id": "7fb18056",
   "metadata": {},
   "outputs": [],
   "source": [
    "n = 15\n",
    "pyplot.figure(figsize=(20, 4))\n",
    "for i in range(n):\n",
    "    ax = pyplot.subplot(3, n, i + 1)\n",
    "    pyplot.imshow(x_test_noisy[i].reshape(32, 32, 3))\n",
    "    pyplot.gray()\n",
    "    ax.get_xaxis().set_visible(False)\n",
    "    ax.get_yaxis().set_visible(False)\n",
    "\n",
    "    ax = pyplot.subplot(3, n, i + 1 + n)\n",
    "    pyplot.imshow(encoded_images_noisy[i].reshape(10, 10))\n",
    "    pyplot.gray()\n",
    "    ax.get_xaxis().set_visible(False)\n",
    "    ax.get_yaxis().set_visible(False)\n",
    "\n",
    "    ax = pyplot.subplot(3, n, i + 1 + 2 * n)\n",
    "    pyplot.imshow(decoded_images_noisy[i].reshape(32, 32, 3))\n",
    "    pyplot.gray()\n",
    "    ax.get_xaxis().set_visible(False)\n",
    "    ax.get_yaxis().set_visible(False)\n",
    "pyplot.show()"
   ]
  },
  {
   "cell_type": "code",
   "execution_count": null,
   "id": "7540cd36",
   "metadata": {},
   "outputs": [],
   "source": [
    "def add_noise_to_code(encoded: ndarray, mean: float, std_dev: float) -> ndarray:\n",
    "    noise = backend.random_normal(\n",
    "        shape=backend.shape(encoded), mean=mean, stddev=std_dev\n",
    "    )\n",
    "    return encoded + noise"
   ]
  },
  {
   "cell_type": "code",
   "execution_count": null,
   "id": "1423002d",
   "metadata": {},
   "outputs": [],
   "source": [
    "encoded_images = encoder.predict(x_test_flattened)\n",
    "encoded_images_noisy = add_noise_to_code(encoded_images_noisy, mean, sigma)\n",
    "decoded_images_noisy = decoder.predict(encoded_images_noisy)"
   ]
  },
  {
   "cell_type": "code",
   "execution_count": null,
   "id": "59332bd4",
   "metadata": {},
   "outputs": [],
   "source": [
    "encoded_images_noisy = array(encoded_images_noisy)"
   ]
  },
  {
   "cell_type": "code",
   "execution_count": null,
   "id": "6a22350e",
   "metadata": {},
   "outputs": [],
   "source": [
    "n = 15\n",
    "pyplot.figure(figsize=(20, 4))\n",
    "for i in range(n):\n",
    "    ax = pyplot.subplot(3, n, i + 1)\n",
    "    pyplot.imshow(x_test_flattened[i].reshape(32, 32, 3))\n",
    "    pyplot.gray()\n",
    "    ax.get_xaxis().set_visible(False)\n",
    "    ax.get_yaxis().set_visible(False)\n",
    "\n",
    "    ax = pyplot.subplot(3, n, i + 1 + n)\n",
    "    pyplot.imshow(encoded_images_noisy[i].reshape(10, 10))\n",
    "    pyplot.gray()\n",
    "    ax.get_xaxis().set_visible(False)\n",
    "    ax.get_yaxis().set_visible(False)\n",
    "\n",
    "    ax = pyplot.subplot(3, n, i + 1 + 2 * n)\n",
    "    pyplot.imshow(decoded_images_noisy[i].reshape(32, 32, 3))\n",
    "    pyplot.gray()\n",
    "    ax.get_xaxis().set_visible(False)\n",
    "    ax.get_yaxis().set_visible(False)\n",
    "pyplot.show()"
   ]
  },
  {
   "cell_type": "markdown",
   "id": "03bd37ac",
   "metadata": {},
   "source": [
    "## Create CNN Autoencoder Model"
   ]
  },
  {
   "cell_type": "code",
   "execution_count": null,
   "id": "40542c4f",
   "metadata": {},
   "outputs": [],
   "source": [
    "input_img = Input(shape=(32, 32, 3))\n",
    "\n",
    "# Encoder\n",
    "x = Conv2D(32, (3, 3), activation=\"relu\", padding=\"same\")(input_img)\n",
    "x = MaxPooling2D((2, 2), padding=\"same\")(x)\n",
    "x = Conv2D(64, (3, 3), activation=\"relu\", padding=\"same\")(x)\n",
    "encoded = MaxPooling2D((2, 2), padding=\"same\")(x)\n",
    "\n",
    "# Decoder\n",
    "x = Conv2D(64, (3, 3), activation=\"relu\", padding=\"same\")(encoded)\n",
    "x = UpSampling2D((2, 2))(x)\n",
    "x = Conv2D(32, (3, 3), activation=\"relu\", padding=\"same\")(x)\n",
    "x = UpSampling2D((2, 2))(x)\n",
    "decoded = Conv2D(3, (3, 3), activation=\"sigmoid\", padding=\"same\")(x)\n",
    "\n",
    "autoencoder = Model(input_img, decoded)"
   ]
  },
  {
   "cell_type": "code",
   "execution_count": null,
   "id": "f4eb12fe",
   "metadata": {},
   "outputs": [],
   "source": [
    "autoencoder.compile(optimizer=\"adam\", loss=\"binary_crossentropy\")"
   ]
  },
  {
   "cell_type": "code",
   "execution_count": null,
   "id": "64ff3ca2",
   "metadata": {},
   "outputs": [],
   "source": [
    "h = autoencoder.fit(x_train, x_train, epochs=100, batch_size=64)"
   ]
  },
  {
   "cell_type": "code",
   "execution_count": null,
   "id": "d36e4763",
   "metadata": {},
   "outputs": [],
   "source": [
    "pyplot.figure(figsize=(10, 10))\n",
    "pyplot.plot(arange(0, 100), h.history[\"loss\"])\n",
    "pyplot.title(\"Training Loss\")\n",
    "pyplot.xlabel(\"Epoch\")\n",
    "pyplot.ylabel(\"Loss\")\n",
    "pyplot.legend()\n",
    "pyplot.show()"
   ]
  }
 ],
 "metadata": {
  "accelerator": "TPU",
  "colab": {
   "provenance": []
  },
  "kaggle": {
   "accelerator": "gpu",
   "dataSources": [],
   "isGpuEnabled": true,
   "isInternetEnabled": true,
   "language": "python",
   "sourceType": "notebook"
  },
  "kernelspec": {
   "display_name": "Python 3",
   "language": "python",
   "name": "python3"
  },
  "language_info": {
   "codemirror_mode": {
    "name": "ipython",
    "version": 3
   },
   "file_extension": ".py",
   "mimetype": "text/x-python",
   "name": "python",
   "nbconvert_exporter": "python",
   "pygments_lexer": "ipython3"
  },
  "papermill": {
   "default_parameters": {},
   "duration": 1140.856941,
   "end_time": "2025-06-10T16:14:59.325622",
   "environment_variables": {},
   "exception": null,
   "input_path": "__notebook__.ipynb",
   "output_path": "__notebook__.ipynb",
   "parameters": {},
   "start_time": "2025-06-10T15:55:58.468681",
   "version": "2.4.0"
  }
 },
 "nbformat": 4,
 "nbformat_minor": 5
}
